{
 "cells": [
  {
   "cell_type": "markdown",
   "metadata": {
    "colab_type": "text",
    "id": "thQWHShjWsXN",
    "slideshow": {
     "slide_type": "slide"
    }
   },
   "source": [
    "(ch:end2end)=\n",
    "# 머신러닝 프로젝트 처음부터 끝까지"
   ]
  },
  {
   "cell_type": "markdown",
   "metadata": {
    "slideshow": {
     "slide_type": "slide"
    }
   },
   "source": [
    "**감사의 글**\n",
    "\n",
    "자료를 공개한 저자 오렐리앙 제롱과 강의자료를 지원한 한빛아카데미에게 진심어린 감사를 전합니다."
   ]
  },
  {
   "cell_type": "markdown",
   "metadata": {},
   "source": [
    "**소스코드**\n",
    "\n",
    "본문 내용의 일부를 파이썬으로 구현한 내용은 \n",
    "[(구글코랩) 머신러닝 프로젝트 처음부터 끝까지](https://colab.research.google.com/github/codingalzi/handson-ml3/blob/master/notebooks/code_end2end_ml_project.ipynb)에서 \n",
    "확인할 수 있다."
   ]
  },
  {
   "cell_type": "markdown",
   "metadata": {
    "slideshow": {
     "slide_type": "slide"
    }
   },
   "source": [
    "**주요 내용**\n",
    "\n",
    "주택 가격을 예측하는 다양한 **회귀 모델**<font size=\"2\">regression model</font>의\n",
    "훈련 과정을 이용하여 머신러닝 시스템의 전체 훈련 과정을 살펴본다."
   ]
  },
  {
   "cell_type": "markdown",
   "metadata": {
    "slideshow": {
     "slide_type": "slide"
    }
   },
   "source": [
    "<p><div align=\"center\"><img src=\"https://raw.githubusercontent.com/codingalzi/handson-ml3/master/jupyter-book/imgs/ch02/homl02-01d.png\" width=\"600\"></div></p>"
   ]
  },
  {
   "cell_type": "markdown",
   "metadata": {},
   "source": [
    "특히 데이터 정제 및 전처리 과정으로 구성된 데이터 준비를 상세히 소개한다."
   ]
  },
  {
   "cell_type": "markdown",
   "metadata": {},
   "source": [
    "**슬라이드**\n",
    "\n",
    "본문 내용을 요약한\n",
    "[슬라이드 1부](https://github.com/codingalzi/handson-ml3/raw/master/slides/slides-end2end_ml_project-1.pdf),\n",
    "[슬라이드 2부](https://github.com/codingalzi/handson-ml3/raw/master/slides/slides-end2end_ml_project-2.pdf),\n",
    "[슬라이드 3부](https://github.com/codingalzi/handson-ml3/raw/master/slides/slides-end2end_ml_project-3.pdf)를\n",
    "다운로드할 수 있다."
   ]
  },
  {
   "cell_type": "markdown",
   "metadata": {
    "colab_type": "text",
    "id": "qwdlFWhDYRaQ",
    "slideshow": {
     "slide_type": "slide"
    }
   },
   "source": [
    "## 실전 데이터 활용"
   ]
  },
  {
   "cell_type": "markdown",
   "metadata": {},
   "source": [
    "다양한 실전 데이터를 모아놓은 데이터 저장소를\n",
    "머신러닝 공부에 유용하게 활용할 수 있다.\n",
    "가장 유명한 데이터 저장소는 다음과 같다.\n",
    "\n",
    "* [OpenML](https://www.openml.org/)\n",
    "* [캐글(Kaggle) 데이터셋](http://www.kaggle.com/datasets)\n",
    "* [페이퍼스 위드 코드](https://paperswithcode.com/)\n",
    "* [UC 어바인(UC Irvine) 대학교 머신러닝 저장소](http://archive.ics.uci.edu/ml)\n",
    "* [아마존 AWS 데이터셋](https://registry.opendata.aws)\n",
    "* [텐서플로우 데이터셋](https://www.tensorflow.org/datasets)\n",
    "\n",
    "여기서는 1990년 미국 캘리포니아 주에서 수집한 주택가격 데이터를 사용하며,\n",
    "데이터의 원본은 다양한 공개 저장소에서 다운로드할 수 있다.\n",
    "아래 그림은 원본 csv 파일의 일부 내용을 보여준다."
   ]
  },
  {
   "cell_type": "markdown",
   "metadata": {
    "slideshow": {
     "slide_type": ""
    }
   },
   "source": [
    "<p><div align=\"center\"><img src=\"https://raw.githubusercontent.com/codingalzi/handson-ml3/master/jupyter-book/imgs/ch02/housing-data.png\" width=\"800\"></div></p>"
   ]
  },
  {
   "cell_type": "markdown",
   "metadata": {
    "colab_type": "text",
    "id": "qwdlFWhDYRaQ",
    "slideshow": {
     "slide_type": "slide"
    }
   },
   "source": [
    "## 큰 그림 그리기"
   ]
  },
  {
   "cell_type": "markdown",
   "metadata": {},
   "source": [
    "머신러닝으로 문제를 해결하려면 먼저 관련된 데이터를 구하고 기초적인 정보를 확인한 후에\n",
    "어떤 모델을 어떻게 훈련시킬 것인가를 판단한다.\n",
    "먼저 캘리포니아 주택가격 데이터의 기초 정보는 다음과 같다."
   ]
  },
  {
   "cell_type": "markdown",
   "metadata": {
    "slideshow": {
     "slide_type": "slide"
    }
   },
   "source": [
    "### 데이터 기초 정보 확인"
   ]
  },
  {
   "cell_type": "markdown",
   "metadata": {
    "slideshow": {
     "slide_type": "slide"
    }
   },
   "source": [
    "1990년도에 시행된 미국 캘리포니아 주의 20,640개 구역별 주택가격 데이터는\n",
    "경도, 위도, 주택 건물 중위연령, 총 방 수, 총 침실 수, 인구, 가구 수, 중위소득, 주택 중위가격, 해안 근접도\n",
    "등 총 10개의 **특성**을 포함한다. "
   ]
  },
  {
   "cell_type": "markdown",
   "metadata": {
    "slideshow": {
     "slide_type": ""
    }
   },
   "source": [
    "<p><div align=\"center\"><img src=\"https://raw.githubusercontent.com/codingalzi/handson-ml3/master/jupyter-book/imgs/ch02/LA-USA01.png\" width=\"600\"></div></p>"
   ]
  },
  {
   "cell_type": "markdown",
   "metadata": {},
   "source": [
    "10개의 특성 중에서 주택 중위가격이 부동산과 관련해서 매우 중요하다.\n",
    "따라서 어떤 구역에 대해 주택 중위가격을 제외한 9개의 특성이 주어졌을 때 해당 구역의 주택 중위가격을\n",
    "예측하는 시스템을 \n",
    "머신러닝 모델로 구현하고자 한다."
   ]
  },
  {
   "cell_type": "markdown",
   "metadata": {
    "slideshow": {
     "slide_type": "slide"
    }
   },
   "source": [
    "### 훈련 모델 확인"
   ]
  },
  {
   "cell_type": "markdown",
   "metadata": {},
   "source": [
    "구역별 주택 중위가격을 예측하는 시스템에 활용될\n",
    "**회귀 모델**을 훈련시키고자 한다.\n",
    "훈련시킬 모델의 특성은 다음과 같다.\n",
    "\n",
    "* 지도 학습: 구역별 주택 중위가격을 **타깃**<font size='2'>target</font>, 즉\n",
    "    최대한 정확하게 예측해야 하는 목표로 지정한다. \n",
    "\n",
    "* 회귀: 주택 중위가격, 즉 이산형 값이 아닌 연속형 값을 예측한다. \n",
    "    보다 세분화하면 다중 회귀이자 단변량 회귀 모델이다.\n",
    "  * 다중 회귀<font size=\"2\">multiple regression</font>: 구역별로 여러 특성을 주택 가격 예측에 사용\n",
    "  * 단변량 회귀<font size=\"2\">univariate regression</font>: 구역별로 한 종류의 값만 예측\n",
    "\n",
    "* 배치 학습: 빠르게 변하는 데이터에 적응할 필요가 없으며, 데이터셋의 크기도 충분히 작기에\n",
    "    데이터셋 전체를 대상으로 훈련을 진행한다."
   ]
  },
  {
   "cell_type": "markdown",
   "metadata": {},
   "source": [
    ":::{admonition} 이산형 데이터 vs 연속형 데이터\n",
    ":class: note\n",
    "\n",
    "이산형 데이터<font size=\"2\">descrete values</font>는 1, 2, 3, 등 값과 값 사이를 명확하게 구분할 수 있는 데이터을 가리킨다.\n",
    "반면에 연속형 데이터<font size='2'>continuous values</font>은 유리수, 실수 처럼 두 개의 값 사이에 항상 새로운 값이\n",
    "존재하는 데이터이다.\n",
    ":::"
   ]
  },
  {
   "cell_type": "markdown",
   "metadata": {},
   "source": [
    "## 데이터 구하기"
   ]
  },
  {
   "cell_type": "markdown",
   "metadata": {},
   "source": [
    "캘리포니아 주택가격 데이터는 매우 유명하여 많은 공개 저장소에서 다운로드할 수 있다.\n",
    "여기서는 개인 깃허브 리포지토리에 압축파일로 저장한 파일을 다운로드해서 사용한다.\n",
    "\n",
    "아래 코드의 `load_housing_data()` 함수는\n",
    "지정된 깃허브 리포지토리에 압축파일로 저장되어 있는\n",
    "캘리포니아 주택가격 데이터를 다운로드한 후에 \n",
    "Pandas 데이터프레임으로 변환하여 반환한다.\n",
    "따라서 `housing` 변수는 캘리포니아 주택가격 데이터를 담고 있는 데이터프레임을 가리킨다."
   ]
  },
  {
   "cell_type": "markdown",
   "metadata": {},
   "source": [
    "```python\n",
    "housing = load_housing_data()\n",
    "```"
   ]
  },
  {
   "cell_type": "markdown",
   "metadata": {
    "slideshow": {
     "slide_type": "slide"
    }
   },
   "source": [
    "## 데이터 탐색과 시각화"
   ]
  },
  {
   "cell_type": "markdown",
   "metadata": {},
   "source": [
    "데이터 탐색은 훈련을 시작하기 전에 주어진 데이터셋의\n",
    "다양한 특성을 대략적으로 살펴보는 과정이다.\n",
    "데이터 시각화는 데이터 탐색을 위한 주요 기법 중의 하나이다.\n",
    "먼저 데이터프레임의 메서드를 활용한 데이터 탐색을 알아본다."
   ]
  },
  {
   "cell_type": "markdown",
   "metadata": {
    "colab_type": "text",
    "id": "s_h3CHk2auLP",
    "slideshow": {
     "slide_type": ""
    }
   },
   "source": [
    "### 데이터프레임과 데이터 탐색"
   ]
  },
  {
   "cell_type": "markdown",
   "metadata": {
    "colab_type": "text",
    "id": "s_h3CHk2auLP",
    "slideshow": {
     "slide_type": ""
    }
   },
   "source": [
    "Pandas의 데이터프레임으로 적재된 데이터셋의 기본적인 데이터 구조를\n",
    "다양한 메서드를 이용하여 훑어본다."
   ]
  },
  {
   "cell_type": "markdown",
   "metadata": {
    "slideshow": {
     "slide_type": ""
    }
   },
   "source": [
    "**`head()` 메서드**"
   ]
  },
  {
   "cell_type": "markdown",
   "metadata": {
    "slideshow": {
     "slide_type": ""
    }
   },
   "source": [
    "데이터프레임에 포함된 처음 5개 샘플을 보여준다."
   ]
  },
  {
   "cell_type": "markdown",
   "metadata": {},
   "source": [
    "```python\n",
    "housing.head()\n",
    "```"
   ]
  },
  {
   "cell_type": "markdown",
   "metadata": {
    "slideshow": {
     "slide_type": ""
    }
   },
   "source": [
    "<p><div align=\"left\"><img src=\"https://raw.githubusercontent.com/codingalzi/handson-ml3/master/jupyter-book/imgs/ch02/homl02-05.png\" width=\"1000\"></div></p>"
   ]
  },
  {
   "cell_type": "markdown",
   "metadata": {
    "slideshow": {
     "slide_type": "slide"
    }
   },
   "source": [
    "**`info()` 메서드**"
   ]
  },
  {
   "cell_type": "markdown",
   "metadata": {
    "slideshow": {
     "slide_type": "slide"
    }
   },
   "source": [
    "데이터셋의 정보를 요약해서 보여준다.\n",
    "\n",
    "* 구역 수: 20,640개.\n",
    "* 구역별로 경도, 위도, 주택 건물 중위연령, 해안 근접도 등 총 10개의 조사 항목.\n",
    "* 해안 근접도를 뜻하는 `ocean_proximity` 특성은 **범주형**<font size='2'>categorical</font>이고 \n",
    "    나머지는 **수치형**<font size='2'>numerical</font> 특성임.\n",
    "    - 특성의  `Dtype`이 `object`: 범주형 데이터\n",
    "    - 특성의  `Dtype`이 `float64`: 수치형 데이터\n",
    "* 총 방 수를 뜻하는 `total_bedrooms` 특성은 207개의 null 값, 즉 결측치 포함."
   ]
  },
  {
   "cell_type": "markdown",
   "metadata": {},
   "source": [
    "```python\n",
    "housing.info()\n",
    "```"
   ]
  },
  {
   "cell_type": "markdown",
   "metadata": {
    "slideshow": {
     "slide_type": "slide"
    }
   },
   "source": [
    "<p><div align=\"left\"><img src=\"https://raw.githubusercontent.com/codingalzi/handson-ml3/master/jupyter-book/imgs/ch02/homl02-05a.png\" width=\"350\"></div></p>"
   ]
  },
  {
   "cell_type": "markdown",
   "metadata": {
    "colab_type": "text",
    "id": "89eR3tIyeWAh",
    "slideshow": {
     "slide_type": "slide"
    }
   },
   "source": [
    "**범주형 특성 탐색: `valule_counts()` 메서드**\n",
    "\n",
    "'해안 근접도'는 5개의 범주로 구분된다.\n",
    "`valule_counts()` 메서드는 사용된 특성값과 각각의 특성값이 사용된 횟수를 확인해준다."
   ]
  },
  {
   "cell_type": "markdown",
   "metadata": {},
   "source": [
    "```python\n",
    "housing[\"ocean_proximity\"].value_counts()\n",
    "```"
   ]
  },
  {
   "cell_type": "markdown",
   "metadata": {
    "slideshow": {
     "slide_type": "slide"
    }
   },
   "source": [
    "<p><div align=\"left\"><img src=\"https://raw.githubusercontent.com/codingalzi/handson-ml3/master/jupyter-book/imgs/ch02/homl02-05b.png\" width=\"250\"></div></p>"
   ]
  },
  {
   "cell_type": "markdown",
   "metadata": {},
   "source": [
    "각 특성값의 의미는 다음과 같다."
   ]
  },
  {
   "cell_type": "markdown",
   "metadata": {
    "colab_type": "text",
    "id": "89eR3tIyeWAh",
    "slideshow": {
     "slide_type": "slide"
    }
   },
   "source": [
    "%%HTML\n",
    "\n",
    "<style>\n",
    "td,th {\n",
    "  font-size: 13px\n",
    "}\n",
    "</style>\n",
    "\n",
    "| 특성값 | 설명 |\n",
    "| :--- | :--- |\n",
    "| <1H OCEAN | 해안에서 1시간 이내 |\n",
    "| INLAND | 내륙 |\n",
    "| NEAR OCEAN | 해안 근처 |\n",
    "| NEAR BAY | 샌프란시스코의 Bay Area 구역 |\n",
    "| ISLAND | 섬  |"
   ]
  },
  {
   "cell_type": "markdown",
   "metadata": {
    "colab_type": "text",
    "id": "89eR3tIyeWAh",
    "slideshow": {
     "slide_type": "slide"
    }
   },
   "source": [
    "**수치형 특성 탐색**\n",
    "\n",
    "`describe()` 메서드는 평균값, 표준편차, 사분범위 등 수치형 특성들의 정보를 요약해서 보여준다."
   ]
  },
  {
   "cell_type": "markdown",
   "metadata": {},
   "source": [
    "```python\n",
    "housing.describe()\n",
    "```"
   ]
  },
  {
   "cell_type": "markdown",
   "metadata": {
    "colab_type": "text",
    "id": "89eR3tIyeWAh",
    "slideshow": {
     "slide_type": "slide"
    }
   },
   "source": [
    "<p><div align=\"left\"><img src=\"https://raw.githubusercontent.com/codingalzi/handson-ml3/master/jupyter-book/imgs/ch02/housing-describe.png\" width=\"100%\"></div></p>"
   ]
  },
  {
   "cell_type": "markdown",
   "metadata": {
    "colab_type": "text",
    "id": "89eR3tIyeWAh",
    "slideshow": {
     "slide_type": "slide"
    }
   },
   "source": [
    "**수치형 특성별 히스토그램**"
   ]
  },
  {
   "cell_type": "markdown",
   "metadata": {
    "colab_type": "text",
    "id": "89eR3tIyeWAh",
    "slideshow": {
     "slide_type": "slide"
    }
   },
   "source": [
    "`hist()` 메서드가 수치형 특성별로 히스토그램을 그린다.\n",
    "아래 9개의 히스토그램으로부터 다음 정보를 얻을 수 있다.\n",
    "\n",
    "- 각 특성마다 사용되는 단위와 스케일이 다르다. 1 단위부터 만 단위까지 다양하다.\n",
    "- 일부 특성은 한쪽으로 치우쳐저 있다. \n",
    "    예를 들어 `total_rooms`, `total_bedrooms`, `population`, `households` 등의 특성값들이 오른쪽 꼬리를 길게 갖는다.\n",
    "- 일부 특성은 값을 제한한 것으로 보인다. \n",
    " 예를 들어 `housing_median_age`, `median_house_value` 등의 특성값 상한값이 임의로 지정되어 잘린 것처럼 보인다."
   ]
  },
  {
   "cell_type": "markdown",
   "metadata": {},
   "source": [
    "```python\n",
    "housing.hist(bins=50, figsize=(12, 8))\n",
    "```"
   ]
  },
  {
   "cell_type": "markdown",
   "metadata": {
    "colab_type": "text",
    "id": "89eR3tIyeWAh",
    "slideshow": {
     "slide_type": ""
    }
   },
   "source": [
    "<p><div align=\"left\"><img src=\"https://raw.githubusercontent.com/codingalzi/handson-ml3/master/jupyter-book/imgs/ch02/feature-histogram.png\" width=\"100%\"></div></p>"
   ]
  },
  {
   "cell_type": "markdown",
   "metadata": {
    "slideshow": {
     "slide_type": "slide"
    }
   },
   "source": [
    "### 훈련셋과 테스트셋"
   ]
  },
  {
   "cell_type": "markdown",
   "metadata": {
    "colab_type": "text",
    "id": "zLanZHeniLbF",
    "slideshow": {
     "slide_type": ""
    }
   },
   "source": [
    "모델 훈련을 시작하기 전에 준비된 데이터셋을 보통 **훈련셋**<font size='2'>training set</font>과\n",
    "**테스트셋**<font size='2'>test set</font>으로 나눈다.\n",
    "테스트셋은 훈련 과정중에 전혀 사용되지 않으며 보통 전체 데이터셋의 20% 이하로\n",
    "선택하며, 전체 데이터셋의 크기에 따라 테스트셋의 크기가 너무 크지 않게 \n",
    "비율을 적절히 조절한다.\n",
    "훈련셋의 일부는 훈련 중에 훈련의 진척 정도를 측정하는 **검증**<font size=\"2\">valdation</font> 용도로 활용된다."
   ]
  },
  {
   "cell_type": "markdown",
   "metadata": {
    "colab_type": "text",
    "id": "zLanZHeniLbF",
    "slideshow": {
     "slide_type": ""
    }
   },
   "source": [
    "<p><div align=\"center\"><img src=\"https://github.com/codingalzi/handson-ml3/blob/master/jupyter-book/imgs/ch01/train-test-validation.jpg?raw=true\" style=\"width:400px;\"></div></p>"
   ]
  },
  {
   "cell_type": "markdown",
   "metadata": {
    "colab_type": "text",
    "id": "zLanZHeniLbF",
    "slideshow": {
     "slide_type": ""
    }
   },
   "source": [
    "데이터셋을 훈련셋과 데이터셋으로 나눌 때 보통 계층 샘플링을 사용한다."
   ]
  },
  {
   "cell_type": "markdown",
   "metadata": {
    "colab_type": "text",
    "id": "MAdy7ViRn95b",
    "slideshow": {
     "slide_type": "slide"
    }
   },
   "source": [
    "**계층 샘플링**\n",
    "\n",
    "각 계층별로 적절한 양의 샘플을 추출하는 기법이 **계층 샘플링**<font size=\"2\">stratified sampling</font>이다.\n",
    "계층은 유사한 성질의 데이터로 구성된 그룹이며, \n",
    "계층 샘플링을 사용해야 하는 이유는 계층별로 충분한 양의 샘플이 훈련셋으로 추출되어야 \n",
    "훈련 과정에서 편향이 발생하지 않기 때문이다.\n",
    "예를 들어, 특정 소득 구간에 포함된 샘플이 과하게 적거나 과하게 많으면 해당 계층의 중요도가 \n",
    "과소 혹은 과대 평가되어 데이터의 실제 특성과 차이(편향)를 보일 수 있다."
   ]
  },
  {
   "cell_type": "markdown",
   "metadata": {
    "colab_type": "text",
    "id": "MAdy7ViRn95b",
    "slideshow": {
     "slide_type": "slide"
    }
   },
   "source": [
    "캘리포니아 주택가격 데이터셋을 훈련셋과 테스트셋으로 나눌 때 \n",
    "중위소득 특성을 계층 샘플링의 기준으로 삼는다.\n",
    "이유는 여기서 훈련시키고자 하는 모델이 구역별 주택 중위가격을 예측하는 모델인데\n",
    "아무래도 중위 주택가격이 구역에 사는 가구의 중위소득과 밀접하게 연관되어 있을 것이기 때문이다."
   ]
  },
  {
   "cell_type": "markdown",
   "metadata": {
    "colab_type": "text",
    "id": "MAdy7ViRn95b",
    "slideshow": {
     "slide_type": "slide"
    }
   },
   "source": [
    "먼저 구역별 중위소득 특성을 대상으로 히스토그램을 그려보면\n",
    "대부분 구역의 중위소득이 1.5 ~ 6.0, 즉 15,000에서 60,000 달러 사이인 것을 알 수 있다.\n",
    "`hist()` 메서드를 특성에 대해 적용하면 하나의 히스토그램을 그린다."
   ]
  },
  {
   "cell_type": "markdown",
   "metadata": {},
   "source": [
    "```python\n",
    "housing['median_income'].hist()\n",
    "```"
   ]
  },
  {
   "cell_type": "markdown",
   "metadata": {
    "colab_type": "text",
    "id": "MAdy7ViRn95b",
    "slideshow": {
     "slide_type": "slide"
    }
   },
   "source": [
    "<p><div align=\"left\"><img src=\"https://raw.githubusercontent.com/codingalzi/handson-ml3/master/jupyter-book/imgs/ch02/homl02-08.png\" width=\"400\"></div></p>"
   ]
  },
  {
   "cell_type": "markdown",
   "metadata": {
    "colab_type": "text",
    "id": "MAdy7ViRn95b",
    "slideshow": {
     "slide_type": "slide"
    }
   },
   "source": [
    "따라서 중위소득 구간을 아래처럼 5개로 구분한 다음에 계층 샘플링을 이용하여\n",
    "훈련셋과 테스트셋을 구분하면 좋을 것 같아 보인다."
   ]
  },
  {
   "cell_type": "markdown",
   "metadata": {
    "colab_type": "text",
    "id": "MAdy7ViRn95b",
    "slideshow": {
     "slide_type": "slide"
    }
   },
   "source": [
    "%%HTML\n",
    "\n",
    "<style>\n",
    "td,th {\n",
    "  font-size: 13px\n",
    "}\n",
    "</style>\n",
    "\n",
    "| 구간 | 범위 |\n",
    "| :---: | :--- |\n",
    "| 1 | 0 ~ 1.5 |\n",
    "| 2 | 1.5 ~ 3.0 |\n",
    "| 3 | 3.0 ~ 4.5 |\n",
    "| 4 | 4.5 ~ 6.0 |\n",
    "| 5 | 6.0 ~  |"
   ]
  },
  {
   "cell_type": "markdown",
   "metadata": {},
   "source": [
    "먼저 언급된 5 개의 구간으로 구분하는 `\"income_cat\"` 특성을 추가한다.\n",
    "`pd.cut()` 함수는 특성과 구간 구분이 주어지면 각 구간에 해당하는 특성값들에 지정된 레이블을 할당하는\n",
    "형식으로 새로운 특성값들을 만들어 낸다."
   ]
  },
  {
   "cell_type": "markdown",
   "metadata": {},
   "source": [
    "```python\n",
    "housing[\"income_cat\"] = pd.cut(housing[\"median_income\"],\n",
    "                               bins=[0., 1.5, 3.0, 4.5, 6., np.inf],\n",
    "                               labels=[1, 2, 3, 4, 5])\n",
    "```"
   ]
  },
  {
   "cell_type": "markdown",
   "metadata": {},
   "source": [
    "`income_cat` 특성에 따른 데이터 분포는 다음과 같다."
   ]
  },
  {
   "cell_type": "markdown",
   "metadata": {},
   "source": [
    "```python\n",
    "housing[\"income_cat\"].value_counts().sort_index().plot.bar(rot=0, grid=True)\n",
    "plt.xlabel(\"Income category\")\n",
    "plt.ylabel(\"Number of districts\")\n",
    "```"
   ]
  },
  {
   "cell_type": "markdown",
   "metadata": {
    "colab_type": "text",
    "id": "MAdy7ViRn95b",
    "slideshow": {
     "slide_type": "slide"
    }
   },
   "source": [
    "<p><div align=\"left\"><img src=\"https://raw.githubusercontent.com/codingalzi/handson-ml3/master/jupyter-book/imgs/ch02/homl02-08a.png\" width=\"400\"></div></p>"
   ]
  },
  {
   "cell_type": "markdown",
   "metadata": {},
   "source": [
    "이제 `\"income_cat\"` 특성에 사용된 값들의 분포 비율을 반영하면서 \n",
    "훈련셋과 테스트셋을 8대 2로 나눈다.\n",
    "사이킷런의 `train_test_split()` 함수는 데이터프레임에 속한 샘플을\n",
    "지정된 비율로 두 개의 데이터프레임으로 나눌 때\n",
    "계층 샘플링을 지원한다."
   ]
  },
  {
   "cell_type": "markdown",
   "metadata": {},
   "source": [
    "```python\n",
    "from sklearn.model_selection import train_test_split\n",
    "\n",
    "strat_train_set, strat_test_set = train_test_split(housing, \n",
    "                                                   test_size=0.2, \n",
    "                                                   stratify=housing[\"income_cat\"], \n",
    "                                                   random_state=42)\n",
    "```"
   ]
  },
  {
   "cell_type": "markdown",
   "metadata": {
    "colab_type": "text",
    "id": "MAdy7ViRn95b",
    "slideshow": {
     "slide_type": "slide"
    }
   },
   "source": [
    "계층 샘플링이 무작위 샘플링보다 계층별 샘플의 비율을 훨씬 잘 유지함을 아래 표가 확인해준다."
   ]
  },
  {
   "cell_type": "markdown",
   "metadata": {},
   "source": [
    "%%HTML\n",
    "\n",
    "<style>\n",
    "td,th {\n",
    "  font-size: 13px\n",
    "}\n",
    "</style>\n",
    "\n",
    "| 소득 구간 | 전체(%) | 계층 샘플링(%) | 무작위 샘플링(%) |\n",
    "| :---: | ---: | ---: | ---: |\n",
    "| 1 | 3.98 | 4.00 | 4.24 |\n",
    "| 2 | 31.88 | 31.88 | 30.74 |\n",
    "| 3 | 35.06 | 35.05 | 34.52 |\n",
    "| 4 | 17.63 | 17.64 | 18.41 |\n",
    "| 5\t| 11.44 | 11.43 | 12.09 |"
   ]
  },
  {
   "cell_type": "markdown",
   "metadata": {
    "colab_type": "text",
    "id": "0pNv1s-Fte3j",
    "slideshow": {
     "slide_type": "slide"
    }
   },
   "source": [
    "### 데이터 시각화"
   ]
  },
  {
   "cell_type": "markdown",
   "metadata": {},
   "source": [
    "데이터 시각화는 지금까지와는 달리 훈련셋만을 대상으로 진행한다.\n",
    "아래 코드는 `housing` 변수가 가리키는 데이터프레임을 전체 데이터셋에서\n",
    "계층 샘플링을 이용하여 생성된 훈련셋의 복사본으로 변경한다.\n",
    "\n",
    "```python\n",
    "housing = strat_train_set.copy()\n",
    "```\n",
    "\n",
    "일반적으로 테스트셋에 대한 데이터 탐색은 너무 깊이 하지 않는다.\n",
    "머신러닝 모델의 훈련을 종료한 후에 실전 테스트 용도로 활용되는 테스트셋에 대해\n",
    "너무 많은 정보를 많이 알게 되면 이를 이용하여 훈련을 달리할 수 있다.\n",
    "하지만 그러면 제대로 된 실전 테스트를 진행할 수 없게 되어\n",
    "훈련된 모델의 실전 성능을 정확히 파악하기 어렵다."
   ]
  },
  {
   "cell_type": "markdown",
   "metadata": {
    "colab_type": "text",
    "id": "fzqr7BiZubTI",
    "slideshow": {
     "slide_type": "slide"
    }
   },
   "source": [
    "**지리적 데이터 시각화**"
   ]
  },
  {
   "cell_type": "markdown",
   "metadata": {
    "colab_type": "text",
    "id": "fzqr7BiZubTI",
    "slideshow": {
     "slide_type": "slide"
    }
   },
   "source": [
    "먼저 데이터의 지리적 분포를 시각화한다. \n",
    "즉, 경도와 위도 정보를 이용하여 구역 정보를 산포도로 나타내면 인구의 밀집 정도를 확인할 수 있다. \n",
    "예를 들어, 샌프란시스코의 Bay Area, LA, 샌디에고 등 유명 대도시의 특정 구역이 높은 인구 밀도를 갖는다.\n",
    "\n",
    "데이터프레임의 `plot()` 메서드는 다양한 종류의 그래프를 그린다.\n",
    "`kind` 매개변수의 키워드 인자를 `\"scatter\"`로 지정하면 산점도를 그린다.\n",
    "이외에 다양한 키워드 인자를 그래프 옵션으로 지정할 수 있다.\n",
    "예를 들어 구역의 주택 중위가격을 색상으로, \n",
    "인구밀도는 원의 크기로 활용하면\n",
    "인구 밀도가 높은 유명 대도시의 특정 구역에 위치한\n",
    "주택 가격이 높다는 일반적인 사실 또한 쉽게 확인된다."
   ]
  },
  {
   "cell_type": "markdown",
   "metadata": {},
   "source": [
    "```python\n",
    "housing.plot(kind=\"scatter\", \n",
    "             x=\"longitude\", \n",
    "             y=\"latitude\", \n",
    "             grid=True,\n",
    "             s=housing[\"population\"] / 100, \n",
    "             label=\"population\",\n",
    "             c=\"median_house_value\", \n",
    "             cmap=\"jet\", \n",
    "             colorbar=True,\n",
    "             legend=True, \n",
    "             figsize=(10, 7))\n",
    "```"
   ]
  },
  {
   "cell_type": "markdown",
   "metadata": {
    "colab_type": "text",
    "id": "fzqr7BiZubTI",
    "slideshow": {
     "slide_type": ""
    }
   },
   "source": [
    "<p><div align=\"left\"><img src=\"https://raw.githubusercontent.com/codingalzi/handson-ml3/master/jupyter-book/imgs/ch02/homl02-10a.png\" width=\"600\"></div></p>"
   ]
  },
  {
   "cell_type": "markdown",
   "metadata": {
    "colab_type": "text",
    "id": "oWFcBTK1wYR8",
    "slideshow": {
     "slide_type": "slide"
    }
   },
   "source": [
    "아래 그림은 산점도와 캘리포니아 주의 실제 지도를 합친 결과이다."
   ]
  },
  {
   "cell_type": "markdown",
   "metadata": {
    "colab_type": "text",
    "id": "oWFcBTK1wYR8",
    "slideshow": {
     "slide_type": ""
    }
   },
   "source": [
    "<p><div align=\"left\"><img src=\"https://raw.githubusercontent.com/codingalzi/handson-ml3/master/jupyter-book/imgs/ch02/homl02-11.png\" width=\"600\"></div></p>"
   ]
  },
  {
   "cell_type": "markdown",
   "metadata": {
    "colab_type": "text",
    "id": "SJQ5zEF15bPF",
    "slideshow": {
     "slide_type": "slide"
    }
   },
   "source": [
    "**상관관계**"
   ]
  },
  {
   "cell_type": "markdown",
   "metadata": {
    "colab_type": "text",
    "id": "SJQ5zEF15bPF",
    "slideshow": {
     "slide_type": "slide"
    }
   },
   "source": [
    "데이터프레임의 `corr()` 메서드는 수치형 특성들 사이의 선형 상관계수를 계산한다."
   ]
  },
  {
   "cell_type": "markdown",
   "metadata": {
    "colab_type": "text",
    "id": "SJQ5zEF15bPF",
    "slideshow": {
     "slide_type": "slide"
    }
   },
   "source": [
    "```python\n",
    "corr_matrix = housing.corr()\n",
    "```"
   ]
  },
  {
   "cell_type": "markdown",
   "metadata": {
    "colab_type": "text",
    "id": "kfkSawGw5-PI",
    "slideshow": {
     "slide_type": "slide"
    }
   },
   "source": [
    "<p><div align=\"left\"><img src=\"https://raw.githubusercontent.com/codingalzi/handson-ml3/master/jupyter-book/imgs/ch02/homl02-12b.png\" width=\"100%\"></div></p>"
   ]
  },
  {
   "cell_type": "markdown",
   "metadata": {
    "colab_type": "text",
    "id": "SJQ5zEF15bPF",
    "slideshow": {
     "slide_type": "slide"
    }
   },
   "source": [
    "주택 중위가격 특성과 다른 특성 사이의 선형 상관관계를 나타내는 상관계수는 다음과 같다."
   ]
  },
  {
   "cell_type": "markdown",
   "metadata": {},
   "source": [
    "```python\n",
    "corr_matrix[\"median_house_value\"].sort_values(ascending=False)\n",
    "```"
   ]
  },
  {
   "cell_type": "markdown",
   "metadata": {
    "colab_type": "text",
    "id": "kfkSawGw5-PI",
    "slideshow": {
     "slide_type": "slide"
    }
   },
   "source": [
    "<p><div align=\"left\"><img src=\"https://raw.githubusercontent.com/codingalzi/handson-ml3/master/jupyter-book/imgs/ch02/homl02-12.png\" width=\"300\"></div></p>"
   ]
  },
  {
   "cell_type": "markdown",
   "metadata": {},
   "source": [
    "상관계수는 -1에서 1 사이의 값으로 표현된다."
   ]
  },
  {
   "cell_type": "markdown",
   "metadata": {},
   "source": [
    "%%HTML\n",
    "\n",
    "<style>\n",
    "td,th {\n",
    "  font-size: 13px\n",
    "}\n",
    "</style>\n",
    "\n",
    "| 상관계수 | 선형 상관관계 |\n",
    "| :--- | :--- |\n",
    "| 1에 가까울 수록 | 강한 양의 선형 상관관계 |\n",
    "| -1에 가까울 수록 | 강한 음의 선형 상관관계 |\n",
    "| 0에 가까울 수록 | 매 약한 선형 상관관계 |"
   ]
  },
  {
   "cell_type": "markdown",
   "metadata": {
    "colab_type": "text",
    "id": "9eWuYEE46kjc",
    "slideshow": {
     "slide_type": "slide"
    }
   },
   "source": [
    ":::{admonition} 상관계수와 상관관계\n",
    ":class: warning\n",
    "\n",
    "상관계수가 0이라는 것은 선형 상관관계가 없다는 의미이지 서로 아무런 상관관계가 없다는 말이 아니다.\n",
    "또한 선형계수가 1이라 하더라도 두 특성이 변하는 비율이 반드시 1대 1은 아니다.\n",
    "예를 들어 하나의 특성값이 1 커질 때 다른 특성값이 0.0001씩 변해도 선형계수는 1이다.\n",
    "즉, 하나의 특성값이 커질 때 다른 특성값이 일정하게 변하면 선형계수는 1이 된다.\n",
    "\n",
    "<p><div align=\"center\"><img src=\"https://raw.githubusercontent.com/codingalzi/handson-ml3/master/jupyter-book/imgs/ch02/homl02-14.png\" width=\"500\"></div></p>\n",
    "\n",
    "<그림 출처: [위키백과](https://en.wikipedia.org/wiki/Pearson_correlation_coefficient)>\n",
    ":::"
   ]
  },
  {
   "cell_type": "markdown",
   "metadata": {
    "colab_type": "text",
    "id": "kfkSawGw5-PI",
    "slideshow": {
     "slide_type": "slide"
    }
   },
   "source": [
    "주택 중위가격과 중위소득의 상관계수가 0.68로 가장 높다.\n",
    "이는 중위소득이 올라가면 주택 중위가격도 상승하는 경향이 나름 강하게 있음을 의미한다.\n",
    "하지만 아래 산점도의 점들이 너무 넓게 퍼져 있어서 완벽한 선형관계와는 거리가 멀다."
   ]
  },
  {
   "cell_type": "markdown",
   "metadata": {},
   "source": [
    "```python\n",
    "housing.plot(kind=\"scatter\", x=\"median_income\", y=\"median_house_value\", alpha=0.1, grid=True)\n",
    "```"
   ]
  },
  {
   "cell_type": "markdown",
   "metadata": {
    "colab_type": "text",
    "id": "kfkSawGw5-PI",
    "slideshow": {
     "slide_type": "slide"
    }
   },
   "source": [
    "<p><div align=\"left\"><img src=\"https://raw.githubusercontent.com/codingalzi/handson-ml3/master/jupyter-book/imgs/ch02/homl02-13.png\" width=\"400\"></div></p>"
   ]
  },
  {
   "cell_type": "markdown",
   "metadata": {
    "colab_type": "text",
    "id": "kfkSawGw5-PI",
    "slideshow": {
     "slide_type": ""
    }
   },
   "source": [
    "50만 달러에서 보이는 수평선은 50만 달러 이상은 모두 50만달러로 지정한 결과로 보여진다.\n",
    "그렇게 인위적으로 조작된 데이터는 모델 훈련에 도움이 되지 않아 \n",
    "제거하는 것이 일반적으로 좋지만 여기서는 그대로 두고 사용한다."
   ]
  },
  {
   "cell_type": "markdown",
   "metadata": {
    "colab_type": "text",
    "id": "mgRfhpKT8sD_",
    "slideshow": {
     "slide_type": "slide"
    }
   },
   "source": [
    "경우에 따라 기존의 특성을 조합해서 새로운 특성을 활용할 수도 있다.\n",
    "예를 들어 구역별 총 방 수와 총 침실 수 대신 아래 특성이 보다 유용해 보인다.\n",
    "\n",
    "* 가구당 방 수(`rooms_per_house`)\n",
    "* 침실 비율(`bedrooms_ratio`)\n",
    "* 가구당 인원(`people_per_house`)\n",
    "\n",
    "실제로 세 특성을 새로 추가한 다음에 상관계수를 확인하면 \n",
    "침실 비율과 주택 중위가격 사이의 선형 상관관계가\n",
    "중위소득을 제외한 기존의 다른 특성들에 비해 높게 나타난다."
   ]
  },
  {
   "cell_type": "markdown",
   "metadata": {
    "colab_type": "text",
    "id": "6YLe2AOC9t6i",
    "slideshow": {
     "slide_type": "slide"
    }
   },
   "source": [
    "## 데이터 준비: 정제와 전처리"
   ]
  },
  {
   "cell_type": "markdown",
   "metadata": {
    "slideshow": {
     "slide_type": ""
    }
   },
   "source": [
    "데이터 탐색을 통해 확인한 지도학습 회귀 모델을 훈련시키기 위해 먼저\n",
    "적절한 훈련용 데이터를 준비해야 한다.\n",
    "데이터 준비는 데이터 정제와 데이터 전처리 과정으로 이뤄진다."
   ]
  },
  {
   "cell_type": "markdown",
   "metadata": {
    "slideshow": {
     "slide_type": ""
    }
   },
   "source": [
    "**데이터 정제**\n",
    "\n",
    "일반적으로 결측치 처리, 이상치와 노이즈 제거를 의미한다.\n",
    "캘리포니아 주택가격 데이터셋은 구역별 총 방 수를 의미하는 `total_rooms` 특성에서 \n",
    "결측치가 일부 포함되어 있지만 이상치 또는 노이즈는 포함하지 않는다."
   ]
  },
  {
   "cell_type": "markdown",
   "metadata": {
    "colab_type": "text",
    "id": "6YLe2AOC9t6i",
    "slideshow": {
     "slide_type": ""
    }
   },
   "source": [
    "**데이터 전처리**\n",
    "\n",
    "수치형 특성과 범주형 특성을 구분하여 수행한다.\n",
    "캘리포니아 주택가격 데이터셋에 대한 전처리로 다음을 수행한다.\n",
    "\n",
    "* 범주형 특성 전처리: 원-핫-인코딩\n",
    "* 수치형 특성 전처리: 특성 스케일링과 특성 조합"
   ]
  },
  {
   "cell_type": "markdown",
   "metadata": {
    "colab_type": "text",
    "id": "a2qn8NG0-sze",
    "slideshow": {
     "slide_type": "slide"
    }
   },
   "source": [
    "**사이킷런 API 활용**"
   ]
  },
  {
   "cell_type": "markdown",
   "metadata": {
    "colab_type": "text",
    "id": "6YLe2AOC9t6i",
    "slideshow": {
     "slide_type": "slide"
    }
   },
   "source": [
    "데이터 정제와 전처리의 모든 과정은 데이터셋에 포함된 모든 샘플을\n",
    "대상으로 한꺼번에 진행된다.\n",
    "또한 사이킷런이 제공하는 다양한 종류의 \n",
    "**변환기**<font size='2'>transformer</font> API를 순차적으로 적용하는\n",
    "**파이프라인**<font size=\"2\">pipeline</font>을 구현하여\n",
    "모든 과정을 자동화할 수 있다."
   ]
  },
  {
   "cell_type": "markdown",
   "metadata": {},
   "source": [
    "사이킷런의 API는 일반적으로 다음 세 클래스의 인스턴스로 생성된다."
   ]
  },
  {
   "cell_type": "markdown",
   "metadata": {
    "colab_type": "text",
    "id": "hOUq-E_U_gFh",
    "slideshow": {
     "slide_type": "slide"
    }
   },
   "source": [
    "* 추정기<font size=\"2\">estimator</font>: `fit()` 메서드를 지원하는 클래스의 인스턴스\n",
    "* 변환기<font size=\"2\">transformer</font>: `fit()` 메서드와 `transform()` 메서드를 함께 지원하는 클래스의 인스턴서\n",
    "* 예측기<font size=\"2\">predictor</font>:  `fit()` 메서드와 `predict()` 메서드를 함께 지원하는 클래스의 인스턴스"
   ]
  },
  {
   "cell_type": "markdown",
   "metadata": {},
   "source": [
    "세 메서드의 역할은 다음과 같다."
   ]
  },
  {
   "cell_type": "markdown",
   "metadata": {
    "colab_type": "text",
    "id": "hOUq-E_U_gFh",
    "slideshow": {
     "slide_type": "slide"
    }
   },
   "source": [
    "* `fit()` 메서드\n",
    "    - 데이터셋이 주어졌을 때 데이터셋으로부터 필요한 정보를 추출하여 객체의 속성으로 저장 후 해당 객체를 반환.\n",
    "        즉, 객체의 속성을 업데이트.\n",
    "    - 변환기에서는 데이터 변환에 필요한 값 계산\n",
    "    - 예측기에서는 모델 훈련을 진행하여 모델의 파라미터<font size='2'>parameters</font> 계산."
   ]
  },
  {
   "cell_type": "markdown",
   "metadata": {
    "colab_type": "text",
    "id": "hOUq-E_U_gFh",
    "slideshow": {
     "slide_type": "slide"
    }
   },
   "source": [
    "* `transform()` 메서드\n",
    "    - 데이터셋이 주어졌을 때 `fit()` 메서드가 계산한 정보를 이용하여 데이터셋 변환.\n",
    "    - `fit()` 메서드를 먼저 호출한 후에 `transform()` 메서드를 호출해야 함.\n",
    "    - `fit_transform()` 메서드는 `fit()` 메서드와 `transform()` 메서드를 연속 호출."
   ]
  },
  {
   "cell_type": "markdown",
   "metadata": {
    "colab_type": "text",
    "id": "hOUq-E_U_gFh",
    "slideshow": {
     "slide_type": "slide"
    }
   },
   "source": [
    "* `predict()` 메서드\n",
    "    * `fit()` 메서드 훈련을 통해 계산한 모델 파라미터를 이용하여 예측값 계산.\n",
    "    * `predict()` 메서드가 예측한 값의 성능을 측정하는 `score()` 메서드도 일반적으로 함께 지원됨.\n",
    "    * 일부 예측기는 예측값의 신뢰도를 평가하는 기능도 함께 제공."
   ]
  },
  {
   "cell_type": "markdown",
   "metadata": {
    "colab_type": "text",
    "id": "tR-dt08Z7-Kf",
    "slideshow": {
     "slide_type": "slide"
    }
   },
   "source": [
    "### `SimpleImputer` 변환기: 결측치 처리"
   ]
  },
  {
   "cell_type": "markdown",
   "metadata": {
    "colab_type": "text",
    "id": "tR-dt08Z7-Kf",
    "slideshow": {
     "slide_type": ""
    }
   },
   "source": [
    "입력 데이터셋의 총 침실 수를 의미하는 `total_bedrooms` 특성에 168개 구역의 값이 `NaN`(Not a Number)으로 표시되어 있는데\n",
    "이는 168개 구역에 대해 총 침실 수 정보가 누락되어 있음을 의미한다."
   ]
  },
  {
   "cell_type": "markdown",
   "metadata": {},
   "source": [
    "```python\n",
    "null_rows_idx = housing.isnull().any(axis=1)\n",
    "housing.loc[null_rows_idx].head()\n",
    "```"
   ]
  },
  {
   "cell_type": "markdown",
   "metadata": {
    "colab_type": "text",
    "id": "txtgeSRw_FzC",
    "slideshow": {
     "slide_type": ""
    }
   },
   "source": [
    "<p><div align=\"center\"><img src=\"https://raw.githubusercontent.com/codingalzi/handson-ml3/master/jupyter-book/imgs/ch02/null-value01.png\" width=\"100%\"></div></p>"
   ]
  },
  {
   "cell_type": "markdown",
   "metadata": {},
   "source": [
    "머신러닝 모델은 일반적으로 결측치가 있는 데이터셋을 잘 활용하지 못하며,\n",
    "일반적으로 아래 방법 중 하나를 선택해서 결측치를 없애는 데이터 정제를 실행한다.\n",
    "\n",
    "* 방법 1: 해당 구역 샘플 제거\n",
    "* 방법 2: 해당 특성 삭제\n",
    "* 방법 3: 평균값, 중위수, 최빈값, 0, 또는 주변에 위치한 값 등 특정 값으로 결측치 채우기"
   ]
  },
  {
   "cell_type": "markdown",
   "metadata": {},
   "source": [
    "여기서는 중위수<font size='2'>median</font>로 결측치를 대체하는 방법 3을 적용한다.\n",
    "아래 코드는 총 방 수 특성의 결측치를 해당 특성의 중위수로 대체한다."
   ]
  },
  {
   "cell_type": "markdown",
   "metadata": {},
   "source": [
    "```python\n",
    "median = housing[\"total_bedrooms\"].median()\n",
    "housing[\"total_bedrooms\"].fillna(median, inplace=True)\n",
    "```"
   ]
  },
  {
   "cell_type": "markdown",
   "metadata": {},
   "source": [
    "하지만 여기서는 사이킷런의 `SimpleImputer` 변환기를 이용하여 모든 결측치를 중위수<font size='2'>median</font>로 \n",
    "대체하는 방법을 사용한다.\n",
    "이유는 이어서 소개하는 사이킷런에서 제공하는 다른 용도의 데이터 전처리 변환기들과 함께 \n",
    "하나의 변환기 파이프라인을 구성하여 데이터 정제와 전처리를 자동화시킬 수 있기 때문이다.\n",
    "\n",
    "아래 코드는 `SimpleImputer` 변화기 객체를 이용하여 결측치를 각 특성의 중위수로 채운다.\n",
    "원래 무든 수치형 특성의 결측치를 대상으로 하지만 캘리포니아주 주택가격 데이터셋에는\n",
    "총 방 수 특성에만 결측치가 존재하기에 결과는 위 코드와 동일하다."
   ]
  },
  {
   "cell_type": "markdown",
   "metadata": {},
   "source": [
    "```python\n",
    "from sklearn.impute import SimpleImputer\n",
    "\n",
    "housing_num = housing.select_dtypes(include=[np.number]) # 수치형 특성들만 선택\n",
    "\n",
    "imputer = SimpleImputer(strategy=\"median\")\n",
    "imputer.fit(housing_num)\n",
    "X = imputer.transform(housing_num)                   # 결과는 np.array 자료형\n",
    "\n",
    "# 아래 테이블을 보여주기 위해 데이터프레임으로 변환.\n",
    "housing_tr = pd.DataFrame(X, columns=housing_num.columns, index=housing_num.index)\n",
    "housing_tr.loc[null_rows_idx].head()\n",
    "```"
   ]
  },
  {
   "cell_type": "markdown",
   "metadata": {
    "slideshow": {
     "slide_type": ""
    }
   },
   "source": [
    "<p><div align=\"center\"><img src=\"https://raw.githubusercontent.com/codingalzi/handson-ml3/master/jupyter-book/imgs/ch02/null-value02.png\" width=\"100%\"></div></p>"
   ]
  },
  {
   "cell_type": "markdown",
   "metadata": {},
   "source": [
    "**참고:** 아래 코드 (1)의 두 줄 코드를 코드 (2)의 한 줄 코드로 대체할 수 있다.\n",
    "이유는 `fit_transform()` 메서드는 `fit()` 메서드와 `transform()` 메서드를 연속으로 호출하기 때문이다."
   ]
  },
  {
   "cell_type": "markdown",
   "metadata": {},
   "source": [
    "- 코드 (1)\n",
    "\n",
    "    ```python\n",
    "    imputer.fit(housing_num)\n",
    "    X = imputer.transform(housing_num)\n",
    "    ```"
   ]
  },
  {
   "cell_type": "markdown",
   "metadata": {},
   "source": [
    "- 코드 (2)\n",
    "\n",
    "    ```python\n",
    "    X = imputer.fit_transform(housing_num)\n",
    "    ```"
   ]
  },
  {
   "cell_type": "markdown",
   "metadata": {
    "slideshow": {
     "slide_type": ""
    }
   },
   "source": [
    "### 입력 데이터셋과 타깃 데이터셋"
   ]
  },
  {
   "cell_type": "markdown",
   "metadata": {},
   "source": [
    "부적절한 데이터 샘플을 처리하는 데이터 정제 과정이 끝나면\n",
    "모델 훈련에 적합한 데이터셋을 준비하는 전처리 과정을 진행한다.\n",
    "하지만 데이터 전처리를 진행하기 전에 먼저\n",
    "훈련셋을 다시 입력 데이터셋과 타깃 데이터셋으로 구분한다.\n",
    "이유는 입력 데이터셋과 타깃 데이터셋에 대한 전처리 과정이 일반적으로 다르기 때문이다.\n",
    "또한 여기서는 입력 데이터셋에 대해서만 전처리를 실행한다.\n",
    "\n",
    "타깃 데이터셋은 일반적으로 전처리 대상이 아니지만 경우에 따라 변환이 요구될 수 있다.\n",
    "예를 들어, 타깃 데이터셋의 두터운 꼬리 분포를 따르는 경우\n",
    "로그 함수를 적용하여 데이터의 분포가 보다 균형잡히도록 하는 것이 권장된다."
   ]
  },
  {
   "cell_type": "markdown",
   "metadata": {},
   "source": [
    "**타깃 데이터셋**\n",
    "\n",
    "모델이 훈련 중에 가능한 정확하계 예측해야 하는 값으로 구성되며,\n",
    "여기서는 구역별 주택 중위가격을 타깃으로 지정한다.\n",
    "즉, 앞으로 다룰 모델은 주어진 구역의 주택 중위가격을\n",
    "최대한 정확하게 예측하도록 훈련된다."
   ]
  },
  {
   "cell_type": "markdown",
   "metadata": {},
   "source": [
    "**입력 데이터셋**\n",
    "\n",
    "타깃으로 지정된 값을 예측하는 데에 필요한 정보로 구성된 데이터셋이다.\n",
    "여기서는 구역별 주택 중위가격을 제외한 나머지 특성들로 구성된 데이터셋을\n",
    "입력 데이터셋으로 사용한다.\n",
    "따라서 주택 중위가격이 제외된 구역의 다른 정보가 입력되면 해당 구역의 주택 중위가격을 예측하도록\n",
    "모델이 훈련된다."
   ]
  },
  {
   "cell_type": "markdown",
   "metadata": {},
   "source": [
    "정리하면 다음과 같이 계층 샘플링으로 얻어진 훈련셋 `strat_train_set` 을\n",
    "입력 데이터셋 과 타깃 데이터셋으로 구분한다.\n",
    "\n",
    "* 입력 데이터셋: 주택 중위가격 특성이 제거된 훈련셋 \n",
    "\n",
    "    ```python\n",
    "    housing = strat_train_set.drop(\"median_house_value\", axis=1)\n",
    "    ```\n",
    "\n",
    "* 타깃 데이터셋: 주택 중위가격 특성으로만 구성된 훈련셋 \n",
    "\n",
    "    ```python\n",
    "    housing_labels = strat_train_set[\"median_house_value\"].copy()\n",
    "    ```"
   ]
  },
  {
   "cell_type": "markdown",
   "metadata": {
    "colab_type": "text",
    "id": "txtgeSRw_FzC",
    "slideshow": {
     "slide_type": "slide"
    }
   },
   "source": [
    "### `OneHotEncoder` 변환기: 범주형 특성 전처리"
   ]
  },
  {
   "cell_type": "markdown",
   "metadata": {
    "colab_type": "text",
    "id": "txtgeSRw_FzC",
    "slideshow": {
     "slide_type": ""
    }
   },
   "source": [
    "해안 근접도 특성 `ocean_proximity`는 5 개의 범주를 나타내는 문자열을 값으로 사용한다.\n",
    "그런데 사이킷런의 머신러닝 모델은 일반적으로 문자열과 같은 텍스트 데이터를 다루지 못한다. "
   ]
  },
  {
   "cell_type": "markdown",
   "metadata": {
    "colab_type": "text",
    "id": "txtgeSRw_FzC",
    "slideshow": {
     "slide_type": ""
    }
   },
   "source": [
    "가장 단순한 해결책으로 5 개의 범주를 정수로 변환할 수 있다.\n",
    "\n",
    "| 범주 | 숫자 |\n",
    "| :---: | :---: |\n",
    "| <1H OCEAN | 0 |\n",
    "| INLAND | 1 |\n",
    "| ISLAND | 2 |\n",
    "| NEAR BAY | 3 |\n",
    "| NEAR OCEAN | 4 |\n",
    "\n",
    "하지만 이 방식은 작은 수보다 큰 수가 좋다라는 의미로 모델 훈련과정에서 잘못 활용될수 있는 위험성을 내포한다. \n",
    "예를 들어 4에 해당하는 바닷가 근처(`NEAR OCEAN`)에 위치한 주택이 가장 비쌀 것으로 모델이 훈련될 가능성이 높다."
   ]
  },
  {
   "cell_type": "markdown",
   "metadata": {
    "colab_type": "text",
    "id": "4M-BUMQJATPs",
    "slideshow": {
     "slide_type": ""
    }
   },
   "source": [
    "범주형 특성을 수치화하는 가장 일반적인 방식은 \n",
    "**원-핫 인코딩**<font size=\"2\">one-hot encoding</font>이다.\n",
    "원-핫 인코딩은 수치화된 범주들 사이의 크기 비교를 피하기 위해\n",
    "더미<font size=\"2\">dummy</font> 특성을 활용한다."
   ]
  },
  {
   "cell_type": "markdown",
   "metadata": {},
   "source": [
    ":::{admonition} 더미 특성\n",
    ":class: info\n",
    "\n",
    "프로그래밍 분야에서 더미, 영어로 dummy는 의미 없는 값을 의미한다.\n",
    "여기서 더미 특성은 한 구역의 해안 근접도를 지정할 때 반드시 필요한 값은 아니지만 함께 고려하는 특성을\n",
    "가리키는 의미로 사용한다.\n",
    ":::"
   ]
  },
  {
   "cell_type": "markdown",
   "metadata": {
    "colab_type": "text",
    "id": "4M-BUMQJATPs",
    "slideshow": {
     "slide_type": ""
    }
   },
   "source": [
    "원-핫 인코딩을 적용하면 해안 근접도 특성을 삭제하고 대신 다섯 개의 범주 전부를 \n",
    "새로운 특성으로 추가한다.\n",
    "또한 다섯 개의 특성에 사용되는 값은 다음 방식으로 지정된다.\n",
    "\n",
    "* 삭제된 카테고리의 특성값: 1\n",
    "* 나머지 카테고리의 특성값: 0\n",
    "\n",
    "예를 들어, `INLAND`를 해안 근접도 특성값으로 갖던 샘플은 \n",
    "`INLAND`라는 `ocean_proximity` 특성 대신에 \n",
    "다음 모양의 특성값을 갖게 된다.\n",
    "\n",
    "```python\n",
    "[0.0, 1.0, 0.0, 0.0, 0.0]\n",
    "```"
   ]
  },
  {
   "cell_type": "markdown",
   "metadata": {},
   "source": [
    "리스트에 포함된 다섯 개 각각의 값은 차례대로 다음 특성에 해당하는 값을 가리킨다.\n",
    "\n",
    "    '<1H OCEAN', 'INLAND', 'ISLAND', 'NEAR BAY', 'NEAR OCEAN'"
   ]
  },
  {
   "cell_type": "markdown",
   "metadata": {
    "slideshow": {
     "slide_type": "slide"
    }
   },
   "source": [
    "사이킷런의 `OneHotEncoder` 변환기가 원-핫-인코딩을 지원하며\n",
    "해안 근접도를 변환한 결과는 다음과 같다."
   ]
  },
  {
   "cell_type": "markdown",
   "metadata": {
    "slideshow": {
     "slide_type": ""
    }
   },
   "source": [
    "<p><div align=\"center\"><img src=\"https://raw.githubusercontent.com/codingalzi/handson-ml3/master/jupyter-book/imgs/ch02/one_hot01.png\" width=\"800\"></div></p>"
   ]
  },
  {
   "cell_type": "markdown",
   "metadata": {
    "colab_type": "text",
    "id": "wdVX2n-KD5-D",
    "slideshow": {
     "slide_type": "slide"
    }
   },
   "source": [
    "### `MinMaxScaler`와 `StandardScaler` 변환기: 수치형 특성 스케일링"
   ]
  },
  {
   "cell_type": "markdown",
   "metadata": {
    "colab_type": "text",
    "id": "wdVX2n-KD5-D",
    "slideshow": {
     "slide_type": ""
    }
   },
   "source": [
    "머신러닝 알고리즘은 입력 데이터셋의 특성값들의 \n",
    "**스케일**<font size=\"2\">scale</font>이 비슷할 때 보다 잘 훈련된다. \n",
    "따라서 모든 특성의 스케일을 통일하는 **스케일링**<font size=\"2\">scaling</font> 전처리를\n",
    "일반적으로 실행한다."
   ]
  },
  {
   "cell_type": "markdown",
   "metadata": {
    "colab_type": "text",
    "id": "wdVX2n-KD5-D",
    "slideshow": {
     "slide_type": ""
    }
   },
   "source": [
    "스케일링은 보통 아래 두 가지 방식을 사용한다. \n",
    "\n",
    "- min-max 스케일링(정규화)\n",
    "- 표준화"
   ]
  },
  {
   "cell_type": "markdown",
   "metadata": {
    "colab_type": "text",
    "id": "mvfRl6nCEZNz",
    "slideshow": {
     "slide_type": "slide"
    }
   },
   "source": [
    "**정규화: min-max 스케일링**\n",
    "\n",
    "**정규화**<font size='2'>normalization</font>라고 불리는 min-max 스케일링은\n",
    "아래 식을 이용하여 모든 특성값 $x$를 0에서 1 사이의 값으로 변환한다.\n",
    "$max$ 와 $min$ 은 각각 해당 특성값들의 최댓값과 최솟값을 가리킨다. \n",
    "\n",
    "$$\n",
    "\\frac{x-min}{max-min}\n",
    "$$\n",
    "\n",
    "min-max 스케일링은 이상치에 매우 민감하다.\n",
    "예를 들어 이상치가 매우 크면 분모가 분자에 비해 훨씬 크게 되어 변환된 값이 0 근처에 몰리게 된다.\n",
    "아래 코드는 사이킷런의 `MinMaxScaler` 변환기를 모든 수치형 특성에 대해\n",
    "min-max 스케일링을 실행한다."
   ]
  },
  {
   "cell_type": "markdown",
   "metadata": {
    "colab_type": "text",
    "id": "mvfRl6nCEZNz",
    "slideshow": {
     "slide_type": "slide"
    }
   },
   "source": [
    "```python\n",
    "from sklearn.preprocessing import MinMaxScaler\n",
    "\n",
    "min_max_scaler = MinMaxScaler(feature_range=(0, 1))\n",
    "housing_num_min_max_scaled = min_max_scaler.fit_transform(housing_num)\n",
    "```"
   ]
  },
  {
   "cell_type": "markdown",
   "metadata": {},
   "source": [
    "하지만 여기서는 정규화 보다는 표준화를 이용하여 수치형 특성들에 대해 스케일링을 실행한다."
   ]
  },
  {
   "cell_type": "markdown",
   "metadata": {
    "colab_type": "text",
    "id": "pPknbi7wFB2M",
    "slideshow": {
     "slide_type": "slide"
    }
   },
   "source": [
    "**표준화**\n",
    "\n",
    "표준화<font size='2'>standardization</font>는 아래식을 이용하여 특성값 $x$를 변환한다.\n",
    "단, $\\mu$ 와 $\\sigma$ 는 각각 해당 특성값들의 평균값과 표준편차를 가리킨다.\n",
    "\n",
    "$$\n",
    "\\frac{x-\\mu}{\\sigma}\n",
    "$$\n",
    "\n",
    "변환된 특성은 평균값은 0, 표준편차는 1인 분포를 따르며, 이상치에 상대적으로 덜 영향을 받는다.\n",
    "아래 코드는 사이킷런의 `StandardScaler` 변환기를 이용하여 모든 수치형 특성에 대해 표준화를 실행한다."
   ]
  },
  {
   "cell_type": "markdown",
   "metadata": {
    "colab_type": "text",
    "id": "mvfRl6nCEZNz",
    "slideshow": {
     "slide_type": "slide"
    }
   },
   "source": [
    "```python\n",
    "from sklearn.preprocessing import StandardScaler\n",
    "\n",
    "std_scaler = StandardScaler()\n",
    "housing_num_std_scaled = std_scaler.fit_transform(housing_num)\n",
    "```"
   ]
  },
  {
   "cell_type": "markdown",
   "metadata": {},
   "source": [
    "### `FunctionTransformer` 변환기"
   ]
  },
  {
   "cell_type": "markdown",
   "metadata": {},
   "source": [
    "min-max 스케일링을 진행하려면 먼저 각 특성의 최댓값과 최솟값을,\n",
    "표준화를 진행하려면 먼저 각 특성의 평균값과 표준편차를 알아야 하는데\n",
    "`fit()` 메서드가 이를 알아낸다.\n",
    "따라서 위 코드에서처럼 `fit_transform()` 메서드를 데이터셋에 적용하면\n",
    "먼저 `fit()` 메서드가 실행되어 변환에 필요한 값들을 생성하고\n",
    "이후에 이들을 이용하여 `transform()` 메서드가 데이터를 변환한다.\n",
    "\n",
    "그런데 경우에 따라 어떤 정보도 필요 없이 바로 데이터 변환을 진행할 수도 있다.\n",
    "그리고 이럴 때는 `fit()` 메서드를 사용할 필요가 없는데,\n",
    "이런 변환기는 `FunctionTransformer` 클래스의 인스턴스를 활용하여 간단하게 지정할 수 있다.\n",
    "\n",
    "여기서는 로그 변환과 비율 계산을 지원하는 두 개의 변환기를\n",
    "`FunctionTransformer` 클래스의 인스턴스로 지정해서 활용한다."
   ]
  },
  {
   "cell_type": "markdown",
   "metadata": {},
   "source": [
    "**로그 변환기**\n",
    "\n",
    "데이터셋이 두터운 꼬리 분포를 따르는 경우, \n",
    "즉 히스토그램이 지나치게 한쪽으로 편향된 경우\n",
    "스케일링을 적용하기 전에 먼저\n",
    "로그 함수를 적용하여 어느 정도 좌우 균형이 잡힌 분포로 변환할 것을 권장한다. \n",
    "아래 그림은 구역별 인구로 구성된 `population` 특성값에 로그함수를 적용할 때 분포가 보다 균형잡히는 것을 잘 보여준다.\n",
    "\n",
    "<p><div align=\"center\"><img src=\"https://raw.githubusercontent.com/codingalzi/handson-ml3/master/jupyter-book/imgs/ch02/homl02-log_app.jpg\" width=\"600\"></div></p>"
   ]
  },
  {
   "cell_type": "markdown",
   "metadata": {},
   "source": [
    "여기서는 로그 변환이 필요한 모든 특성에 대해 아래 형식의 로그 변환기를 적용한다.\n",
    "\n",
    "```python\n",
    "FunctionTransformer(np.log)\n",
    "```\n",
    "\n",
    "적용대상 특성은 다음과 같다.\n",
    "\n",
    "```python\n",
    "\"total_bedrooms\", \"total_rooms\", \"population\", \"households\", \"median_income\"\n",
    "```"
   ]
  },
  {
   "cell_type": "markdown",
   "metadata": {},
   "source": [
    "**비율 계산 변환기**\n",
    "\n",
    "두 개의 특성 사이의 비율을 계산하여 새로운 특성을 생성하는 변환기 또한 \n",
    "`FunctionTransformer`를 활용할 수 있다.\n",
    "\n",
    "```python\n",
    "FunctionTransformer(lambda X: X[:, [0]] / X[:, [1]])\n",
    "```"
   ]
  },
  {
   "cell_type": "markdown",
   "metadata": {
    "colab_type": "text",
    "id": "3FObJHRyB-98",
    "slideshow": {
     "slide_type": ""
    }
   },
   "source": [
    "비율 계산 변환기를 이용하여 아래 특성을 새롭게 생성할 수 있다.\n",
    "\n",
    "- 침실 비율(bedrooms for room): `housing['total_bedrooms'] / housing['total_rooms']`\n",
    "- 가구당 방 수(rooms for household): `housing['total_bedrooms'] / housing['households']`\n",
    "- 가구당 인원(population per household): `housing['population'] / housing['households']`"
   ]
  },
  {
   "cell_type": "markdown",
   "metadata": {
    "colab_type": "text",
    "id": "3FObJHRyB-98",
    "slideshow": {
     "slide_type": "slide"
    }
   },
   "source": [
    "### 군집 변환기: 사용자 정의 변환기"
   ]
  },
  {
   "cell_type": "markdown",
   "metadata": {},
   "source": [
    "데이터 준비 과정에서 경우에 따라 사용자가 직접 변환기를 구현해야할 필요가 있다.\n",
    "그런데 `SimpleImputer` 변환기의 경우처럼 \n",
    "먼저 `fit()` 메서드를 이용하여 평균값, 중위수 등과 같은 정보를 데이터셋으로부터 계산한 다음에\n",
    "`transform()` 메서드를 적용할 수 있는 변환기는 \n",
    "직접 클래스로 선언해야 한다. \n",
    "무엇보다도 사이킷런의 다른 변환기와 호환이 되도록 하기 위해서\n",
    "`fit()` 과 `transform()` 등 다양한 메서드를 모두 직접 구현해야 한다. \n",
    "\n",
    "여기서는 캘리포니아 주 20,640 개의 구역을 서로 가깝게 위치한 구역들로 묶어\n",
    "총 10개의 군집<font size='2'>cluster</font>으로 구분하는 변환기 클래스를\n",
    "다음과 같이 선언한다."
   ]
  },
  {
   "cell_type": "markdown",
   "metadata": {},
   "source": [
    "```python\n",
    "from sklearn.base import BaseEstimator, TransformerMixin\n",
    "from sklearn.cluster import KMeans\n",
    "from sklearn.metrics.pairwise import rbf_kernel\n",
    "\n",
    "class ClusterSimilarity(BaseEstimator, TransformerMixin):\n",
    "    def __init__(self, n_clusters=10, gamma=1.0, random_state=None):\n",
    "        self.n_clusters = n_clusters\n",
    "        self.gamma = gamma\n",
    "        self.random_state = random_state\n",
    "\n",
    "    def fit(self, X, y=None, sample_weight=None):\n",
    "        self.kmeans_ = KMeans(self.n_clusters, random_state=self.random_state)\n",
    "        self.kmeans_.fit(X, sample_weight=sample_weight)\n",
    "        return self  # 항상 self 반환\n",
    "\n",
    "    def transform(self, X):\n",
    "        return rbf_kernel(X, self.kmeans_.cluster_centers_, gamma=self.gamma)\n",
    "    \n",
    "    def get_feature_names_out(self, names=None):\n",
    "        return [f\"Cluster {i} similarity\" for i in range(self.n_clusters)]\n",
    "\n",
    "cluster_simil = ClusterSimilarity(n_clusters=10, gamma=1., random_state=42)\n",
    "similarities = cluster_simil.fit_transform(housing[[\"latitude\", \"longitude\"]], \n",
    "                                           sample_weight=housing_labels)\n",
    "```"
   ]
  },
  {
   "cell_type": "markdown",
   "metadata": {},
   "source": [
    "위 코드에 대한 설명은 {numref}`%s장 <ch:unsupervisedLearning>` 비지도 학습에서 자세히 다룬다. \n",
    "여기서는 대신 다음 세 가지만을 기억해 두자."
   ]
  },
  {
   "cell_type": "markdown",
   "metadata": {},
   "source": [
    "첫째, 변환기를 선언할 때 `BaseEstimator`와 `TransformerMixin` 두 개의 클래스를 상속해야 한다.\n",
    "\n",
    "<p><div align=\"center\"><img src=\"https://raw.githubusercontent.com/codingalzi/handson-ml3/master/jupyter-book/imgs/ch02/custom-transformer.png\" width=\"350\"></div></p>\n",
    "<br>"
   ]
  },
  {
   "cell_type": "markdown",
   "metadata": {},
   "source": [
    "둘째, `get_feature_names_out()` 메서드를 재정의해서 변환기에 의해 새로 생성된 특성들의 이름을 지정한다."
   ]
  },
  {
   "cell_type": "markdown",
   "metadata": {},
   "source": [
    "셋째, `ClusterSimilarity` 변환기를 이용하여 얻어진 군집 특성을 이용하면 아래 결과를 얻을 수 있다.\n",
    "\n",
    "- 모든 구역을 10개의 군집으로 쪼갠다.\n",
    "- `transform()` 메서드는 각 샘플에 대해 10개의 센트로이드와의 유사도 점수를 계산해서 반환한다.\n",
    "    유사도를 계산할 때 주택 중위가격을 참고해서 주택 중위 가격이 비슷한 구역의 유사도를 보다 높게 평가하도록 유도한다.\n",
    "\n",
    "```python\n",
    "cluster_simil = ClusterSimilarity(n_clusters=10, gamma=1., random_state=42)\n",
    "similarities = cluster_simil.fit_transform(housing[[\"latitude\", \"longitude\"]],\n",
    "                                           sample_weight=housing_labels)\n",
    "```"
   ]
  },
  {
   "cell_type": "markdown",
   "metadata": {},
   "source": [
    "처음 5 개 샘플과 각 센트로이드에 대한 유사도 점수는 다음과 같다.\n",
    "예를 들어 첫째 샘플의 경우 7번 인덱스의 값이 0.99로 가장 큰데,\n",
    "이는 첫째 샘플이 8번째 군집의 센트로이드와 가장 유사함을 의미한다."
   ]
  },
  {
   "cell_type": "markdown",
   "metadata": {},
   "source": [
    "```python\n",
    "similarities[:5].round(2)\n",
    "```"
   ]
  },
  {
   "cell_type": "markdown",
   "metadata": {},
   "source": [
    "```python\n",
    "array([[0.  , 0.14, 0.  , 0.  , 0.  , 0.08, 0.  , 0.99, 0.  , 0.6 ],\n",
    "       [0.63, 0.  , 0.99, 0.  , 0.  , 0.  , 0.04, 0.  , 0.11, 0.  ],\n",
    "       [0.  , 0.29, 0.  , 0.  , 0.01, 0.44, 0.  , 0.7 , 0.  , 0.3 ],\n",
    "       [0.65, 0.  , 0.21, 0.  , 0.  , 0.  , 0.51, 0.  , 0.  , 0.  ],\n",
    "       [0.86, 0.  , 0.89, 0.  , 0.  , 0.  , 0.14, 0.  , 0.03, 0.  ]])\n",
    "```"
   ]
  },
  {
   "cell_type": "markdown",
   "metadata": {},
   "source": [
    "아래 그래프를 위 결과를 이용하여 그릴 수 있다."
   ]
  },
  {
   "cell_type": "markdown",
   "metadata": {},
   "source": [
    "- &#128473;는 각 군집의 센트로이드<font size='2'>centroid</font>, 즉 각 군집의 중심 구역을 표시한다.\n",
    "- 색상은 센트로이드 구역과의 유사도를 가리킨다. 빨강색의 구역이 센트로이드 구역과의 유사도가 1에 가깝다."
   ]
  },
  {
   "cell_type": "markdown",
   "metadata": {},
   "source": [
    "<p><div align=\"center\"><img src=\"https://raw.githubusercontent.com/codingalzi/handson-ml3/master/jupyter-book/imgs/ch02/homl02-cluster.jpg\" width=\"550\"></div></p>"
   ]
  },
  {
   "cell_type": "markdown",
   "metadata": {
    "colab_type": "text",
    "id": "mJTDmsZWGS06",
    "slideshow": {
     "slide_type": "slide"
    }
   },
   "source": [
    "## 변환 파이프라인"
   ]
  },
  {
   "cell_type": "markdown",
   "metadata": {
    "colab_type": "text",
    "id": "mJTDmsZWGS06",
    "slideshow": {
     "slide_type": ""
    }
   },
   "source": [
    "모든 전처리 단계가 정확한 순서대로 진행되어야 한다.\n",
    "이를 위해 사이킷런의 `Pipeline` 클래스를 이용하여 여러 변환기를 순서대로 \n",
    "실행하는 변환기 파이프라인을 활용한다."
   ]
  },
  {
   "cell_type": "markdown",
   "metadata": {
    "colab_type": "text",
    "id": "mJTDmsZWGS06",
    "slideshow": {
     "slide_type": ""
    }
   },
   "source": [
    "**`Pipeline` 클래스 활용** \n",
    "\n",
    "예를 들어, 수치형 특성을 대상으로 결측치를 중위수로 채우는 정제와\n",
    "표준화를 연속적으로 실행하는 파이프라인은 다음과 같이 정의한다.\n",
    "\n",
    "```python\n",
    "num_pipeline = Pipeline([(\"impute\", SimpleImputer(strategy=\"median\")),\n",
    "                         (\"standardize\", StandardScaler())])\n",
    "```\n",
    "\n",
    "* `Pipeline` 객체를 생성할 때 사용되는 인자는 이름과 추정기로 이루어진 쌍들의 리스트이다.\n",
    "\n",
    "* 마지막 추정기를 제외한 나머지 추정기는 모두 변환기다.\n",
    "    즉, 마지막 추정기는 `fit()` 메서드만 지원해도 되지만\n",
    "    나머지는 `fit_transform()` 메서드가 지원되는 변환기어야 한다.\n",
    "    \n",
    "* `num_pipeline.fit()` 를 호출하면 \n",
    "    마지막 변환기 까지는 `fit_transform()` 메소드가 연속적으로 호출되고\n",
    "    마지막 변환기의 `fit()` 메서드 최종 호출된다.\n",
    "    \n",
    "* 파이프라인으로 정의된 추정기의 유형은 마지막 추정기의 유형과 동일하다.\n",
    "    따라서 `num_pipeline` 은 변환기다."
   ]
  },
  {
   "cell_type": "markdown",
   "metadata": {},
   "source": [
    "**`make_pipeline()` 함수 활용**\n",
    "\n",
    "파이프라인에 포함되는 변환기의 이름이 중요하지 않다면 `make_pipeline()` 함수를 이용하여\n",
    "`Pipeline` 객체를 생성할 수 있다. 이름은 자동으로 지정된다.\n",
    "\n",
    "위 파이프라인과 동일한 파이프라인 객체를 다음과 같이 생성할 수 있다.\n",
    "\n",
    "```python\n",
    "make_pipeline(SimpleImputer(strategy=\"median\"), \n",
    "              StandardScaler())\n",
    "```"
   ]
  },
  {
   "cell_type": "markdown",
   "metadata": {},
   "source": [
    "**`ColumnTransformer` 클래스 활용**\n",
    "\n",
    "`ColumnTransformer` 클래스는 특성별로 전처리를 지정할 수 있다.\n",
    "이 기능을 이용하여 수치형 특성과 범주형 특성을 구분해서 \n",
    "전처리하는 통합 파이프라인을 다음과 같이 구성할 수 있다.\n",
    "\n",
    "* 수치형 특성: `num_pipeline` 변환기\n",
    "* 범주형 특성: `OneHotEncoder` 변환기\n",
    "\n",
    "```python\n",
    "num_attribs = [\"longitude\", \"latitude\", \"housing_median_age\", \"total_rooms\",\n",
    "               \"total_bedrooms\", \"population\", \"households\", \"median_income\"]\n",
    "cat_attribs = [\"ocean_proximity\"]\n",
    "\n",
    "cat_pipeline = make_pipeline(\n",
    "    SimpleImputer(strategy=\"most_frequent\"),\n",
    "    OneHotEncoder(handle_unknown=\"ignore\"))\n",
    "\n",
    "preprocessing = ColumnTransformer([\n",
    "    (\"num\", num_pipeline, num_attribs),\n",
    "    (\"cat\", cat_pipeline, cat_attribs),\n",
    "])\n",
    "```"
   ]
  },
  {
   "cell_type": "markdown",
   "metadata": {},
   "source": [
    "**`make_column_selector()` 함수 활용**\n",
    "\n",
    "파이프라인에 포함되는 각 변환기를 적용할 특성을 일일이 나열하는 일이 어려울 수 있다.\n",
    "이때 지정된 자료형을 사용하는 특성들만을 뽑아주는 `make_column_selector()` 함수를 \n",
    "유용하게 활용할 수 있다.\n",
    "\n",
    "위 `preprocessing` 변환기를 아래와 같이 정의할 수 있다.\n",
    "\n",
    "```python\n",
    "preprocessing = ColumnTransformer([\n",
    "    (\"num\", num_pipeline, make_column_selector(dtype_include=np.number)),\n",
    "    (\"cat\", cat_pipeline, make_column_selector(dtype_include=object)\n",
    "])\n",
    "```"
   ]
  },
  {
   "cell_type": "markdown",
   "metadata": {},
   "source": [
    "**`make_column_transformer()` 함수 활용**\n",
    "\n",
    "`ColumnTransformer` 파이프라인에 포함되는 변환기의 이름이 중요하지 않다면 \n",
    "`make_column_transformer()` 함수를 이용할 수 있으며,\n",
    "`make_pipeline()` 함수와 유사하게 작동한다.\n",
    "\n",
    "위 `preprocessing` 변환기를 아래와 같이 정의할 수 있다.\n",
    "\n",
    "```python\n",
    "preprocessing = make_column_transformer(\n",
    "    (num_pipeline, make_column_selector(dtype_include=np.number)),\n",
    "    (cat_pipeline, make_column_selector(dtype_include=object)),\n",
    ")\n",
    "```"
   ]
  },
  {
   "cell_type": "markdown",
   "metadata": {},
   "source": [
    "### 캘리포니아 데이터셋 변환 파이프라인"
   ]
  },
  {
   "cell_type": "markdown",
   "metadata": {},
   "source": [
    "다음 변환기를 모아 캘리포니아 데이터셋 전용 변환 파이프라인을 생성할 수 있다."
   ]
  },
  {
   "cell_type": "markdown",
   "metadata": {},
   "source": [
    "(1) 비율 변환기\n",
    "\n",
    "가구당 방 수, 침실 비율, 가구당 인원 등 \n",
    "비율을 사용하는 특성을 새로 추가할 때 사용되는 변화기를 생성하는 함수를 정의한다."
   ]
  },
  {
   "cell_type": "markdown",
   "metadata": {},
   "source": [
    "```python\n",
    "def column_ratio(X):\n",
    "    return X[:, [0]] / X[:, [1]] # 1번 특성에 대한 0번 특성의 비율율\n",
    "\n",
    "def ratio_name(function_transformer, feature_names_in):\n",
    "    return [\"ratio\"]  # 새로 생성되는 특성값들의 특성명\n",
    "\n",
    "def ratio_pipeline():\n",
    "    return make_pipeline(\n",
    "        SimpleImputer(strategy=\"median\"),\n",
    "        FunctionTransformer(column_ratio, feature_names_out=ratio_name),\n",
    "        StandardScaler())\n",
    "```"
   ]
  },
  {
   "cell_type": "markdown",
   "metadata": {},
   "source": [
    "로그 변환기를 지정할 때 사용되는 `feature_names_out=ratio_name`은 로그 변환되어 생성되는\n",
    "특성값들의 특성명을 `ratio_name()` 함수의 반환값을 이용하여 지정하라는 의미이다.\n",
    "보다 자세한 의미는 실제로 활용될 때 한 번 더 설명한다."
   ]
  },
  {
   "cell_type": "markdown",
   "metadata": {},
   "source": [
    "(2) 로그 변환기\n",
    "\n",
    "데이터 분포가 두터운 꼬리를 갖는 특성을 대상으로 로그 함수를 적용하는 변환기를 지정한다."
   ]
  },
  {
   "cell_type": "markdown",
   "metadata": {},
   "source": [
    "```python\n",
    "log_pipeline = make_pipeline(\n",
    "    SimpleImputer(strategy=\"median\"),\n",
    "    FunctionTransformer(np.log, feature_names_out=\"one-to-one\"),\n",
    "    StandardScaler())\n",
    "```"
   ]
  },
  {
   "cell_type": "markdown",
   "metadata": {},
   "source": [
    "로그 변환기를 지정할 때 사용되는 `feature_names_out=\"one-to-one\"`는 로그 변환되어 생성되는\n",
    "특성값들의 특성명을 이전 특성명과 동일하게 지정하라는 의미이다.\n",
    "보다 자세한 의미는 실제로 활용될 때 한 번 더 설명한다."
   ]
  },
  {
   "cell_type": "markdown",
   "metadata": {},
   "source": [
    "(3) 군집 변환기\n",
    "\n",
    "구역의 위도와 경도를 이용하여 구역들의 군집 정보를 새로운 특성으로 추가하는 변환기를 지정한다."
   ]
  },
  {
   "cell_type": "markdown",
   "metadata": {},
   "source": [
    "```python\n",
    "cluster_simil = ClusterSimilarity(n_clusters=10, gamma=1., random_state=42)\n",
    "```"
   ]
  },
  {
   "cell_type": "markdown",
   "metadata": {},
   "source": [
    "(4) 기본 변환기\n",
    "\n",
    "특별한 변환이 필요 없는 경우에도 기본적으로 결측치 문제 해결과 스케일을 조정하는 변환기를 사용한다."
   ]
  },
  {
   "cell_type": "markdown",
   "metadata": {},
   "source": [
    "```python\n",
    "default_num_pipeline = make_pipeline(SimpleImputer(strategy=\"median\"),\n",
    "                                     StandardScaler())\n",
    "```"
   ]
  },
  {
   "cell_type": "markdown",
   "metadata": {},
   "source": [
    "**종합**"
   ]
  },
  {
   "cell_type": "markdown",
   "metadata": {},
   "source": [
    "앞서 언급된 모든 변환기를 특성별로 알아서 처리하는 변환기는 다음과 같다.\n",
    "\n",
    "- `remainder=default_num_pipeline`: 언급되지 않은 특성을 처리하는 변환기를 지정한다.\n",
    "    삭제를 의미하는 `drop` 이 기본값이며 이외에 `passthrough` 는 변환하지 않는 것을 의미한다."
   ]
  },
  {
   "cell_type": "markdown",
   "metadata": {},
   "source": [
    "```python\n",
    "preprocessing = ColumnTransformer([\n",
    "        (\"bedrooms\", ratio_pipeline(), [\"total_bedrooms\", \"total_rooms\"]),    # 침실 비율\n",
    "        (\"rooms_per_house\", ratio_pipeline(), [\"total_rooms\", \"households\"]), # 가구당 방 수\n",
    "        (\"people_per_house\", ratio_pipeline(), [\"population\", \"households\"]), # 가구당 인원\n",
    "        (\"log\", log_pipeline, [\"total_bedrooms\", \"total_rooms\", \"population\", # 로그 변환\n",
    "                               \"households\", \"median_income\"]),\n",
    "        (\"geo\", cluster_simil, [\"latitude\", \"longitude\"]),                    # 구역별 군집 정보\n",
    "        (\"cat\", cat_pipeline, make_column_selector(dtype_include=object)),    # 범주형 특성 전처리\n",
    "    ],\n",
    "    remainder=default_num_pipeline)          # 남은 특성인 주택 건물 중위연령(housing_median_age) 대상\n",
    "```"
   ]
  },
  {
   "cell_type": "markdown",
   "metadata": {
    "colab_type": "text",
    "id": "QbFHKNvDMVvD",
    "slideshow": {
     "slide_type": "slide"
    }
   },
   "source": [
    "## 모델 선택과 훈련"
   ]
  },
  {
   "cell_type": "markdown",
   "metadata": {
    "slideshow": {
     "slide_type": ""
    }
   },
   "source": [
    "훈련셋 준비가 완료된 상황에서 모델을 선택하고 훈련시키는 일이 남아 있다.\n",
    "\n",
    "사이킷런이 제공하는 예측기 모델을 사용하면 훈련은 기본적으로 간단하게 진행된다.\n",
    "여기서는 사이킷런이 제공하는 다양한 모델의 사용법과 차이점을 간단하게 살펴본다.\n",
    "각 모델의 자세한 특징과 상세 설명은 앞으로 차차 이루어질 것이다."
   ]
  },
  {
   "cell_type": "markdown",
   "metadata": {},
   "source": [
    ":::{admonition} 전처리 포함 파이프라인 모델\n",
    ":class: info\n",
    "\n",
    "소개되는 모든 모델은 앞서 설명한 전처리 과정과 함께 하나의 파이프라인으로 묶여서 정의된다.\n",
    "따라서 테스트셋과 미래의 새로운 입력 데이터에 대해서도 전처리를 별도로 신경쓸 필요가 없다.\n",
    ":::"
   ]
  },
  {
   "cell_type": "markdown",
   "metadata": {},
   "source": [
    "### 모델 훈련과 평가"
   ]
  },
  {
   "cell_type": "markdown",
   "metadata": {
    "colab_type": "text",
    "id": "rcUgKOFKNvYL",
    "slideshow": {
     "slide_type": "slide"
    }
   },
   "source": [
    "**선형 회귀 모델 ({numref}`%s장 <ch:trainingModels>`)**"
   ]
  },
  {
   "cell_type": "markdown",
   "metadata": {
    "colab_type": "text",
    "id": "rcUgKOFKNvYL",
    "slideshow": {
     "slide_type": "fragment"
    }
   },
   "source": [
    "* 훈련 및 예측\n",
    "\n",
    "    ```python\n",
    "    from sklearn.linear_model import LinearRegression\n",
    "    \n",
    "    lin_reg = make_pipeline(preprocessing, LinearRegression())\n",
    "    lin_reg.fit(housing, housing_labels)\n",
    "    lin_reg.predict(housing)\n",
    "    ```\n",
    "\n",
    "- RMSE(평균 제곱근 오차)\n",
    "\n",
    "    ```python\n",
    "    lin_rmse = mean_squared_error(housing_labels, housing_predictions,\n",
    "                                  squared=False)\n",
    "    ```"
   ]
  },
  {
   "cell_type": "markdown",
   "metadata": {},
   "source": [
    "- 훈련 결과\n",
    "    - RMSE(`lin_rmse`)가 68687.89 정도로 별로 좋지 않다.\n",
    "    - 훈련된 모델이 훈련셋에 __과소적합__ 되었다. \n",
    "    - 보다 좋은 특성을 찾거나 더 강력한 모델을 적용해야 한다. "
   ]
  },
  {
   "cell_type": "markdown",
   "metadata": {
    "colab_type": "text",
    "id": "FUGT-mPmPfE3",
    "slideshow": {
     "slide_type": "slide"
    }
   },
   "source": [
    "**결정트리 회귀 모델 ({numref}`%s장 <ch:decisionTrees>`)**"
   ]
  },
  {
   "cell_type": "markdown",
   "metadata": {
    "colab_type": "text",
    "id": "FUGT-mPmPfE3",
    "slideshow": {
     "slide_type": ""
    }
   },
   "source": [
    "결정트리 회귀 모델은 데이터에서 복잡한 비선형 관계를 학습할 때 사용한다. \n",
    "\n",
    "* 훈련 및 예측\n",
    "\n",
    "```python\n",
    "from sklearn.tree import DecisionTreeRegressor\n",
    "\n",
    "tree_reg = make_pipeline(preprocessing, DecisionTreeRegressor(random_state=42))\n",
    "tree_reg.fit(housing, housing_labels)\n",
    "housing_predictions = tree_reg.predict(housing)\n",
    "\n",
    "tree_rmse = mean_squared_error(housing_labels, housing_predictions,\n",
    "                              squared=False)\n",
    "```"
   ]
  },
  {
   "cell_type": "markdown",
   "metadata": {
    "slideshow": {
     "slide_type": ""
    }
   },
   "source": [
    "- 훈련 결과\n",
    "    - RMSE(`tree_rmse`)가 0으로 완벽해 보인다.\n",
    "    - 모델이 훈련셋에 심각하게 __과대적합__ 되었음을 의미한다.\n",
    "    - 실전 상황에서 RMSE가 0이 되는 것은 불가능하다.\n",
    "    - 테스트셋에 대한 RMSE는 매우 높게 나온다."
   ]
  },
  {
   "cell_type": "markdown",
   "metadata": {
    "slideshow": {
     "slide_type": ""
    }
   },
   "source": [
    "**랜덤 포레스트 회귀 모델 ({numref}`%s장 <ch:ensemble>`)**\n",
    "\n",
    "**랜덤 포레스트**<font size=\"2\">random forest</font> 회귀 모델은 \n",
    "여러 개의 결정트리를 동시에 훈련시킨 후 \n",
    "각 모델의 예측값의 평균값 등을 이용하는 모델이다.\n",
    "각 모델은 교차 검증처럼 서로 다른 훈련셋을 대상으로 학습한다.\n",
    "\n",
    "사이킷런의 `RandomForestRegressor` 모델은 기본값으로 100개의 결정트리를 동시에 훈련시킨다.\n",
    "\n",
    "```python\n",
    "from sklearn.ensemble import RandomForestRegressor\n",
    "\n",
    "forest_reg = make_pipeline(preprocessing,\n",
    "                           RandomForestRegressor(n_estimators=100, random_state=42))\n",
    "```"
   ]
  },
  {
   "cell_type": "markdown",
   "metadata": {
    "slideshow": {
     "slide_type": "slide"
    }
   },
   "source": [
    "### 교차 검증"
   ]
  },
  {
   "cell_type": "markdown",
   "metadata": {},
   "source": [
    "__교차 검증__<font size=\"2\">cross validation</font>을 이용하여 \n",
    "훈련중인 모델의 성능을 평가할 수 있다."
   ]
  },
  {
   "cell_type": "markdown",
   "metadata": {
    "slideshow": {
     "slide_type": "slide"
    }
   },
   "source": [
    "**k-겹 교차 검증**\n",
    "\n",
    "* 훈련셋을 **폴드**<font size='2'>fold</font>라 불리는 k-개의 부분 집합으로 무작위로 분할한다.\n",
    "* 모델을 총 k 번 훈련한다.\n",
    "    * 매 훈련마나다 하나의 폴드를 선택하여 검증 데이터셋으로 지정.\n",
    "    * 나머지 (k-1) 개의 폴드를 대상으로 훈련\n",
    "    * 매 훈련이 끝날 때마다 선택된 검증 데이터셋을 이용하여 모델 평가\n",
    "    * 매번 다른 폴드 활용\n",
    "* 최종평가는 k-번 평가 결과의 평균값을 활용한다.\n",
    "\n",
    "<p><div align=\"center\"><img src=\"https://raw.githubusercontent.com/codingalzi/handson-ml3/master/jupyter-book/imgs/ch02/cross-val10.png\" width=\"500\"></div></p>"
   ]
  },
  {
   "cell_type": "markdown",
   "metadata": {
    "colab_type": "text",
    "id": "j33mMeoDQWc6",
    "slideshow": {
     "slide_type": "slide"
    }
   },
   "source": [
    "**사이킷런의 `cross_val_score()` 함수**\n",
    "\n",
    "`cross_val_score()` 함수는 k-겹 교차 검증 과정에서\n",
    "훈련중인 모델의 성능을 측정한다.\n",
    "\n",
    "`scoring` 키워드 인자로 훈련중인 모델의 성능을 측정하는 **효용함수**를 지정한다.\n",
    "측정값은 높을 수록 좋은 성능으로 평가되기에 회귀 모델의 경우\n",
    "일반적으로 RMSE의 음숫값을 사용한다.\n",
    "이를 위해 `scoring=\"neg_mean_squared_error\"` 키워드 인자를 사용한다.\n",
    "RMSE의 음숫값을 선택하는 이유는 RMSE가 낮을 수록 좋은 모델이기 때문이다.\n",
    "\n",
    "아래 코드는 10 개의 폴드를 사용(`cv=10`)하여 결정트리 회귀 모델에 대한 교차 검증을 진행하고 평가한다. \n",
    "\n",
    "```python\n",
    "from sklearn.model_selection import cross_val_score\n",
    "\n",
    "tree_rmses = -cross_val_score(tree_reg, housing, housing_labels,\n",
    "                              scoring=\"neg_root_mean_squared_error\", cv=10)\n",
    "```"
   ]
  },
  {
   "cell_type": "markdown",
   "metadata": {
    "slideshow": {
     "slide_type": ""
    }
   },
   "source": [
    "래덤 포레스트 모델에 대한 교차 검증을 적용하면 폴드 수에 비례하여 훈련 시간이 더 오래 걸린다.\n",
    "\n",
    "```python\n",
    "forest_rmses = -cross_val_score(forest_reg, housing, housing_labels,\n",
    "                                scoring=\"neg_root_mean_squared_error\", cv=10)\n",
    "```"
   ]
  },
  {
   "cell_type": "markdown",
   "metadata": {},
   "source": [
    ":::{admonition} `scoring` 키워드 인자\n",
    ":class: info\n",
    "\n",
    "교차 검증에 사용되는 모델의 종류에 따라 다양한 방식으로 모델의 성능을 측정할 수 있으며\n",
    "`scoring` 키워드 인자를 이용하여 지정한다. \n",
    "현재 사용 가능한 옵션값은 [사이킷런의 Metrics and Scoring 문서](https://scikit-learn.org/stable/modules/model_evaluation.html)에서\n",
    "확인할 수 있다.\n",
    ":::"
   ]
  },
  {
   "cell_type": "markdown",
   "metadata": {
    "colab_type": "text",
    "id": "NvymKM5gVYcN",
    "slideshow": {
     "slide_type": "slide"
    }
   },
   "source": [
    "## 모델 미세 조정"
   ]
  },
  {
   "cell_type": "markdown",
   "metadata": {
    "colab_type": "text",
    "id": "NvymKM5gVYcN",
    "slideshow": {
     "slide_type": "slide"
    }
   },
   "source": [
    "지금까지 살펴 본 모델 중에서 랜덤 포레스트 회귀 모델의 성능이 가장 좋았다.\n",
    "이렇게 가능성이 높은 모델을 찾은 다음엔 \n",
    "모델의 세부 설정(하이퍼파라미터)을 조정하거나\n",
    "성능이 좋은 모델 여러 개를 이용하여 모델의 성능을 최대한 끌어올린다.\n",
    "\n",
    "이런 방식으로 잘 훈련된 모델의 성능을 좀 더 끌어 올리는 방법을\n",
    "모델 **미세 조정**<font size='2'>fine tuning</font>이라 한다.\n",
    "모델 미세 조정은 보통 다음 세 가지 방식을 많이 사용한다.\n",
    "\n",
    "- 그리드 탐색\n",
    "- 랜덤 탐색\n",
    "- 앙상블 학습"
   ]
  },
  {
   "cell_type": "markdown",
   "metadata": {},
   "source": [
    ":::{admonition} 하이퍼파라미터와 변환기 클래스 상속\n",
    ":class: info\n",
    "\n",
    "사이킷런 클래스의 **하이퍼파라미터**<font size='2'>hyperparameter</font>는 \n",
    "해당 클래스의 객체를 생성할 때 사용되는 값을 가리킨다.\n",
    "반면에 **파라미터**<font size='2'>parameter</font>는 \n",
    "`fit()` 메서드가 데이터를 이용하여 계산하는 값을 가리킨다.\n",
    "추정기, 변환기, 예측기는 각각의 역할에 맞는 파라미터를 계산한다.\n",
    "\n",
    "사이킷런의 모든 클래스는 적절한 \n",
    "**하이퍼파라미터**<font size=\"2\">hyperparameter</font>로 초기화되어 있으며\n",
    "데이터 변환과 값 예측에 필요한 모든 파라미터를 효율적으로 관리한다.\n",
    "\n",
    "변환기 클래스를 선언할 때 `BaseEstimator` 클래스를 상속하면\n",
    "하이퍼파라미터를 조정을 자동화할 때 필요한 `get_params()`, `set_params()` 두 메서드를\n",
    "함께 상속한다.\n",
    "\n",
    "반면에 `TransformerMixin` 클래스를 상속하는 이유 `fit_transform()`\n",
    "메서드가 자동으로 상속되기 때문이다.\n",
    ":::"
   ]
  },
  {
   "cell_type": "markdown",
   "metadata": {
    "colab_type": "text",
    "id": "gq27apRGVttK",
    "slideshow": {
     "slide_type": "slide"
    }
   },
   "source": [
    "### 그리드 탐색"
   ]
  },
  {
   "cell_type": "markdown",
   "metadata": {
    "colab_type": "text",
    "id": "gq27apRGVttK",
    "slideshow": {
     "slide_type": ""
    }
   },
   "source": [
    "지정된 하이퍼파라미터의 모든 조합에 대해 교차 검증을 진행하여 최적의 하이퍼파라미터 조합을 찾는다. "
   ]
  },
  {
   "cell_type": "markdown",
   "metadata": {
    "colab_type": "text",
    "id": "gq27apRGVttK",
    "slideshow": {
     "slide_type": ""
    }
   },
   "source": [
    "**`GridSearchCV` 클래스**\n",
    "\n",
    "랜덤 포레스트 모델을 대상으로 그리드 탐색을 다음과 같이 실행하면\n",
    "총 (3x3 + 2x3 = 15) 가지의 모델의 성능을 확인한다. \n",
    "또한 3-겹 교차 검증(`cv=3`)을 진행하기에 모델 훈련을 총 45(=15x3)번 진행한다.\n",
    "\n",
    "```python\n",
    "full_pipeline = Pipeline([\n",
    "    (\"preprocessing\", preprocessing),\n",
    "    (\"random_forest\", RandomForestRegressor(random_state=42)),\n",
    "])\n",
    "\n",
    "param_grid = [\n",
    "    {'preprocessing__geo__n_clusters': [5, 8, 10],\n",
    "     'random_forest__max_features': [4, 6, 8]},\n",
    "    {'preprocessing__geo__n_clusters': [10, 15],\n",
    "     'random_forest__max_features': [6, 8, 10]},\n",
    "]\n",
    "\n",
    "grid_search = GridSearchCV(full_pipeline, param_grid, cv=3,\n",
    "                           scoring='neg_root_mean_squared_error')\n",
    "\n",
    "grid_search.fit(housing, housing_labels)\n",
    "```"
   ]
  },
  {
   "cell_type": "markdown",
   "metadata": {
    "colab": {
     "base_uri": "https://localhost:8080/",
     "height": 386
    },
    "colab_type": "code",
    "id": "ifogOw83VT3Y",
    "outputId": "8cce903f-83cc-45f8-b720-4ee44f3c2a16",
    "slideshow": {
     "slide_type": "slide"
    }
   },
   "source": [
    "### 랜덤 탐색"
   ]
  },
  {
   "cell_type": "markdown",
   "metadata": {
    "colab": {
     "base_uri": "https://localhost:8080/",
     "height": 386
    },
    "colab_type": "code",
    "id": "ifogOw83VT3Y",
    "outputId": "8cce903f-83cc-45f8-b720-4ee44f3c2a16",
    "slideshow": {
     "slide_type": ""
    }
   },
   "source": [
    "그리드 탐색은 적은 수의 조합을 실험해볼 때만 유용하다.\n",
    "반면에 하이퍼파라미터의 탐색 공간이 크면 랜덤 탐색이 보다 유용하다.\n",
    "랜덤 탐색은 하이퍼라라미터 조합을 임의로 지정된 횟수만큼 진행한다."
   ]
  },
  {
   "cell_type": "markdown",
   "metadata": {
    "colab": {
     "base_uri": "https://localhost:8080/",
     "height": 386
    },
    "colab_type": "code",
    "id": "ifogOw83VT3Y",
    "outputId": "8cce903f-83cc-45f8-b720-4ee44f3c2a16",
    "slideshow": {
     "slide_type": ""
    }
   },
   "source": [
    "**`RandomizedSearchCV` 클래스**\n",
    "\n",
    "아래 코드는 다음 두 하이퍼파라미터를 대상으로 \n",
    "10번(`n_iter=10`) 지정된 구간 내에서 무작위 선택을 진행한다. \n",
    "\n",
    "- `preprocessing__geo__n_clusters`\n",
    "- `random_forest__max_features`\n",
    "\n",
    "또한 3-겹 교차검증(`cv=3`)을 진행하기에 모델 훈련을 총 30(=10x30)번 진행한다.\n",
    "\n",
    "```python\n",
    "from sklearn.model_selection import RandomizedSearchCV\n",
    "from scipy.stats import randint\n",
    "\n",
    "param_distribs = {'preprocessing__geo__n_clusters': randint(low=3, high=50),\n",
    "                  'random_forest__max_features': randint(low=2, high=20)}\n",
    "\n",
    "rnd_search = RandomizedSearchCV(\n",
    "    full_pipeline, param_distributions=param_distribs, n_iter=10, cv=3,\n",
    "    scoring='neg_root_mean_squared_error', random_state=42)\n",
    "\n",
    "rnd_search.fit(housing, housing_labels)\n",
    "```"
   ]
  },
  {
   "cell_type": "markdown",
   "metadata": {},
   "source": [
    ":::{admonition} 하이퍼파라리미터 무작위 선택\n",
    ":class: info\n",
    "\n",
    "랜덤 탐색을 하려면 특정 옵션 변수갈들을 무작위로 선택해주는 확률분포 함수를 지정해야 한다. \n",
    "앞서 랜덤 탐색에서 사용한 옵션 변수와 확률분포는 다음과 같이 \n",
    "이산 균등 분포를 사용하는 `randint()` 함수를 이용하였다.\n",
    "\n",
    "```python\n",
    "'preprocessing__geo__n_clusters': randint(low=3, high=50)\n",
    "'random_forest__max_features': randint(low=2, high=20)\n",
    "```\n",
    "\n",
    "scipy는 이외에 다른 종류의 확률 분포 함수를 지원한다.\n",
    "예를 들어, 지정된 구간에서의 부동소수점을 선택해야 한다면 \n",
    "연속 균등 분포 함수인 `scipy.stats.uniform(a, b)`를 이용할 수 있다.\n",
    ":::"
   ]
  },
  {
   "cell_type": "markdown",
   "metadata": {},
   "source": [
    ":::{admonition} 기타 모델 미세 조정 도구\n",
    ":class: info\n",
    "\n",
    "다양한 방식의 모델 미세 조정에 대한 보다 자세한 정보는\n",
    "[Best Tools for Model Tuning and Hyperparameter Optimization](https://neptune.ai/blog/best-tools-for-model-tuning-and-hyperparameter-optimization)을 참고할 수 있다.\n",
    ":::"
   ]
  },
  {
   "cell_type": "markdown",
   "metadata": {},
   "source": [
    "**앙상블 학습**"
   ]
  },
  {
   "cell_type": "markdown",
   "metadata": {},
   "source": [
    "결정 트리 모델 하나보다 랜덤 포레스트처럼 여러 모델로 이루어진 모델이 보다 좋은 성능을 낼 수 있다. \n",
    "또한 최고 성능을 보이는 서로 다른 개별 모델을 조합하면 보다 좋은 성능을 얻을 수 있다. \n",
    "이렇게 성능이 좋은 여러 개의 모델을 함께 학습하여 예측값을 지정하는 방식을 앙상블 학습이라 하며, \n",
    "{numref}`%s장 <ch:ensemble>`에서 자세히 다룬다."
   ]
  },
  {
   "cell_type": "markdown",
   "metadata": {
    "colab_type": "text",
    "id": "35rznSX-lVzd",
    "slideshow": {
     "slide_type": "slide"
    }
   },
   "source": [
    "### 최적 모델 활용"
   ]
  },
  {
   "cell_type": "markdown",
   "metadata": {
    "colab_type": "text",
    "id": "35rznSX-lVzd",
    "slideshow": {
     "slide_type": ""
    }
   },
   "source": [
    "그리드 탐색 또는 랜덤 탐색을 통해 얻어진 최적의 모델을 분석해서 문제에 대한 통찰을 얻을 수 있다.\n",
    "예를 들어, 최적의 랜덤 포레스트 모델로부터 타깃 예측에 사용된 특성들의 상대적 중요도를 확인하여\n",
    "중요하지 않은 특성을 제외할 수 있다.\n",
    "\n",
    "캘리포니아 주택 가격 예측 모델의 경우 랜덤 탐색을 통해 찾아낸 최적의 모델에서 \n",
    "`feature_importances_`를 확인하면 다음 정보를 얻는다.\n",
    "\n",
    "- `log__median_income` 특성이 가장 중요하다.\n",
    "- 해안 근접도 특성 중에서 `INLAND` 특성만 중요하다."
   ]
  },
  {
   "cell_type": "markdown",
   "metadata": {},
   "source": [
    "```python\n",
    "final_model = rnd_search.best_estimator_                                 # 최적 모델\n",
    "feature_importances = final_model[\"random_forest\"].feature_importances_  # 특성뱔 상대적 중요도\n",
    "\n",
    "# 중요도 내림차순 정렬\n",
    "sorted(zip(feature_importances,\n",
    "           final_model[\"preprocessing\"].get_feature_names_out()),\n",
    "           reverse=True)\n",
    "\n",
    "[(0.18694559869103852, 'log__median_income'),\n",
    " (0.0748194905715524, 'cat__ocean_proximity_INLAND'),\n",
    " (0.06926417748515576, 'bedrooms_ratio__bedrooms_ratio'),\n",
    " (0.05446998753775219, 'rooms_per_house__rooms_per_house'),\n",
    " (0.05262301809680712, 'people_per_house__people_per_house'),\n",
    " (0.03819415873915732, 'geo__Cluster 0 similarity'),\n",
    " [...]\n",
    " (0.00015061247730531558, 'cat__ocean_proximity_NEAR BAY'),\n",
    " (7.301686597099842e-05, 'cat__ocean_proximity_ISLAND')]\n",
    "```"
   ]
  },
  {
   "cell_type": "markdown",
   "metadata": {},
   "source": [
    "**테스트셋 활용 최종 평가**"
   ]
  },
  {
   "cell_type": "markdown",
   "metadata": {},
   "source": [
    "최고 성능 모델을 테스트셋에 적용하여 훈련된 모델의 성능을 최종 평가한다."
   ]
  },
  {
   "cell_type": "markdown",
   "metadata": {},
   "source": [
    "```python\n",
    "X_test = strat_test_set.drop(\"median_house_value\", axis=1)\n",
    "y_test = strat_test_set[\"median_house_value\"].copy()\n",
    "\n",
    "final_predictions = final_model.predict(X_test)\n",
    "\n",
    "final_rmse = mean_squared_error(y_test, final_predictions, squared=False)\n",
    "```"
   ]
  },
  {
   "cell_type": "markdown",
   "metadata": {
    "slideshow": {
     "slide_type": "fragment"
    }
   },
   "source": [
    "## 최적 모델 저장과 활용"
   ]
  },
  {
   "cell_type": "markdown",
   "metadata": {
    "slideshow": {
     "slide_type": "slide"
    }
   },
   "source": [
    "최적의 모델을 훈련시키는 과정이 매우 길 수 있다.\n",
    "따라서 한 번 훈련된 좋은 모델은 저장해 놓고 필요할 때 불러와서 바로 사용할 수 있도록 해둔다.\n",
    "이 뿐만 아니라 업데이트된 모델이 적절하지 않은 경우 이전 모델로 되돌려야 하는 상황이 발생할 수도 있다.\n",
    "\n",
    "모델의 저장과 불러오기는 `joblib` 모듈을 활용한다. \n",
    "\n",
    "- 저장하기\n",
    "\n",
    "    ```python\n",
    "    joblib.dump(final_model, \"my_california_housing_model.pkl\")\n",
    "    ```\n",
    "- 불러오기\n",
    "\n",
    "    ```python\n",
    "    final_model_reloaded = joblib.load(\"my_california_housing_model.pkl\")\n",
    "    final_model_reloaded.predict(X_test)\n",
    "    ```    "
   ]
  },
  {
   "cell_type": "markdown",
   "metadata": {},
   "source": [
    "## 연습문제"
   ]
  },
  {
   "cell_type": "markdown",
   "metadata": {},
   "source": [
    "참고: [(실습) 머신러닝 프로젝트 처음부터 끝까지 1부](https://colab.research.google.com/github/codingalzi/handson-ml3/blob/master/practices/practice_end2end_ml_project_1.ipynb) 와\n",
    "[(실습) 머신러닝 프로젝트 처음부터 끝까지 2부](https://colab.research.google.com/github/codingalzi/handson-ml3/blob/master/practices/practice_end2end_ml_project_2.ipynb)"
   ]
  }
 ],
 "metadata": {
  "colab": {
   "collapsed_sections": [],
   "name": "핸즈온머신러닝_2장.ipynb",
   "provenance": []
  },
  "kernelspec": {
   "display_name": "Python 3 (ipykernel)",
   "language": "python",
   "name": "python3"
  },
  "language_info": {
   "codemirror_mode": {
    "name": "ipython",
    "version": 3
   },
   "file_extension": ".py",
   "mimetype": "text/x-python",
   "name": "python",
   "nbconvert_exporter": "python",
   "pygments_lexer": "ipython3",
   "version": "3.11.4"
  }
 },
 "nbformat": 4,
 "nbformat_minor": 1
}
