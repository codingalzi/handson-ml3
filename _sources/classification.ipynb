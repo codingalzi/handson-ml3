{
 "cells": [
  {
   "cell_type": "markdown",
   "id": "88e34397",
   "metadata": {},
   "source": [
    "(ch:classification)=\n",
    "# 분류"
   ]
  },
  {
   "cell_type": "markdown",
   "id": "810c3215",
   "metadata": {
    "slideshow": {
     "slide_type": "slide"
    }
   },
   "source": [
    "**감사의 글**\n",
    "\n",
    "자료를 공개한 저자 오렐리앙 제롱과 강의자료를 지원한 한빛아카데미에게 진심어린 감사를 전합니다."
   ]
  },
  {
   "cell_type": "markdown",
   "id": "f6931e55",
   "metadata": {},
   "source": [
    "**소스코드**\n",
    "\n",
    "본문 내용의 일부를 파이썬으로 구현한 내용은 \n",
    "[(구글코랩) 분류](https://colab.research.google.com/github/codingalzi/handson-ml3/blob/master/notebooks/code_classification.ipynb)에서 \n",
    "확인할 수 있다."
   ]
  },
  {
   "cell_type": "markdown",
   "id": "ba5240e0",
   "metadata": {
    "colab_type": "text",
    "id": "_6ptLsZo9knQ",
    "slideshow": {
     "slide_type": "slide"
    }
   },
   "source": [
    "**주요 내용**\n",
    "\n",
    "* MNIST 데이터셋\n",
    "* 이진 분류기 훈련\n",
    "* 분류기 성능 측정\n",
    "* 다중 클래스 분류\n",
    "* 오류 분석\n",
    "* 다중 라벨 분류"
   ]
  },
  {
   "cell_type": "markdown",
   "id": "f61dae03",
   "metadata": {},
   "source": [
    "**슬라이드**\n",
    "\n",
    "본문 내용을 요약한\n",
    "[슬라이드](https://github.com/codingalzi/handson-ml3/raw/master/slides/slides-classification.pdf)를\n",
    "다운로드할 수 있다."
   ]
  },
  {
   "cell_type": "markdown",
   "id": "39fde112",
   "metadata": {
    "colab_type": "text",
    "id": "uWLIes9W-hTI",
    "slideshow": {
     "slide_type": "slide"
    }
   },
   "source": [
    "## MNIST 데이터셋"
   ]
  },
  {
   "cell_type": "markdown",
   "id": "8a23eb34",
   "metadata": {
    "colab_type": "text",
    "id": "uWLIes9W-hTI",
    "slideshow": {
     "slide_type": ""
    }
   },
   "source": [
    "미국의 고등학생과 인구조사국 직원들이 손으로 쓴 70,000개의 숫자 이미지로 구성된 데이터셋이다."
   ]
  },
  {
   "cell_type": "markdown",
   "id": "314f2451",
   "metadata": {},
   "source": [
    "`sklearn.datasets` 모듈은 데이터셋을 다운로드하거나 생성하는 세 종류를 함수를 제공하며\n",
    "함수명에 사용된 접두사에 따라 용도가 다르다.\n",
    "\n",
    "- `fetch_*`: 다운로드 및 적재. `sklearn.utils.Bunch` 객체 반환.\n",
    "- `load_*`: 미니 데이터셋 적재. 다운로드 없음.\n",
    "- `make_*`:  데이터셋 임의 생성. 입력 데이터셋과 타깃 데이터셋으로 구분된 `(X, y)` 모양의 넘파이 어레이 생성."
   ]
  },
  {
   "cell_type": "markdown",
   "id": "a7b61daa",
   "metadata": {},
   "source": [
    "**데이터 불러오기**"
   ]
  },
  {
   "cell_type": "markdown",
   "id": "71d2d7a2",
   "metadata": {},
   "source": [
    "MNIST 데이터셋을 다운로드해서 `Bunch` 객체로 적재온다.\n",
    "`Bunch` 자료형은 사전 (`Dict`) 자료형의 일종이며\n",
    "`data`, `target` 등 머신러닝 모델 훈련에 사용될 데이터셋을 저장할 때 활용된다."
   ]
  },
  {
   "cell_type": "markdown",
   "id": "5dfe1e1b",
   "metadata": {},
   "source": [
    "```python\n",
    "from sklearn.datasets import fetch_openml\n",
    "\n",
    "mnist = fetch_openml('mnist_784', as_frame=False)\n",
    "```"
   ]
  },
  {
   "cell_type": "markdown",
   "id": "42ff40b0",
   "metadata": {},
   "source": [
    "**입력 데이터셋과 타깃 데이터셋**"
   ]
  },
  {
   "cell_type": "markdown",
   "id": "675acee9",
   "metadata": {},
   "source": [
    "입력 데이터는 0부터 9까지의 숫자는 모두 28x28 크기의 1차원 어레이로,\n",
    "라벨은 정수가 아니라 `'0'`, `'1'`, ..., `'9'`처럼 문자열로 지정되었다."
   ]
  },
  {
   "cell_type": "markdown",
   "id": "ab1c93c8",
   "metadata": {},
   "source": [
    "```python\n",
    "X, y = mnist.data, mnist.target\n",
    "```"
   ]
  },
  {
   "cell_type": "markdown",
   "id": "1a17503f",
   "metadata": {},
   "source": [
    "아래 이미지는 첫 손글씨 데이터를 28x28 모양으로 변환한 다음에 `pyplot.imshow()` 함수를 이용하여\n",
    "그려진 것이며 숫자 5를 가리키는 것으로 보인다. 실제로도 타깃은 숫자 5이다. "
   ]
  },
  {
   "cell_type": "markdown",
   "id": "02c5634a",
   "metadata": {
    "slideshow": {
     "slide_type": "slide"
    }
   },
   "source": [
    "<div align=\"center\"><img src=\"https://raw.githubusercontent.com/codingalzi/handson-ml3/master/jupyter-book/imgs/ch03/mnist_digit_5.jpg\" width=\"250\"/></div>"
   ]
  },
  {
   "cell_type": "markdown",
   "id": "00fddf17",
   "metadata": {},
   "source": [
    "첫 100 개의 손글씨 이미지는 다음과 같다."
   ]
  },
  {
   "cell_type": "markdown",
   "id": "39d5c32c",
   "metadata": {
    "slideshow": {
     "slide_type": "slide"
    }
   },
   "source": [
    "<div align=\"center\"><img src=\"https://raw.githubusercontent.com/codingalzi/handson-ml3/master/jupyter-book/imgs/ch03/homl03-01.png\" width=\"400\"/></div>"
   ]
  },
  {
   "cell_type": "markdown",
   "id": "d382135f",
   "metadata": {
    "slideshow": {
     "slide_type": "slide"
    }
   },
   "source": [
    "**문제 정의**\n",
    "\n",
    "* 지도학습: 각 이미지가 담고 있는 숫자가 라벨로 지정됨.\n",
    "* 모델: 이미지 데이터를 분석하여 0부터 9까지, 총 10개의 범주로\n",
    "    분류하는 **다중 클래스 분류**<font size='2'>multiclass classification</font>.\n",
    "* 실시간 훈련 여부: 배치 또는 온라인 학습 둘 다 가능하지만 여기서는 \n",
    "  **확률적 경사하강법**<font size='2'>stochastic gradient descent</font>(SGD)과 \n",
    "  랜덤 포레스트 분류기를 이용하여 배치 학습 실행"
   ]
  },
  {
   "cell_type": "markdown",
   "id": "51e3afdd",
   "metadata": {},
   "source": [
    ":::{admonition} 배치 학습 대 온라인 학습\n",
    ":class: note\n",
    "\n",
    "배치 학습은 빠르게 변하는 데이터에 적응할 필요가 없고 데이터셋의 크기도 \n",
    "충분히 작아 데이터셋 전체를 컴퓨터 메모리에 적재한 상태애서 모델 훈련을 진행하는 기법을 가리킨다.\n",
    "반면에 온라인 학습은 데이터셋이 너무 크거나 실시간 학습이 필요한 경우 \n",
    "데이터셋을 보충하면서 모델 훈련을 점차적으로 진행시키는 기법이다.\n",
    ":::"
   ]
  },
  {
   "cell_type": "markdown",
   "id": "ccbff2d9",
   "metadata": {
    "colab_type": "text",
    "id": "B564-YgL_CeX",
    "slideshow": {
     "slide_type": ""
    }
   },
   "source": [
    "**훈련셋과 테스트셋**\n",
    "\n",
    "이미 6:1 의 비율로 훈련셋과 데이터셋으로 분류되어 있다.\n",
    "모든 샘플은 무작위로 잘 섞여 있어서 교차 검증에 문제없이 사용될 수 있다.\n",
    "\n",
    "* 훈련 세트(`X_train`): 앞쪽 60,000개 이미지\n",
    "* 테스트 세트(`X_test`): 나머지 10,000개의 이미지"
   ]
  },
  {
   "cell_type": "markdown",
   "id": "87737a97",
   "metadata": {},
   "source": [
    "```python\n",
    "X_train, X_test, y_train, y_test = X[:60000], X[60000:], y[:60000], y[60000:]\n",
    "```"
   ]
  },
  {
   "cell_type": "markdown",
   "id": "71df3955",
   "metadata": {
    "colab_type": "text",
    "id": "nhGzfHVBENHD",
    "slideshow": {
     "slide_type": "slide"
    }
   },
   "source": [
    "## 이진 분류기: 숫자-5 감별기"
   ]
  },
  {
   "cell_type": "markdown",
   "id": "84698584",
   "metadata": {
    "colab_type": "text",
    "id": "nhGzfHVBENHD",
    "slideshow": {
     "slide_type": "slide"
    }
   },
   "source": [
    "10개의 클래스로 분류하는 다중 클래스 모델을 훈련하기 전에 먼저\n",
    "이미지 샘플이 숫자 5를 표현하는지 여부를 판단하는 **이진 분류기**를 훈련시킨다.\n",
    "이를 통해 분류기의 기본 훈련 과정과 성능 평가 방법을 알아본다.\n",
    "\n",
    "이진 분류기인 숫자-5 감별기의 훈련을 위해 타깃 데이터셋(`y_train_5`)을 새로 설정한다.\n",
    "\n",
    "* 1: 숫자 5를 가리키는 이미지 라벨\n",
    "* 0: 숫자 5 이외의 수를 가리키는 이미지 라벨"
   ]
  },
  {
   "cell_type": "markdown",
   "id": "87e92a3c",
   "metadata": {},
   "source": [
    "```python\n",
    "y_train_5 = (y_train == '5')\n",
    "y_test_5 = (y_test == '5')\n",
    "```"
   ]
  },
  {
   "cell_type": "markdown",
   "id": "02ba3481",
   "metadata": {
    "colab_type": "text",
    "id": "7FzWU46mEung",
    "slideshow": {
     "slide_type": "slide"
    }
   },
   "source": [
    "먼저 `SGDClassifier` 클래스를 이용하여 숫자-5 감별기를 훈련시킨다.\n",
    "`SGDClassifier` 분류기는 \n",
    "**확률적 경사하강법**<font size='2'>stochastic gradient descent</font> 분류기라고도 불린다.\n",
    "한 번에 하나씩 훈련 샘플을 이용하여 훈련한 후 파라미터를 조정하기에\n",
    "매우 큰 데이터셋 처리와 온라인 학습에 적합하다.\n",
    "\n",
    "```python\n",
    "from sklearn.linear_model import SGDClassifier\n",
    "\n",
    "sgd_clf = SGDClassifier(random_state=42)\n",
    "sgd_clf.fit(X_train, y_train_5)\n",
    "```"
   ]
  },
  {
   "cell_type": "markdown",
   "id": "2d5b27be",
   "metadata": {},
   "source": [
    "**이미지 픽셀과 데이터 입력 특성**"
   ]
  },
  {
   "cell_type": "markdown",
   "id": "613c60d5",
   "metadata": {},
   "source": [
    "모델 훈련에 사용되는 입력 데이터셋의 모든 샘플은 길이가 784인 1차원 어레이로 주어졌다.\n",
    "어레이의 각 항목은 `28x28` 모양의 손글씨 이미지에 포함된 하나의 픽셀값에 해당한다.\n",
    "즉, 이미지에 포함된 모든 픽셀이 입력 데이터 샘플의 특성이 된다.\n",
    "따라서 `sgc_clf` 모델은 784 개의 픽셀 정보를 이용하여 해당 이미지 샘플이 가리키는 숫자가\n",
    "5인지 여부를 판정하도록 훈련된다."
   ]
  },
  {
   "cell_type": "markdown",
   "id": "d263b049",
   "metadata": {
    "colab_type": "text",
    "id": "HKzlrc2OFwkQ",
    "slideshow": {
     "slide_type": "slide"
    }
   },
   "source": [
    "## 분류기 성능 측정"
   ]
  },
  {
   "cell_type": "markdown",
   "id": "90777bde",
   "metadata": {
    "colab_type": "text",
    "id": "HKzlrc2OFwkQ",
    "slideshow": {
     "slide_type": "slide"
    }
   },
   "source": [
    "분류기의 성능 측정 기준으로 보통 다음 세 가지를 사용한다.\n",
    "\n",
    "* 정확도\n",
    "* 정밀도와 재현율\n",
    "* ROC 곡선의 AUC"
   ]
  },
  {
   "cell_type": "markdown",
   "id": "584c6ba4",
   "metadata": {
    "colab_type": "text",
    "id": "PAQQy0I2It_j",
    "slideshow": {
     "slide_type": "slide"
    }
   },
   "source": [
    "### 오차 행렬"
   ]
  },
  {
   "cell_type": "markdown",
   "id": "27925753",
   "metadata": {
    "colab_type": "text",
    "id": "NtvFM0j-Gzy8",
    "slideshow": {
     "slide_type": ""
    }
   },
   "source": [
    "**오차 행렬**<font size=\"2\">confusion matrix</font>은 클래스별 예측 결과를 정리한 행렬이다.\n",
    "이진 분류기인 숫자-5 감별기에 대한 오차 행렬은 아래와 같은 (2, 2) 모양의 2차원 (넘파이) 어레이로 생성된다.\n",
    "\n",
    "아래 코드는 교차 검증을 이용하여 예측을 수행한 다음 이를 이용하여 오차 행렬을 생성한다."
   ]
  },
  {
   "cell_type": "markdown",
   "id": "a2d1e836",
   "metadata": {},
   "source": [
    "```python\n",
    "from sklearn.model_selection import cross_val_predict\n",
    "from sklearn.metrics import confusion_matrix\n",
    "\n",
    "y_train_pred = cross_val_predict(sgd_clf, X_train, y_train_5, cv=3)\n",
    "confusion_matrix(y_train_5, y_train_pred)\n",
    "```"
   ]
  },
  {
   "cell_type": "markdown",
   "id": "19a49e93",
   "metadata": {},
   "source": [
    "```python\n",
    "array([[53892,   687],\n",
    "       [ 1891,  3530]])\n",
    "```"
   ]
  },
  {
   "cell_type": "markdown",
   "id": "aac23280",
   "metadata": {},
   "source": [
    "아래 그림은 숫자-5 감별기의 오차 행렬을 단순화하여 보여준다. \n",
    "\n",
    "<p><div align=\"center\"><img src=\"https://raw.githubusercontent.com/codingalzi/handson-ml3/master/jupyter-book/imgs/ch03/homl03-02.png\" width=\"400\"/></div></p>"
   ]
  },
  {
   "cell_type": "markdown",
   "id": "6e271993",
   "metadata": {},
   "source": [
    "### 정확도"
   ]
  },
  {
   "cell_type": "markdown",
   "id": "e59d0bc2",
   "metadata": {},
   "source": [
    "**정확도**<font size='2'>accuracy</font>는 라벨을 정확하기 맞힌 비율이다.\n",
    "\n",
    "$$\\text{정확도} = \\frac{TP+TN}{TP+FP+TN+FN} = \\frac{3530 + 53892}{3530 + 687 + 53892 + 1891} = 0.957$$"
   ]
  },
  {
   "cell_type": "markdown",
   "id": "2e2ba372",
   "metadata": {},
   "source": [
    "**정확도의 한계**"
   ]
  },
  {
   "cell_type": "markdown",
   "id": "fba6ced8",
   "metadata": {},
   "source": [
    "정확도가 96% 정도로 매우 좋은 결과로 보인다. 하지만 \"무조건 5가 아니다\" 라고 예측하는 모델도 90%의 정확도를 보인다. 특정 범주에 속하는 데이터가 상대적으로 너무 많을 경우 정확도는 신뢰하기 어려운 평가 기준임을 잘 보여주는 사례다. \n",
    "이런 경우엔 정확도 보다는 정밀도와 재현율을 이용하여 평가하는데 성능이 상대적으로 낮게 나온다. 특히 재현율의 성능이 매우 낮다."
   ]
  },
  {
   "cell_type": "markdown",
   "id": "d6e61a0d",
   "metadata": {
    "colab_type": "text",
    "id": "NeAUnMABGFp1",
    "slideshow": {
     "slide_type": "slide"
    }
   },
   "source": [
    "### 정밀도와 재현율"
   ]
  },
  {
   "cell_type": "markdown",
   "id": "995f05b1",
   "metadata": {
    "colab_type": "text",
    "id": "NeAUnMABGFp1",
    "slideshow": {
     "slide_type": "slide"
    }
   },
   "source": [
    "**정밀도**<font size=\"2\">precision</font>는 양성 예측의 정확도를 가리킨다.\n",
    "여기서는 숫자 5라고 예측된 값들 중에서 진짜로 5인 숫자들의 비율이다. \n",
    "\n",
    "$$\\text{정밀도} = \\frac{TP}{TP+FP} = \\frac{3530}{3530 + 687} = 0.837$$"
   ]
  },
  {
   "cell_type": "markdown",
   "id": "f68483b5",
   "metadata": {
    "colab_type": "text",
    "id": "RvbwFTjiHiMA",
    "slideshow": {
     "slide_type": "slide"
    }
   },
   "source": [
    "5인지 여부를 맞추는 모델의 예에서 확인했듯이 정밀도 하나만으로 분류기의 성능을 평가할 수는 없다.\n",
    "보다 구체적인 이유는 숫자 5를 가리키는 이미지 중에 숫자 5라고 판명된 비율인 \n",
    "**재현율**<font size=\"2\">recall</font> 함께 고려해야 하기 때문이다.\n",
    "\n",
    "**재현율**<font size='2'>recall</font>은 양성 샘플에 대한 정확도, 즉, 분류기가 정확하게 감지한 양성 샘플의 비율이며,\n",
    "**참 양성 비율**<font size=\"2\">true positive rate</font>로도 불린다.\n",
    "\n",
    "$$\\text{재현율} = \\frac{TP}{TP+FN} = \\frac{3530}{3530 + 1891} = 0.651$$"
   ]
  },
  {
   "cell_type": "markdown",
   "id": "b768fa40",
   "metadata": {
    "slideshow": {
     "slide_type": "slide"
    }
   },
   "source": [
    "**정밀도와 재현율의 상대적 중요도**"
   ]
  },
  {
   "cell_type": "markdown",
   "id": "f33c7eaa",
   "metadata": {},
   "source": [
    "모델 사용의 목적에 따라 정밀도와 재현율의 중요도가 다를 수 있다.\n",
    "\n",
    "* 재현율이 보다 중요한 경우: 암진단처럼 예측이 틀렸을 경우 큰 책임이 따르는 경우. \n",
    "    * 정밀도: 암이 있다고 진단된 경우 중에 실제로도 암이 있는 경우의 비율\n",
    "    * 재현율: 암으로 판정해야 하는 경우 중에서 양성 암진단으로 결론내린 경우의 비율\n",
    "    * 다른 예제: 금융 사기 여부, 태풍 예보\n",
    "\n",
    "* 정밀도가 보다 중요한 경우: 아이에게 보여줄 안전한 동영상 선택처럼 일부 양성 모델을 놓치더라도 음성이 양성으로 판정되는 경우가 적어야 하는 경우.\n",
    "    * 정밀도: 안전하다고 판단된 동영상 중에서 실제로도 안전한 동영상의 비율\n",
    "    * 재현율: 실제로 좋은 동영상 중에서 좋은 동영상이라고 판정되는 동영상 비율\n",
    "    * 다른 예제: 스팸 필터링"
   ]
  },
  {
   "cell_type": "markdown",
   "id": "3e2bad11",
   "metadata": {
    "colab_type": "text",
    "id": "_pW5m4MRJz0N",
    "slideshow": {
     "slide_type": "slide"
    }
   },
   "source": [
    "### 정밀도/재현율 트레이드오프"
   ]
  },
  {
   "cell_type": "markdown",
   "id": "3109e54c",
   "metadata": {},
   "source": [
    "분류기의 **결정 함수**<font size=\"2\">decision function</font>는 각 샘플에 대해 점수를 계산하며\n",
    "이 점수가 **결정 임계값**<font size=\"2\">decision threshold</font>보다\n",
    "같거나 크면 양성, 아니면 음성으로 판단한다.\n",
    "예를 들어 `SGDClassifier`는 `decision_function()` 메서드를 결정 함수로 이용하며,\n",
    "결정 함숫값이 0보다 작으면 음성, 0보다 같거나 크면 양성으로 판정한다."
   ]
  },
  {
   "cell_type": "markdown",
   "id": "602c3371",
   "metadata": {
    "colab_type": "text",
    "id": "_pW5m4MRJz0N",
    "slideshow": {
     "slide_type": ""
    }
   },
   "source": [
    "정밀도와 재현율은 상호 반비례 관계이다.\n",
    "즉, 한쪽이 증가하면 다른쪽이 감소하는 **트레이드오프**<font size='2'>tradeoff</font> 관계이다.\n",
    "따라서 정밀도와 재현율 사이의 적절한 비율을 유지하는 분류기를 찾아야 한다. \n",
    "정밀도와 재현율의 비율은 모델이 사용하는 **결정 임곗값**에 따라 달라진다."
   ]
  },
  {
   "cell_type": "markdown",
   "id": "40444261",
   "metadata": {},
   "source": [
    "아래 예제가 정밀도와 재현율의 트레이드오프 관계를 잘 보여준다.\n",
    "\n",
    "- 결정 임곗값의 위치에 따라 정밀도와 재현율이 서로 다른 방향으로 움직인다.\n",
    "- 결정 임곗값이 클 수록 분류기의 정밀도는 올라가지만 재현율은 떨어진다.\n",
    "- 결정 임곗값이 작을 수록 분류기의 정밀도는 내려가지만 재현율은 올라간다."
   ]
  },
  {
   "cell_type": "markdown",
   "id": "fc915064",
   "metadata": {
    "colab_type": "text",
    "id": "NtvFM0j-Gzy8",
    "slideshow": {
     "slide_type": ""
    }
   },
   "source": [
    ":::{prf:example} 정밀도와 재현율의 트레이드오프\n",
    ":label: exp_decision_threshold\n",
    "\n",
    "아래 그림에서 세 개의 화살표 (a), (b), (c)는 서로 다른 결정 임곗값을 가리키며, \n",
    "화살표 윗쪽에 위치한 정밀도와 재현율은 해당 결정 임곗값을 기준으로\n",
    "주어진 샘플의 양성, 음성 여부를 판단할 경우의 정밀도와 재현율이다. \n",
    "\n",
    "<div align=\"center\"><img src=\"https://raw.githubusercontent.com/codingalzi/handson-ml3/master/jupyter-book/imgs/ch03/homl03-03.png\" width=\"500\"/></div>\n",
    "\n",
    "- 경우 (a)\n",
    "    - 정밀도 80%: 양성으로 예측된 5개의 샘플 중 정말로 5를 가리키는 샘플 4개, 아닌 샘플 1개\n",
    "    - 재현율 67%: 실제로 5인 샘플 총 6개 중에 5라고 판정된 샘플 4개\n",
    "- 경우 (b)\n",
    "    - 정밀도 75%: 양성으로 예측된 8개의 샘플 중 정말로 5를 가리키는 샘플 6개, 아닌 샘플 2개\n",
    "    - 재현율 100%: 실제로 5인 샘플 총 6개 중에 5라고 판정된 샘플 6개\n",
    "- 경우 (c)\n",
    "    - 정밀도 100%: 양성으로 예측된 3개의 샘플 중 정말로 5를 가리키는 샘플 3개, 아닌 샘플 0개\n",
    "    - 재현율 50%: 실제로 5인 샘플 총 6개 중에 5라고 판정된 샘플 3개\n",
    ":::"
   ]
  },
  {
   "cell_type": "markdown",
   "id": "61fa4e9a",
   "metadata": {
    "slideshow": {
     "slide_type": "slide"
    }
   },
   "source": [
    "**결정 함수와 결정 임곗값**"
   ]
  },
  {
   "cell_type": "markdown",
   "id": "0398450d",
   "metadata": {},
   "source": [
    "결정 함수를 이용해서 교차검증을 실행하면 각 샘플에 대한 결정 함수의 값으로 구성된 어레이가 생성된다.\n",
    "이를 위해 앞서 오차 행렬 생성에 사용된 `cross_val_predict()` 함수를 \n",
    "`method=\"decision_function\"` 키워드 인자와 함께 호출한다."
   ]
  },
  {
   "cell_type": "markdown",
   "id": "a7a279d7",
   "metadata": {},
   "source": [
    "```python\n",
    "y_scores = cross_val_predict(sgd_clf, X_train, y_train_5, cv=3, \n",
    "                             method=\"decision_function\")\n",
    "```"
   ]
  },
  {
   "cell_type": "markdown",
   "id": "c47fcbd1",
   "metadata": {},
   "source": [
    "처음 10개 샘플에 대한 결정 함숫값은 다음과 같다. 첫째 샘플의 결정 함숫값만 양수이고 나머지 9개는 음수다. 따라서 첫째 샘플만 5로 판정되고 나머자 9개는 5가 아니다라고 판정된다."
   ]
  },
  {
   "cell_type": "markdown",
   "id": "f48c2e5d",
   "metadata": {},
   "source": [
    "```python\n",
    "y_scores[:10]\n",
    "```"
   ]
  },
  {
   "cell_type": "markdown",
   "id": "687bf296",
   "metadata": {},
   "source": [
    "```\n",
    "array([  1200.93051237, -26883.79202424, -33072.03475406, -15919.5480689 ,\n",
    "       -20003.53970191, -16652.87731528, -14276.86944263, -23328.13728948,\n",
    "        -5172.79611432, -13873.5025381 ])\n",
    "```"
   ]
  },
  {
   "cell_type": "markdown",
   "id": "4bb9f497",
   "metadata": {
    "slideshow": {
     "slide_type": "slide"
    }
   },
   "source": [
    "**결정 임곗값/정밀도/재현율 그래프**"
   ]
  },
  {
   "cell_type": "markdown",
   "id": "1dad6612",
   "metadata": {},
   "source": [
    "아래 그래프는 `SGDClassifier` 모델을 숫자-5 감별기로 훈련시킨 결과를 이용한다.\n",
    "그래프는 결정 임곗값을 독립 변수로 해서 정밀도와 재현율의 변화를 보여준다.\n",
    "결정 임곗값이 커질 때 정밀도가 순간적으로 떨어질 수 있지만 결국엔 계속해서 상승한다."
   ]
  },
  {
   "cell_type": "markdown",
   "id": "63488e8b",
   "metadata": {},
   "source": [
    "<p><div align=\"center\"><img src=\"https://raw.githubusercontent.com/codingalzi/handson-ml3/master/jupyter-book/imgs/ch03/homl03-04.png\" width=\"500\"/></div></p>"
   ]
  },
  {
   "cell_type": "markdown",
   "id": "e7d2889e",
   "metadata": {},
   "source": [
    "`SGDClassifier` 는 0을 결정 임곗값으로 사용하기에 정밀도는 84% 정도, 재현율은 65% 정도다.\n",
    "반면에 검정 수직 점선은 정밀도는 90%, 재현율은 50% 정도가 되게 하는 결정 임곗값을 보여준다.\n",
    "결정 임곗값을 변경하여 원하는 정밀도와 재현율을 갖는 숫자-5 감별기를 구현하려면 \n",
    "수동으로 분류기를 구현해야 한다 ([90% 정밀도 분류기 구현](https://colab.research.google.com/github/codingalzi/handson-ml3/blob/master/notebooks/code_classification.ipynb#scrollTo=cKfpQLyuCHkf) 참고)."
   ]
  },
  {
   "cell_type": "markdown",
   "id": "26aacdfb",
   "metadata": {
    "slideshow": {
     "slide_type": "slide"
    }
   },
   "source": [
    "**정밀도/재현율 그래프**\n",
    "\n",
    "위 그래프를 재현율 대 정밀도 그래프로 변환하면 다음과 같다.\n",
    "\n",
    "<div align=\"center\"><img src=\"https://raw.githubusercontent.com/codingalzi/handson-ml3/master/jupyter-book/imgs/ch03/homl03-05.png\" width=\"400\"/></div>"
   ]
  },
  {
   "cell_type": "markdown",
   "id": "a25b50bb",
   "metadata": {
    "colab_type": "text",
    "id": "FwsLOHJpP9m3",
    "slideshow": {
     "slide_type": "slide"
    }
   },
   "source": [
    "### ROC 곡선의 AUC"
   ]
  },
  {
   "cell_type": "markdown",
   "id": "38a4fe95",
   "metadata": {
    "colab_type": "text",
    "id": "FwsLOHJpP9m3",
    "slideshow": {
     "slide_type": ""
    }
   },
   "source": [
    "**수신기 조작 특성**<font size=\"2\">receiver operating characteristic</font>(ROC) 곡선을 활용하여 \n",
    "이진 분류기의 성능을 측정할 수 잇다.\n",
    "**ROC** 곡선은 **거짓 양성 비율**<font size=\"2\">false positive rate</font>(FPR)에 대한 \n",
    "**참 양성 비율**<font size=\"2\">true positive rate</font>(TPR)의 관계를 나타내는 곡선이다.\n",
    "\n",
    "* 참 양성 비율(TPR): 재현율의 다른 이름.\n",
    "* 거짓 양성 비율(FPR): 원래 음성인 샘플 중에서 양성이라고 잘못 분류된 샘플들의 비율.\n",
    "    예를 들어, 5가 아닌 숫자중에서 5로 잘못 예측된 숫자의 비율."
   ]
  },
  {
   "cell_type": "markdown",
   "id": "901fb616",
   "metadata": {},
   "source": [
    "$$\\text{FPR} = \\frac{FP}{FP+TN}$$"
   ]
  },
  {
   "cell_type": "markdown",
   "id": "7fbcb5a6",
   "metadata": {
    "slideshow": {
     "slide_type": "slide"
    }
   },
   "source": [
    "**TPR 대 FPR**"
   ]
  },
  {
   "cell_type": "markdown",
   "id": "3dfe63ac",
   "metadata": {},
   "source": [
    "아래 그래프는 결정 임곗값에 따른 두 비율의 변화를 곡선으로 보여준다.\n",
    "재현율(TPR)과 거짓 양성 비율(FPR) 사이에도 서로 상쇄하는 기능이 있다는 것을 확인할 수 있다.\n",
    "이유는 재현율(TPR)을 높이고자 하면 거짓 양성 비율(FPR)도 함께 증가하기 때문이다.\n",
    "\n",
    "<div align=\"center\"><img src=\"https://raw.githubusercontent.com/codingalzi/handson-ml3/master/jupyter-book/imgs/ch03/homl03-06.png\" width=\"400\"/></div>"
   ]
  },
  {
   "cell_type": "markdown",
   "id": "b3f33ddd",
   "metadata": {
    "colab_type": "text",
    "id": "WJ0XiKfpSloy",
    "slideshow": {
     "slide_type": "slide"
    }
   },
   "source": [
    "**AUC와 분류기 성능**\n",
    "\n",
    "좋은 분류기는 재현율은 높으면서 거짓 양성 비율은 최대한 낮게 유지해야 한다.\n",
    "즉, ROC 곡선이 y축에 최대한 근접하도록 해야 하며,\n",
    "이는 ROC 곡선 아래의 면적, 즉 __AUC__(area under the curve)가 1에 가까울 수록 좋은 성능임을 의미한다. "
   ]
  },
  {
   "cell_type": "markdown",
   "id": "cdfc3419",
   "metadata": {
    "slideshow": {
     "slide_type": "slide"
    }
   },
   "source": [
    "MNIST 훈련 데이터셋으로 훈련된 `SGDClassifier` 와 `RandomForestClassifier`의 \n",
    "ROC 곡선을 함께 그리면 다음과 같이 랜덤 포레스트 모델의 AUC가 보다 1에 가깝다.\n",
    "즉, 보다 성능이 좋다. \n",
    "\n",
    "랜덤 포레스트 분류기는 `predict_proba()` 메서드를 결정 함수로 사용한다.\n",
    "`predict_proba()` 메서드는 입력 샘플에 대해 각 클래스에 속할 확률을 계산한다.\n",
    "여기서는 숫자-5가 아닌 경우(음성)와 숫자-5인 경우(양성)에 대한 확률값을 담은\n",
    "길이가 2인 튜플을 계산한다.\n",
    "양성으로 판정하는 기준값, 즉 결정 임계값은 0.5을 사용한다.\n",
    "즉 계산된 양성일 확률이 0.5보다 같거나 큰 경우 양성으로 판정한다."
   ]
  },
  {
   "cell_type": "markdown",
   "id": "1dfb5160",
   "metadata": {
    "slideshow": {
     "slide_type": "slide"
    }
   },
   "source": [
    "<p><div align=\"center\"><img src=\"https://raw.githubusercontent.com/codingalzi/handson-ml3/master/jupyter-book/imgs/ch03/homl03-07a.png\" width=\"400\"/></div></p>"
   ]
  },
  {
   "cell_type": "markdown",
   "id": "4ca37089",
   "metadata": {
    "slideshow": {
     "slide_type": "slide"
    }
   },
   "source": [
    "정밀도/재현율 그래프로 비교해 보더라도\n",
    "`RandomForestClassifier` 가 훨씬 좋은 성능을 보임을 확인할 수 있다."
   ]
  },
  {
   "cell_type": "markdown",
   "id": "4ecfa34a",
   "metadata": {
    "slideshow": {
     "slide_type": "slide"
    }
   },
   "source": [
    "<p><div align=\"center\"><img src=\"https://raw.githubusercontent.com/codingalzi/handson-ml3/master/jupyter-book/imgs/ch03/homl03-07.png\" width=\"400\"/></div></p>"
   ]
  },
  {
   "cell_type": "markdown",
   "id": "77a09453",
   "metadata": {
    "colab_type": "text",
    "id": "dBV19Og0V81i",
    "slideshow": {
     "slide_type": "slide"
    }
   },
   "source": [
    "## 다중 클래스 분류"
   ]
  },
  {
   "cell_type": "markdown",
   "id": "f2e0ec1d",
   "metadata": {
    "colab_type": "text",
    "id": "dBV19Og0V81i",
    "slideshow": {
     "slide_type": "slide"
    }
   },
   "source": [
    "**다중 클래스 분류**<font size=\"2\">multiclass classification</font>는 \n",
    "세 개 이상의 범주(클래스)로 샘플을 분류한다.\n",
    "예를 들어, MNIST 손글씨 숫자 문제는 입력값이 주어지면 \n",
    "0부터 9까지 10개의 범주로 분류하는 다중 클래스 모델을 훈련시키는 일이다."
   ]
  },
  {
   "cell_type": "markdown",
   "id": "3f3e42eb",
   "metadata": {
    "colab_type": "text",
    "id": "YdS9bBCvfuRC",
    "slideshow": {
     "slide_type": "slide"
    }
   },
   "source": [
    "**다중 클래스 분류 지원 모델**"
   ]
  },
  {
   "cell_type": "markdown",
   "id": "ac544ad3",
   "metadata": {
    "colab_type": "text",
    "id": "dBV19Og0V81i",
    "slideshow": {
     "slide_type": "slide"
    }
   },
   "source": [
    "아래 모델은 이진 분류와 다중 클래스 분류를 지원한다.\n",
    "\n",
    "* `LogisticRegression` 모델\n",
    "* `RandomForestClassifier` 모델\n",
    "* `SGDClassifier` 모델\n",
    "* `SVC` 모델"
   ]
  },
  {
   "cell_type": "markdown",
   "id": "ef03718d",
   "metadata": {},
   "source": [
    "이중에 `LogisticRegression` 모델은 딥러닝 모델에서도 많이 활용된다.\n",
    "\n",
    "- 이진 분류: 로지스틱 회귀 활용\n",
    "- 소프트맥스 회귀: 다중 클래스 분류\n",
    "\n",
    "자세한 내용은 {numref}`%s장 <ch:trainingModels>`에서 다룬다."
   ]
  },
  {
   "cell_type": "markdown",
   "id": "1001c136",
   "metadata": {
    "colab_type": "text",
    "id": "YdS9bBCvfuRC",
    "slideshow": {
     "slide_type": "slide"
    }
   },
   "source": [
    "**다중 클래스 분류 모델 교차 검증**"
   ]
  },
  {
   "cell_type": "markdown",
   "id": "15d5fe4d",
   "metadata": {
    "colab_type": "text",
    "id": "YdS9bBCvfuRC",
    "slideshow": {
     "slide_type": "slide"
    }
   },
   "source": [
    "숫자-5 감별기의 경우와는 달리 \n",
    "0부터 9까지의 범주로 분류하는 다중 클래스 분류는\n",
    "각 숫자에 해당하는 데이터가 고르게 분포되어 있어서 \n",
    "정확도를 기준으로 교차 검증을 진행해도 괜찮다.\n",
    "\n",
    "아래 코드를 이용하여 `SGDClassifier` 모델에 대해\n",
    "교차 검증으로 정확도를 계산하면 86.7% 정도로 확인된다.\n",
    "참고로 정밀도와 재현율을 교차 검증으로 확인하려면 \n",
    "`scoring` 키워드의 인자로 `\"precision\"` 또는 `\"recall\"`을 지정한다."
   ]
  },
  {
   "cell_type": "markdown",
   "id": "0e77bef5",
   "metadata": {
    "colab_type": "text",
    "id": "YdS9bBCvfuRC",
    "slideshow": {
     "slide_type": "slide"
    }
   },
   "source": [
    "```python\n",
    "from sklearn.model_selection import cross_val_score\n",
    "\n",
    "cross_val_score(sgd_clf, X_train, y_train, cv=3, scoring=\"accuracy\")\n",
    "```"
   ]
  },
  {
   "cell_type": "markdown",
   "id": "9188d744",
   "metadata": {},
   "source": [
    "**스케일링의 중요성**"
   ]
  },
  {
   "cell_type": "markdown",
   "id": "5377353a",
   "metadata": {},
   "source": [
    "하지만 표준화 스케일링만 해도 모델의 예측 정확도가 89.7% 까지 향상된다."
   ]
  },
  {
   "cell_type": "markdown",
   "id": "63bec9b5",
   "metadata": {
    "colab_type": "text",
    "id": "YdS9bBCvfuRC",
    "slideshow": {
     "slide_type": "slide"
    }
   },
   "source": [
    "```python\n",
    "from sklearn.preprocessing import StandardScaler\n",
    "\n",
    "scaler = StandardScaler()\n",
    "X_train_scaled = scaler.fit_transform(X_train.astype(\"float64\"))\n",
    "cross_val_score(sgd_clf, X_train_scaled, y_train, cv=3, scoring=\"accuracy\")\n",
    "```"
   ]
  },
  {
   "cell_type": "markdown",
   "id": "d78ca9cf",
   "metadata": {
    "colab_type": "text",
    "id": "1gLSYZqWgxyu",
    "slideshow": {
     "slide_type": "slide"
    }
   },
   "source": [
    "## 오류 분석"
   ]
  },
  {
   "cell_type": "markdown",
   "id": "f8816112",
   "metadata": {
    "slideshow": {
     "slide_type": ""
    }
   },
   "source": [
    "그리드 탐색, 랜덤 탐색 등을 이용한 모델 튜닝 과정을 실행하여 최선의 모델을 찾았다고 가정한다.\n",
    "이제 오류 분석을 통해 모델의 성능을 평가하고 개선시키는 방안을 모색하는 과정을 살펴 본다.\n",
    "먼저 훈련된 모델의 성능을 평가하기 위해 오차 행렬을 활용한다."
   ]
  },
  {
   "cell_type": "markdown",
   "id": "79e15535",
   "metadata": {
    "slideshow": {
     "slide_type": "slide"
    }
   },
   "source": [
    "### 다중 크래스 분류 모델의 오차 행렬"
   ]
  },
  {
   "cell_type": "markdown",
   "id": "e9499174",
   "metadata": {},
   "source": [
    "먼저 `cross_val_predict()` 함수를 이용하여 교차 검증 방식으로 표준화 스케일링된 훈련셋에 대한 모델의 예측값을 계산한다."
   ]
  },
  {
   "cell_type": "markdown",
   "id": "8a423532",
   "metadata": {
    "colab_type": "text",
    "id": "YdS9bBCvfuRC",
    "slideshow": {
     "slide_type": "slide"
    }
   },
   "source": [
    "```python\n",
    "from sklearn.model_selection import cross_val_predict\n",
    "\n",
    "y_train_pred = cross_val_predict(sgd_clf, X_train_scaled, y_train, cv=3)\n",
    "```"
   ]
  },
  {
   "cell_type": "markdown",
   "id": "ac26d365",
   "metadata": {
    "slideshow": {
     "slide_type": "slide"
    }
   },
   "source": [
    "아래 왼쪽 이미지는 훈련된 분류 모델의 오차 행렬을 색상을 이용하여 표현한다.\n",
    "대각선 상에 위치한 색상이 밝은 것은 분류가 대체로 잘 이루어졋음을 의미한다. \n",
    "다만 5번 행이 상대적으로 어두운데 이는 숫자 5의 분류 정확도가 상대적으로 낮기 때문이다."
   ]
  },
  {
   "cell_type": "markdown",
   "id": "9eff89ee",
   "metadata": {
    "slideshow": {
     "slide_type": "slide"
    }
   },
   "source": [
    "```python\n",
    "from sklearn.metrics import ConfusionMatrixDisplay\n",
    "\n",
    "ConfusionMatrixDisplay.from_predictions(y_train, y_train_pred)\n",
    "```"
   ]
  },
  {
   "cell_type": "markdown",
   "id": "8fe327b8",
   "metadata": {
    "slideshow": {
     "slide_type": "slide"
    }
   },
   "source": [
    "반면에 아래 오른쪽 이미지는 숫자별 비율로 변환하였다. \n",
    "즉, 행별로 비율의 합이 100%가 되도록 정규화하였다."
   ]
  },
  {
   "cell_type": "markdown",
   "id": "ff4d3d42",
   "metadata": {
    "slideshow": {
     "slide_type": "slide"
    }
   },
   "source": [
    "```python\n",
    "ConfusionMatrixDisplay.from_predictions(y_train, y_train_pred,,\n",
    "                                        normalize=\"true\", \n",
    "                                        values_format=\".0%\")\n",
    "```"
   ]
  },
  {
   "cell_type": "markdown",
   "id": "69e4e465",
   "metadata": {
    "slideshow": {
     "slide_type": ""
    }
   },
   "source": [
    "<p><div align=\"center\"><img src=\"https://raw.githubusercontent.com/codingalzi/handson-ml3/master/jupyter-book/imgs/ch03/homl03-08.png\" width=\"100%\"/></div></p>"
   ]
  },
  {
   "cell_type": "markdown",
   "id": "07fe4fbf",
   "metadata": {
    "slideshow": {
     "slide_type": "slide"
    }
   },
   "source": [
    "**오차율 활용**"
   ]
  },
  {
   "cell_type": "markdown",
   "id": "dc874315",
   "metadata": {
    "slideshow": {
     "slide_type": "slide"
    }
   },
   "source": [
    "위 오른쪽 이미지에서 8로 오인된 이미지가 많았음을 알 수 있다.\n",
    "실제로 올바르게 예측된 샘플을 제외한 다음에 행별로 오인된 숫자의 비율을 확인하면\n",
    "아래 왼쪽 이미지와 같다.\n",
    "8번 칸이 상대적으로 많이 밝으며, 이는 많은 숫자가 8로 오해되었다는 의미다. "
   ]
  },
  {
   "cell_type": "markdown",
   "id": "6e58a524",
   "metadata": {
    "slideshow": {
     "slide_type": "slide"
    }
   },
   "source": [
    "```python\n",
    "sample_weight = (y_train_pred != y_train)\n",
    "\n",
    "ConfusionMatrixDisplay.from_predictions(y_train, y_train_pred,\n",
    "                                        sample_weight=sample_weight,\n",
    "                                        normalize=\"true\", \n",
    "                                        values_format=\".0%\")\n",
    "```"
   ]
  },
  {
   "cell_type": "markdown",
   "id": "50e84085",
   "metadata": {
    "slideshow": {
     "slide_type": "slide"
    }
   },
   "source": [
    "아래 오른쪽 이미지는 열 별로 정규화한 결과를 보여준다. \n",
    "예를 들어, 7로 오인된 이미지 중에 숫자 9 이미지의 비율이 56%임을 알 수 있다."
   ]
  },
  {
   "cell_type": "markdown",
   "id": "130b7cfc",
   "metadata": {
    "slideshow": {
     "slide_type": "slide"
    }
   },
   "source": [
    "```python\n",
    "ConfusionMatrixDisplay.from_predictions(y_train, y_train_pred,\n",
    "                                        sample_weight=sample_weight,\n",
    "                                        normalize=\"pred\", \n",
    "                                        values_format=\".0%\")\n",
    "```"
   ]
  },
  {
   "cell_type": "markdown",
   "id": "f4ef3896",
   "metadata": {
    "slideshow": {
     "slide_type": ""
    }
   },
   "source": [
    "<p><div align=\"center\"><img src=\"https://raw.githubusercontent.com/codingalzi/handson-ml3/master/jupyter-book/imgs/ch03/homl03-09.png\" width=\"100%\"/></div></p>"
   ]
  },
  {
   "cell_type": "markdown",
   "id": "3857e93d",
   "metadata": {
    "slideshow": {
     "slide_type": "slide"
    }
   },
   "source": [
    "**개별 오류 확인**"
   ]
  },
  {
   "cell_type": "markdown",
   "id": "ad44586e",
   "metadata": {
    "slideshow": {
     "slide_type": "slide"
    }
   },
   "source": [
    "위 오른쪽 이미지에 의하면 5로 오인된 이미지 중에서 숫자 3 이미지의 비율이\n",
    "34%로 가장 높다.\n",
    "실제로 오차 행렬과 유사한 행렬을 3과 5에 대해 나타내면 다음과 같다.\n",
    "\n",
    "* 음성: 3으로 판정\n",
    "* 양성: 5로 판정"
   ]
  },
  {
   "cell_type": "markdown",
   "id": "55229bc3",
   "metadata": {
    "slideshow": {
     "slide_type": ""
    }
   },
   "source": [
    "<div align=\"center\"><img src=\"https://raw.githubusercontent.com/codingalzi/handson-ml3/master/jupyter-book/imgs/ch03/homl03-10.png\" width=\"500\"/></div>"
   ]
  },
  {
   "cell_type": "markdown",
   "id": "8e9ef3f5",
   "metadata": {
    "slideshow": {
     "slide_type": "slide"
    }
   },
   "source": [
    "### 데이터 증식"
   ]
  },
  {
   "cell_type": "markdown",
   "id": "ed56a3ce",
   "metadata": {
    "slideshow": {
     "slide_type": "slide"
    }
   },
   "source": [
    "사람 눈으로 보더라도 3과 5의 구분이 매우 어려울 수 있다.\n",
    "여기서 사용한 SGD 분류 모델은 선형 회귀를 사용하기에 특히나 성능이 좋지 않다.\n",
    "따라서 보다 좋은 성능의 모델을 사용할 수도 있지만\n",
    "기본적으로 보다 많은 훈련 이미지가 필요하다.\n",
    "새로운 이미지를 구할 수 있으면 좋겠지만 일반적으로 매우 어렵다.\n",
    "반면에 기존의 이미지를 조금씩 회전하거나, 뒤집거나, 이동하는 방식 등으로\n",
    "보다 많은 이미지를 훈련셋에 포함시킬 수 있다.\n",
    "이런 방식을 데이터 증식<font size=\"2\">data augmentation</font>이라 부른다.\n",
    "데이터 증식에 대한 보다 상세한 설명은\n",
    "[데이터 증식 연습문제](https://colab.research.google.com/github/codingalzi/handson-ml3/blob/master/notebooks/code_classification.ipynb#scrollTo=7GQbYjmuCHkn)를 참고한다."
   ]
  },
  {
   "cell_type": "markdown",
   "id": "f1ffb936",
   "metadata": {},
   "source": [
    "## 연습문제"
   ]
  },
  {
   "cell_type": "markdown",
   "id": "d2338d9d",
   "metadata": {},
   "source": [
    "참고: [(실습) 분류 1](https://colab.research.google.com/github/codingalzi/handson-ml3/blob/master/practices/practice_classification_1.ipynb) 과\n",
    "[(실습) 분류 2](https://colab.research.google.com/github/codingalzi/handson-ml3/blob/master/practices/practice_classification_2.ipynb)"
   ]
  }
 ],
 "metadata": {
  "kernelspec": {
   "display_name": "Python 3 (ipykernel)",
   "language": "python",
   "name": "python3"
  },
  "language_info": {
   "codemirror_mode": {
    "name": "ipython",
    "version": 3
   },
   "file_extension": ".py",
   "mimetype": "text/x-python",
   "name": "python",
   "nbconvert_exporter": "python",
   "pygments_lexer": "ipython3",
   "version": "3.11.5"
  }
 },
 "nbformat": 4,
 "nbformat_minor": 5
}
