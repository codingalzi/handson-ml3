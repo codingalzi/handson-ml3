{
 "cells": [
  {
   "cell_type": "markdown",
   "id": "f7086d7d",
   "metadata": {},
   "source": [
    "(ch:ensemble)=\n",
    "# 앙상블 학습과 랜덤 포레스트"
   ]
  },
  {
   "cell_type": "markdown",
   "id": "326b2f23",
   "metadata": {},
   "source": [
    "## 연습문제"
   ]
  },
  {
   "cell_type": "markdown",
   "id": "1f69d06c",
   "metadata": {},
   "source": [
    "1. [AugoGluon](https://auto.gluon.ai/stable/index.html) 활용하기"
   ]
  }
 ],
 "metadata": {
  "kernelspec": {
   "display_name": "Python 3 (ipykernel)",
   "language": "python",
   "name": "python3"
  },
  "language_info": {
   "codemirror_mode": {
    "name": "ipython",
    "version": 3
   },
   "file_extension": ".py",
   "mimetype": "text/x-python",
   "name": "python",
   "nbconvert_exporter": "python",
   "pygments_lexer": "ipython3",
   "version": "3.9.7"
  }
 },
 "nbformat": 4,
 "nbformat_minor": 5
}
