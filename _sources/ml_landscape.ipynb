{
 "cells": [
  {
   "cell_type": "markdown",
   "metadata": {
    "slideshow": {
     "slide_type": "slide"
    }
   },
   "source": [
    "# 한눈에 보는 머신러닝"
   ]
  },
  {
   "cell_type": "markdown",
   "metadata": {
    "slideshow": {
     "slide_type": "slide"
    }
   },
   "source": [
    "**감사의 글**\n",
    "\n",
    "자료를 공개한 저자 오렐리앙 제롱과 강의자료를 지원한 한빛아카데미에게 진심어린 감사를 전합니다."
   ]
  },
  {
   "cell_type": "markdown",
   "metadata": {
    "colab_type": "text",
    "id": "pRmg1s6N9ona",
    "slideshow": {
     "slide_type": "slide"
    }
   },
   "source": [
    "## 머신러닝이란?"
   ]
  },
  {
   "cell_type": "markdown",
   "metadata": {
    "colab_type": "text",
    "id": "pRmg1s6N9ona",
    "slideshow": {
     "slide_type": "slide"
    }
   },
   "source": [
    "**아서 새뮤얼<font size=\"2\">Artuhr Samuel</font> (1959)**\n",
    "\n",
    "> 컴퓨터 프로그램을 명시적으로 구현하는 대신 컴퓨터 스스로 학습하는 능력를\n",
    "    갖도록 하는 연구 분야\n",
    "\n",
    "**톰 미첼<font size=\"2\">Tom Mitchell</font> (1977)**\n",
    "\n",
    "> 과제 T에 대한 프로그램의 성능 P가 경험 E를 통해 향상되면\n",
    "> 해당 \"프로그램이 경험 E를 통해 학습한다\" 라고 말한다."
   ]
  },
  {
   "cell_type": "markdown",
   "metadata": {
    "slideshow": {
     "slide_type": "slide"
    }
   },
   "source": [
    "**머신러닝 주요 용어**\n",
    "\n",
    "* __훈련 셋__<font size=\"2\">training set</font>: \n",
    "    머신러닝 프로그램이 훈련(학습)하는 데 사용하는 데이터 집합\n",
    "\n",
    "* __훈련 사례__<font size=\"2\">training instance</font> \n",
    "    혹은 __샘플__<font size=\"2\">sample</font>: \n",
    "    각각의 훈련 데이터"
   ]
  },
  {
   "cell_type": "markdown",
   "metadata": {},
   "source": [
    ":::{prf:example} 스팸 필터\n",
    ":label: spam_filter\n",
    "\n",
    "스팸<font size=\"2\">spam</font> 메일과 아닌 메일<font size=\"2\">ham</font>의 구분법을 \n",
    "머신러닝으로 학습시킬 수 있으며, 톰 미첼의 머신러닝 정의와 관련해서 다음이 성립한다.\n",
    "\n",
    "- 작업 T = 새로운 메일의 스팸 여부 판단\n",
    "- 경험 E = 훈련 데이터\n",
    "- 성능 P = 스팸 여부 판단의 정확도\n",
    ":::"
   ]
  },
  {
   "cell_type": "markdown",
   "metadata": {
    "colab_type": "text",
    "id": "pRmg1s6N9ona",
    "slideshow": {
     "slide_type": "slide"
    }
   },
   "source": [
    "## 머신러닝 활용"
   ]
  },
  {
   "cell_type": "markdown",
   "metadata": {
    "colab_type": "text",
    "id": "pRmg1s6N9ona",
    "slideshow": {
     "slide_type": "slide"
    }
   },
   "source": [
    "### 전통적 프로그래밍"
   ]
  },
  {
   "cell_type": "markdown",
   "metadata": {
    "colab_type": "text",
    "id": "pRmg1s6N9ona",
    "slideshow": {
     "slide_type": ""
    }
   },
   "source": [
    "전통적 프로그래밍 다음 과정으로 진행된다.\n",
    "\n",
    "1. 문제 연구: 문제 해결 알고리즘 연구\n",
    "1. 규칙 작성: 알고리즘 규현\n",
    "1. 평가: 구현된 프로그램 테스트\n",
    "    * 테스트 통과: 프로그램 론칭\n",
    "    * 테스트 실패: 오차 분석 후 1단계로 이동\n",
    "\n",
    "<div align=\"center\"><img src=\"https://github.com/codingalzi/handson-ml3/blob/master/jupyter-book/imgs/ch01/homl01-01.png?raw=true\" style=\"width:400px;\"></div>"
   ]
  },
  {
   "cell_type": "markdown",
   "metadata": {
    "colab_type": "text",
    "id": "pRmg1s6N9ona",
    "slideshow": {
     "slide_type": "slide"
    }
   },
   "source": [
    ":::{prf:example} 전통적 프로그래밍 스팸 메일 분류\n",
    ":label: spam_classification\n",
    "\n",
    "* 특정 단어가 들어가면 스팸 메일로 처리.\n",
    "* 프로그램이 론칭된 후 새로운 스팸단어가 사용될 때 스팸 메일 분류 실패.\n",
    "* 개발자가 새로운 규칙을 매번 업데이트 시켜줘야 함.\n",
    "* 유지 보수 어려움.\n",
    ":::"
   ]
  },
  {
   "cell_type": "markdown",
   "metadata": {
    "colab_type": "text",
    "id": "pRmg1s6N9ona",
    "slideshow": {
     "slide_type": "slide"
    }
   },
   "source": [
    "### 머신러닝 프로그래밍"
   ]
  },
  {
   "cell_type": "markdown",
   "metadata": {
    "colab_type": "text",
    "id": "pRmg1s6N9ona",
    "slideshow": {
     "slide_type": "slide"
    }
   },
   "source": [
    "스팸으로 지정된 메일에 \"광고\", \"투^^자\", \"무&#10084;료\" 등의 표현이 \n",
    "자주 등장하는 경우 새로운 메일에 그런 표현이 사용되면 \n",
    "자동으로 스팸으로 분류하도록 스스로 학습하는 프로그램을 작성한다.\n",
    "\n",
    "<div align=\"center\"><img src=\"https://github.com/codingalzi/handson-ml3/blob/master/jupyter-book/imgs/ch01/homl01-02.png?raw=true\" style=\"width:420px;\"></div>"
   ]
  },
  {
   "cell_type": "markdown",
   "metadata": {
    "slideshow": {
     "slide_type": "slide"
    }
   },
   "source": [
    "**머신러닝 프로그램 학습 과정의 자동화**\n",
    "\n",
    "머신러닝 프로그램을 학습시키는 과정을 관장하는 __머신러닝 파이프라인__ \n",
    "또는 __MLOps(Machine Learning Operations, 머신러닝 운영)__ 의\n",
    "자동화가 가능하다.\n",
    "\n",
    "<div align=\"center\"><img src=\"https://github.com/codingalzi/handson-ml3/blob/master/jupyter-book/imgs/ch01/homl01-03.png?raw=true\" style=\"width:440px;\"></div>"
   ]
  },
  {
   "cell_type": "markdown",
   "metadata": {
    "slideshow": {
     "slide_type": "slide"
    }
   },
   "source": [
    "**머신러닝 프로그래밍의 장점**\n",
    "\n",
    "* 스팸 메일 분류기 처럼 알고리즘에 대한 너무 많은 세부 튜닝과\n",
    "    매우 긴 규칙을 요구하는 문제를 해결할 수 있다.\n",
    "* 음성 인식 등 전통적인 방식으로 해결하기에 너무 복잡한 문제를 해결할 수 있다.\n",
    "* 새로운 데이터에 바로 적용이 가능한 시스템을 쉽게 재훈련할 수 있다.\n",
    "* 머신러닝 프로그램으로 생성된 솔루션 분석을 통해 \n",
    "    데이터에 대한 통찰을 얻을 수 있다. \n",
    "    즉, **데이터 마이닝**<font size=\"2\">data mining</font>이 가능하다.\n",
    "\n",
    "<div align=\"center\"><img src=\"https://github.com/codingalzi/handson-ml3/blob/master/jupyter-book/imgs/ch01/homl01-04.png?raw=true\" style=\"width:440px;\"></div>"
   ]
  },
  {
   "cell_type": "markdown",
   "metadata": {
    "colab_type": "text",
    "id": "pRmg1s6N9ona",
    "slideshow": {
     "slide_type": "slide"
    }
   },
   "source": [
    "## 머신러닝 활용 사례"
   ]
  },
  {
   "cell_type": "markdown",
   "metadata": {
    "colab_type": "text",
    "id": "pRmg1s6N9ona",
    "slideshow": {
     "slide_type": ""
    }
   },
   "source": [
    "**회귀 분석**\n",
    "\n",
    "회사의 차년도 수익 등을 예측할 수 있다.\n",
    "\n",
    "- 선형 회귀 (4장)\n",
    "- SVM 회귀 (5장)\n",
    "- 랜덤 포레스트 회귀 (7장)\n",
    "- 신경망 회귀 모델\n",
    "- 주식, 날씨 등 순서의 흐름을 고려해야 하는 경우:\n",
    "    - 순환 신경망(RNN)\n",
    "    - 합성곱 신경망(CNN)\n",
    "    - 트랜스포머(Transformer)"
   ]
  },
  {
   "cell_type": "markdown",
   "metadata": {
    "colab_type": "text",
    "id": "pRmg1s6N9ona",
    "slideshow": {
     "slide_type": ""
    }
   },
   "source": [
    "**데이터 시각화**\n",
    "\n",
    "고차원의 복잡한 데이터셋을 2, 3차원의 그래프로 시각화할 수 있다.\n",
    "\n",
    "- 차원 축소 (8장)"
   ]
  },
  {
   "cell_type": "markdown",
   "metadata": {
    "colab_type": "text",
    "id": "pRmg1s6N9ona",
    "slideshow": {
     "slide_type": ""
    }
   },
   "source": [
    "**이상치 탐지**\n",
    "\n",
    "신용 카드의 부정 사용을 감지할 수 있다.\n",
    "\n",
    "- 가수시안 혼합 모델 (9장)\n",
    "- 오토인코더"
   ]
  },
  {
   "cell_type": "markdown",
   "metadata": {
    "colab_type": "text",
    "id": "pRmg1s6N9ona",
    "slideshow": {
     "slide_type": ""
    }
   },
   "source": [
    "**군집화**\n",
    "\n",
    "구매 이력을 활용하는 고객 분류 및 마케팅 전략 계획 수립이 가능하다.\n",
    "\n",
    "- K-평균 (9장)\n",
    "- DBSCAN (9장)"
   ]
  },
  {
   "cell_type": "markdown",
   "metadata": {
    "colab_type": "text",
    "id": "pRmg1s6N9ona",
    "slideshow": {
     "slide_type": ""
    }
   },
   "source": [
    "**이미지 분류 작업**\n",
    "\n",
    "생산 라인 제품 이미지 자동 분류\n",
    "\n",
    "- CNN\n",
    "- Transformer"
   ]
  },
  {
   "cell_type": "markdown",
   "metadata": {
    "colab_type": "text",
    "id": "pRmg1s6N9ona",
    "slideshow": {
     "slide_type": ""
    }
   },
   "source": [
    "**시맨틱 분할 작업**\n",
    "\n",
    "뇌 스캔 활용 종양 진단\n",
    "\n",
    "- CNN\n",
    "- Transformer"
   ]
  },
  {
   "cell_type": "markdown",
   "metadata": {
    "colab_type": "text",
    "id": "pRmg1s6N9ona",
    "slideshow": {
     "slide_type": ""
    }
   },
   "source": [
    "**자연어 처리(NLP)**\n",
    "\n",
    "텍스트 분류(뉴스 기사 자동 분류. 공격적 언급/기사 자동 분류), 텍스트 요약\n",
    "\n",
    "- RNN\n",
    "- CNN\n",
    "- Transformer"
   ]
  },
  {
   "cell_type": "markdown",
   "metadata": {
    "colab_type": "text",
    "id": "pRmg1s6N9ona",
    "slideshow": {
     "slide_type": ""
    }
   },
   "source": [
    "**자연어 이해(NLU)**\n",
    "\n",
    "챗봇(chatbot) 또는 개인 비서 만들기\n",
    "\n",
    "- RNN\n",
    "- CNN\n",
    "- Transformer\n",
    "- 질문-답변 모듈"
   ]
  },
  {
   "cell_type": "markdown",
   "metadata": {
    "colab_type": "text",
    "id": "pRmg1s6N9ona",
    "slideshow": {
     "slide_type": ""
    }
   },
   "source": [
    "**음성 인식**\n",
    "\n",
    "음성 명령에 반응하는 앱을 구현할 수 있다.\n",
    "\n",
    "- RNN\n",
    "- CNN\n",
    "- Transformer"
   ]
  },
  {
   "cell_type": "markdown",
   "metadata": {
    "colab_type": "text",
    "id": "pRmg1s6N9ona",
    "slideshow": {
     "slide_type": ""
    }
   },
   "source": [
    "**추천 시스템**\n",
    "\n",
    "과거 구매 이력을 활용하여 관심 상품을 추천한다.\n",
    "\n",
    "- 신경망<font size=\"2\">Neural Network</font> 활용"
   ]
  },
  {
   "cell_type": "markdown",
   "metadata": {
    "colab_type": "text",
    "id": "pRmg1s6N9ona",
    "slideshow": {
     "slide_type": ""
    }
   },
   "source": [
    "**강화 학습**\n",
    "\n",
    "알파고(AlphaGo) 등 지능형 봇을 활용한 게임을 구현할 수 있다.\n",
    "\n",
    "- 강화 학습<font size=\"2\">Reinforcement Learning</font>"
   ]
  },
  {
   "cell_type": "markdown",
   "metadata": {},
   "source": [
    ":::{admonition} 용어 정리\n",
    ":class: tip\n",
    "\n",
    "- 회귀 = Regression\n",
    "- 선형 회귀 = Linear Regression\n",
    "- SVM = Support Vector Machine (서포트 벡터 머신)\n",
    "- 랜덤 포레스트 = Random Forest\n",
    "- 신경망 = Neural Network\n",
    "- 인공 신경망 = Artificial Neural Network\n",
    "- CNN = Convolutional Neural Network (합성곱 신경망)\n",
    "- NLP = Natural Language Processing (자연어 처리)\n",
    "- NLU = Natural Language Understanding (자연어 이해)\n",
    "- 트랜스포머 = Transformer\n",
    ":::"
   ]
  },
  {
   "cell_type": "markdown",
   "metadata": {
    "colab_type": "text",
    "id": "NuA531GRDIUB",
    "slideshow": {
     "slide_type": "slide"
    }
   },
   "source": [
    "## 머신러닝 시스템 유형"
   ]
  },
  {
   "cell_type": "markdown",
   "metadata": {
    "colab_type": "text",
    "id": "NuA531GRDIUB",
    "slideshow": {
     "slide_type": "slide"
    }
   },
   "source": [
    "머신러닝 시스템의 유형을 다양한 기준으로 분류할 수 있다."
   ]
  },
  {
   "cell_type": "markdown",
   "metadata": {
    "colab_type": "text",
    "id": "NuA531GRDIUB",
    "slideshow": {
     "slide_type": ""
    }
   },
   "source": [
    "1. 훈련 지도 여부\n",
    "    * 지도 학습\n",
    "    * 비지도 학습\n",
    "    * 준지도 학습\n",
    "    * 자기주도 학습\n",
    "    * 강화 학습\n",
    "1. 실시간 훈련 여부\n",
    "    * 온라인 학습\n",
    "    * 배치 학습\n",
    "1. 예측 모델 사용 여부\n",
    "    * 사례 기반 학습\n",
    "    * 모델 기반 학습"
   ]
  },
  {
   "cell_type": "markdown",
   "metadata": {
    "slideshow": {
     "slide_type": ""
    }
   },
   "source": [
    "언급된 분류 기준이 상호 배타적이지 않다. \n",
    "예를 들어, 신경망을 활용하는 스팸 필터 프로그램의 다음 방식을 모두 사용할 수 있다.\n",
    "- 지도 학습: 스팸 메일과 스팸이 아닌 메일로 이루어진 훈련 데이터셋으로 스팸 필터 분류 프로그램 훈련\n",
    "- 온라인 학습: 실시간 학습 가능\n",
    "- 모델 기반 학습: 훈련 결과로 생성된 모델을 이용하여 스팸 여부 판단"
   ]
  },
  {
   "cell_type": "markdown",
   "metadata": {
    "slideshow": {
     "slide_type": "slide"
    }
   },
   "source": [
    "### 훈련 지도 여부"
   ]
  },
  {
   "cell_type": "markdown",
   "metadata": {
    "colab_type": "text",
    "id": "NuA531GRDIUB",
    "slideshow": {
     "slide_type": "slide"
    }
   },
   "source": [
    "#### 지도 학습"
   ]
  },
  {
   "cell_type": "markdown",
   "metadata": {
    "colab_type": "text",
    "id": "NuA531GRDIUB",
    "slideshow": {
     "slide_type": ""
    }
   },
   "source": [
    "**지도 학습**<font size=\"2\">supervised learning</font>은\n",
    "훈련 데이터에 **레이블**<font size=\"2\">label</font>이라는 답을 표기하여 \n",
    "레이블을 맞추도록 유도하는 학습을 가리킨다. \n",
    "지도 학습은 기본적으로 **분류**<font size=\"2\">classification</font> 또는 \n",
    "**회귀**<font size=\"2\">regression</font> 문제에 적용된다."
   ]
  },
  {
   "cell_type": "markdown",
   "metadata": {
    "slideshow": {
     "slide_type": "slide"
    }
   },
   "source": [
    "**분류**\n",
    "\n",
    "예를 들어, 스팸 필터는 메일 데이터의 **특성**<font size=\"2\">feature</font>을 이용하여 스팸 여부를 판단한다.\n",
    "\n",
    "* 메일 데이터 특성: 소속 정보, 특정 단어 포함 여부 등\n",
    "* 레이블: 스팸 또는 햄    \n",
    "\n",
    "<div align=\"center\"><img src=\"https://github.com/codingalzi/handson-ml3/blob/master/jupyter-book/imgs/ch01/homl01-05.png?raw=true\" style=\"width:450px;\"></div>"
   ]
  },
  {
   "cell_type": "markdown",
   "metadata": {
    "slideshow": {
     "slide_type": "slide"
    }
   },
   "source": [
    "**회귀**\n",
    "\n",
    "예를 들어, 중고차 데이터의 특성을 이용하여 가격을 예측한다.\n",
    "회귀 문제의 경우 레이블 대신에 **타깃**<font size=\"2\">target</font> 표현을 보다 많이 사용한다.\n",
    "\n",
    "* 중고차 데이터 특성: 주행거리, 연식, 브랜드 등\n",
    "* 타깃: 중고차 가격\n",
    "\n",
    "<div align=\"center\"><img src=\"https://github.com/codingalzi/handson-ml3/blob/master/jupyter-book/imgs/ch01/homl01-06.png?raw=true\" style=\"width:400px;\"></div>"
   ]
  },
  {
   "cell_type": "markdown",
   "metadata": {
    "colab_type": "text",
    "id": "RvO06bXnEnSx",
    "slideshow": {
     "slide_type": "slide"
    }
   },
   "source": [
    "#### 비지도 학습"
   ]
  },
  {
   "cell_type": "markdown",
   "metadata": {
    "colab_type": "text",
    "id": "RvO06bXnEnSx",
    "slideshow": {
     "slide_type": ""
    }
   },
   "source": [
    "**비지도 학습**<font size=\"2\">unsupervised learning</font>은\n",
    "군집화, 데이터 시각화, 차원 축소, 이상 탐지, 연관 규칙 학습 등의 \n",
    "프로그램 구현에 적용되며,\n",
    "프로그램 학습에 레이블이 없는 훈련 데이터를 이용한다."
   ]
  },
  {
   "cell_type": "markdown",
   "metadata": {
    "colab_type": "text",
    "id": "RvO06bXnEnSx",
    "slideshow": {
     "slide_type": "slide"
    }
   },
   "source": [
    "**군집화**\n",
    "\n",
    "쇼핑몰 사이트 방문자를 비슷한 특징을 갖는 사람들의 그룹으로 구분하는 \n",
    "**군집화**<font size=\"2\">clustering</font> 프로그램을 학습시킬 수 있다."
   ]
  },
  {
   "cell_type": "markdown",
   "metadata": {
    "colab_type": "text",
    "id": "RvO06bXnEnSx",
    "slideshow": {
     "slide_type": "slide"
    }
   },
   "source": [
    "- 훈련 전\n",
    "<div align=\"center\"><img src=\"https://github.com/codingalzi/handson-ml3/blob/master/jupyter-book/imgs/ch01/homl01-07.png?raw=true\" style=\"width:410px;\"></div>"
   ]
  },
  {
   "cell_type": "markdown",
   "metadata": {},
   "source": [
    "- 훈련 후 \n",
    "\n",
    "<div align=\"center\"><img src=\"https://github.com/codingalzi/handson-ml3/blob/master/jupyter-book/imgs/ch01/homl01-08.png?raw=true\" style=\"width:400px;\"></div>"
   ]
  },
  {
   "cell_type": "markdown",
   "metadata": {},
   "source": [
    "**데이터 시각화**\n",
    "\n",
    "매우 많은 특성을 갖는 \n",
    "훈련 데이터를 두 개 또는 세 개의 특성만을 갖는\n",
    "데이터로 변환한 후에 2D 또는 3D로 시각화 할 수 있다.\n",
    "이를 위해 훈련 데이터의 특성을 대표하는 2, 3 개의 특성을 추출해야 하며\n",
    "이를 위해 **차원 축소**<font size=\"2\">dimensionality reduction</font> \n",
    "프로그램을 비지도 학습으로 훈련시킬 수 있다."
   ]
  },
  {
   "cell_type": "markdown",
   "metadata": {},
   "source": [
    "아래 그림은 다양한 종류의 데이터를 두 개의 특성만을 갖는 데이터로 차원을 축소한 후\n",
    "시각화한 결과를 보여준다.\n",
    "\n",
    "<div align=\"center\"><img src=\"https://github.com/codingalzi/handson-ml3/blob/master/jupyter-book/imgs/ch01/homl01-09.png?raw=true\" style=\"width:650px;\"></div>"
   ]
  },
  {
   "cell_type": "markdown",
   "metadata": {},
   "source": [
    ":::{admonition} 차원 축소 활용\n",
    ":class: tip\n",
    "\n",
    "차원 축소 기법은 시각화 뿐만 아니라 자체적으로 많이 활용된다.\n",
    "훈련 데이터의 차원을 축소하면 머신러닝 프로그램의 학습이 보다 빠르게 진행되고\n",
    "보다 성능이 좋은 프로그램이 구현될 수 있다.\n",
    ":::"
   ]
  },
  {
   "cell_type": "markdown",
   "metadata": {
    "slideshow": {
     "slide_type": "slide"
    }
   },
   "source": [
    "**이상 탐지**\n",
    "\n",
    "신용카드 거래 중에서 부정거래 사용을 감지하거나\n",
    "제조 과정 중에 결함있는 제품 확인하기 등을 \n",
    "**이상 탐지**<font size=\"2\">anomaly detection</font>라고 한다.\n",
    "이상 탐지 프로그램은 수 많은 정상 샘플을 이용하여 훈련한 후에\n",
    "새롭게 샘플의 정상 여부를 판단한다.\n",
    "또한 훈련 데이터셋에 포함된 비정상 샘플을 제거하여 머신러닝 모델의 학습을 \n",
    "보다 효율적으로 진행하도록 할 수 있다."
   ]
  },
  {
   "cell_type": "markdown",
   "metadata": {
    "slideshow": {
     "slide_type": "slide"
    }
   },
   "source": [
    "<div align=\"center\"><img src=\"https://github.com/codingalzi/handson-ml3/blob/master/jupyter-book/imgs/ch01/homl01-10.png?raw=true\" style=\"width:400px;\"></div>"
   ]
  },
  {
   "cell_type": "markdown",
   "metadata": {
    "slideshow": {
     "slide_type": ""
    }
   },
   "source": [
    ":::{prf:example} 이상치 탐지 vs. 특이치 탐지\n",
    ":label: outlier_novelty\n",
    "\n",
    "**이상치**<font size=\"2\">outlier</font>는 \n",
    "대부분을 차지하는 특정 종류의 데이터와 다른 특성을 갖는 데이터를 가리킨다.\n",
    "**이상치 탐지**<font size=\"2\">outlier detection</font>는\n",
    "데이터셋에 포함된 대다수의 데이터와는 다른 속성을 갖는 이상치를 탐지한다.\n",
    "반면에 **특이치 탐지**<font size=\"2\">novelty detection</font>는 \n",
    "기존의 데이터셋에 포함되지 않은 다른 종류의 데이터를 탐지한다. \n",
    "\n",
    "예를 들어, 수 천장의 강아지 사진으로 구성된 데이터셋에 치와와 사진이 1%정도 포함되었다고 가정하자.\n",
    "그러면 새로운 치와와 사진이 입력되었을 때 특이치 탐지 알고리즘은 그 사진에\n",
    "포함된 치와와를 특이한 것으로 간주하지 않는다.\n",
    "반면에 이상치 탐지 알고리즘은 새로운 사진의 치와와를\n",
    "훈련 데이터셋에 포함된 대부분의 강아지들과 다른 이상치로 탐지한다.\n",
    ":::"
   ]
  },
  {
   "cell_type": "markdown",
   "metadata": {
    "slideshow": {
     "slide_type": "slide"
    }
   },
   "source": [
    "**연관 규칙 학습**\n",
    "\n",
    "훈련 데이터 특성들 간의 흥미로운 관계를 찾는 데에 비지도 학습이 활용될 수 있다.\n",
    "예를 들어, 마트 판매 기록 데이터에서 \n",
    "바비규 소스와 감자를 구매하는 고객이 스테이크도 구매하는 경향이 있음을 파악하여 \n",
    "서로 연관된 상품을 가깝게 진열할 수 있다."
   ]
  },
  {
   "cell_type": "markdown",
   "metadata": {
    "colab_type": "text",
    "id": "_W-gOFP1Fc5V",
    "slideshow": {
     "slide_type": "slide"
    }
   },
   "source": [
    "#### 준지도 학습"
   ]
  },
  {
   "cell_type": "markdown",
   "metadata": {
    "colab_type": "text",
    "id": "_W-gOFP1Fc5V",
    "slideshow": {
     "slide_type": ""
    }
   },
   "source": [
    "레이블이 적용된 훈련 데이터의 수가 적고,\n",
    "레이블이 없는 훈련 데이터가 훨씬 많이 있을 때\n",
    "**준지도 학습**<font size=\"2\">semi-supervised learning</font>을 활용한다.\n",
    "아래 그림은 새로운 샘플 &#x274C;를 기존에 레이블을 갖는 \n",
    "훈련 데이터에 근거하여 세모와 같은 부류로 취급한다."
   ]
  },
  {
   "cell_type": "markdown",
   "metadata": {
    "colab_type": "text",
    "id": "_W-gOFP1Fc5V",
    "slideshow": {
     "slide_type": ""
    }
   },
   "source": [
    "<div align=\"center\"><img src=\"https://github.com/codingalzi/handson-ml3/blob/master/jupyter-book/imgs/ch01/homl01-11.png?raw=true\" style=\"width:400px;\"></div>"
   ]
  },
  {
   "cell_type": "markdown",
   "metadata": {
    "colab_type": "text",
    "id": "_W-gOFP1Fc5V",
    "slideshow": {
     "slide_type": ""
    }
   },
   "source": [
    "준지도 학습은 또한 레이블이 적용된 훈련 데이터의 정보를\n",
    "전체 훈련 데이터셋으로 전파하는 데에 활용될 수 있다.\n",
    "예를 들어 구글 포토<font size=\"2\">Google Photos</font>는 \n",
    "가족 사진 몇 장에 사람 이름을 레이블로 지정하면\n",
    "다른 모든 사진에서 지정된 이름의 사람이 포함된 사진을 찾아준다.\n",
    "이처럼 실전에 사용되는 많은 머신러닝 알고리즘이 준지도 학습과 지도 학습을 함께 사용한다."
   ]
  },
  {
   "cell_type": "markdown",
   "metadata": {
    "colab_type": "text",
    "id": "_W-gOFP1Fc5V",
    "slideshow": {
     "slide_type": "slide"
    }
   },
   "source": [
    "#### 자기지도 학습"
   ]
  },
  {
   "cell_type": "markdown",
   "metadata": {},
   "source": [
    "레이블이 전혀 없는 샘플로 구성된 데이터셋으로부터\n",
    "전부 레이블을 갖는 샘플로 구성된 데이터셋을 생성하기 위해\n",
    "**자기지도 학습**<font size=\"2\">self-supervised learning</font>을 사용한다.\n",
    "\n",
    "예를 들어 레이블이 전혀 없는 사진으로 구성된 데이터셋의 각 이미지를 대상으로\n",
    "잘라내기<font size=\"2\">crop</font> 또는 크기 변경<font size=\"2\">resize</font>를 \n",
    "수행하여 얻어진 훈련 데이터셋을 생성한다.\n",
    "이제 얻어진 훈련 데이터셋으로부터 본래의 이미지를 재생하는 머신러닝 프로그램을 \n",
    "학습시킨다. 이때 본래의 이미지 데이터를 생성된 이미지의 레이블로 사용한다."
   ]
  },
  {
   "cell_type": "markdown",
   "metadata": {},
   "source": [
    "<div align=\"center\"><img src=\"https://github.com/codingalzi/handson-ml3/blob/master/jupyter-book/imgs/ch01/self-supervised01.jpg?raw=true\" style=\"width:300px;\"></div>\n",
    "\n",
    "<p style=\"text-align: center;\">\n",
    "    그림 출처: <a href=\"https://paperswithcode.com/task/self-supervised-image-classification\">Self-Supervised Image Classification</a>\n",
    "</p>"
   ]
  },
  {
   "cell_type": "markdown",
   "metadata": {},
   "source": [
    "**이미지 복구**\n",
    "\n",
    "자기지도 학습 프로그램을 이용하여 손상된 이미지를 복구할 수 있다."
   ]
  },
  {
   "cell_type": "markdown",
   "metadata": {},
   "source": [
    "**반려동물 분류**\n",
    "\n",
    "손상된 이미지를 복구할 수 있는 능력을 갖는 프로그램을 조금 응용하면\n",
    "고양이, 강아지 등 반려동물의 품종을 구분하는 프로그램으로 활용할 수 있다.\n",
    "이유는 고양이 사진을 복구할 수 있다면 고양이와 강아지를 구분할 수 있기 때문이다."
   ]
  },
  {
   "cell_type": "markdown",
   "metadata": {
    "colab_type": "text",
    "id": "_W-gOFP1Fc5V",
    "slideshow": {
     "slide_type": "slide"
    }
   },
   "source": [
    "#### 강화 학습"
   ]
  },
  {
   "cell_type": "markdown",
   "metadata": {
    "colab_type": "text",
    "id": "_W-gOFP1Fc5V",
    "slideshow": {
     "slide_type": ""
    }
   },
   "source": [
    "**에이전트**<font size=\"2\">agent</font>라고 불리는 \n",
    "학습 시스템이 주어진 상황에서 취한 행동에 따라 보상과 벌점을 받는다. \n",
    "이를 통해 주어진 상황에서 가장 많은 보상을 받는 **정책**<font size=\"2\">policy</font>, \n",
    "즉 최선의 전략<font size=\"2\">strategy</font>을\n",
    "스스로 학습한다. \n",
    "정책은 특정 상황에서 에이전트가 취해야 하는 최선의 행동을 지정한다. "
   ]
  },
  {
   "cell_type": "markdown",
   "metadata": {},
   "source": [
    "<div align=\"center\"><img src=\"https://github.com/codingalzi/handson-ml3/blob/master/jupyter-book/imgs/ch01/homl01-12.png?raw=true\" style=\"width:400px;\"></div>"
   ]
  },
  {
   "cell_type": "markdown",
   "metadata": {
    "slideshow": {
     "slide_type": "slide"
    }
   },
   "source": [
    ":::{prf:example} 알파고와 이세돌의 바둑 시합\n",
    ":label: alphago\n",
    "\n",
    "2016년 3월 당시 세계 최고의 이세돌과 \n",
    "구글의 딥마인드<font size=\"2\">DeepMind</font>가 개발한\n",
    "바둑 프로그램 알파고<font size=\"2\">AlphaGo</font>의 대결에서\n",
    "알파고가 4대1로 승리했다.\n",
    "알파고는 유명한 바둑 기보를 학습하고 스스로와의 대결을 통해 승리 정책을\n",
    "학습했다.\n",
    "\n",
    "<div align=\"center\"><img src=\"https://github.com/codingalzi/handson-ml3/blob/master/jupyter-book/imgs/ch01/alphago01.png?raw=true\" style=\"width:450px;\"></div>\n",
    ":::"
   ]
  },
  {
   "cell_type": "markdown",
   "metadata": {
    "colab_type": "text",
    "id": "MmVtbxTlGKxB",
    "slideshow": {
     "slide_type": "slide"
    }
   },
   "source": [
    "### 실시간 훈련 여부"
   ]
  },
  {
   "cell_type": "markdown",
   "metadata": {},
   "source": [
    "고정된 하나의 훈련 데이터셋을 대상으로 학습하느냐,\n",
    "아니면 조금씩 추가되는 데이터셋을 대상으로 실시간 학습이 가능하느냐에 따라\n",
    "머신러닝 시스템을 구분할 수 있다."
   ]
  },
  {
   "cell_type": "markdown",
   "metadata": {
    "colab_type": "text",
    "id": "MmVtbxTlGKxB",
    "slideshow": {
     "slide_type": "slide"
    }
   },
   "source": [
    "#### 배치 학습"
   ]
  },
  {
   "cell_type": "markdown",
   "metadata": {
    "colab_type": "text",
    "id": "MmVtbxTlGKxB",
    "slideshow": {
     "slide_type": ""
    }
   },
   "source": [
    "주어진 훈련 세트 전체를 사용해 오프라인에서 훈련하는 것을 \n",
    "**배치 학습**<font size=\"2\">batch learning</font>라 한다.\n",
    "한 번 훈련된 시스템은 더 이상의 학습 없이 제품 시스템에 적용된다.\n",
    "하지만 새로운 데이터가 들어오면 처음부터 새롭게 학습해야 한다.\n",
    "\n",
    "배치 학습은 컴퓨팅 자원(cpu, gpu, 메모리, 저장장치 등)이 충분한 경우에만 사용할 수 있다.\n",
    "예를 들어 스마트폰, 화성 탐사선 등에서는 사용이 매우 제한적이 된다."
   ]
  },
  {
   "cell_type": "markdown",
   "metadata": {
    "colab_type": "text",
    "id": "MmVtbxTlGKxB",
    "slideshow": {
     "slide_type": ""
    }
   },
   "source": [
    "#### 온라인 학습"
   ]
  },
  {
   "cell_type": "markdown",
   "metadata": {
    "colab_type": "text",
    "id": "MmVtbxTlGKxB",
    "slideshow": {
     "slide_type": ""
    }
   },
   "source": [
    "**온라인 학습**<font size=\"2\">online learning</font>은 \n",
    "하나씩 또는 **미니 배치**<font size=\"2\">mini-batch</font>라 불리는\n",
    "적은 양의 데이터 묶음을 사용해 점진적으로 학습하는 훈련 기법을 가리킨다."
   ]
  },
  {
   "cell_type": "markdown",
   "metadata": {},
   "source": [
    "<div align=\"center\"><img src=\"https://github.com/codingalzi/handson-ml3/blob/master/jupyter-book/imgs/ch01/homl01-13.png?raw=true\" style=\"width:500px;\"></div>"
   ]
  },
  {
   "cell_type": "markdown",
   "metadata": {
    "colab_type": "text",
    "id": "MmVtbxTlGKxB",
    "slideshow": {
     "slide_type": "slide"
    }
   },
   "source": [
    "온라인 학습은 주식가격 시스템 등 실시간 반영이 중요한 시스템 구현에 매우 유용하게 활용된다. \n",
    "또한 스마트폰 등 제한된 컴퓨팅 자원을 갖는 시스템에서도 활용될 수 있다."
   ]
  },
  {
   "cell_type": "markdown",
   "metadata": {
    "colab_type": "text",
    "id": "MmVtbxTlGKxB",
    "slideshow": {
     "slide_type": "slide"
    }
   },
   "source": [
    "**외부 메모리 학습**\n",
    "\n",
    "매우 큰 훈련 데이터셋은 메모리에 한꺼번에 저장될 수 없기에\n",
    "훈련 데이터셋을 미니 배치를 사용하여 점진적 학습에 활용할 수 있다.\n",
    "이를 **외부 메모리 학습**<font size=\"2\">out-of-core learning</font>라 한다.\n",
    "\n",
    "<div align=\"center\"><img src=\"https://github.com/codingalzi/handson-ml3/blob/master/jupyter-book/imgs/ch01/homl01-14.png?raw=true\" style=\"width:500px;\"></div>"
   ]
  },
  {
   "cell_type": "markdown",
   "metadata": {},
   "source": [
    "**학습률**\n",
    "\n",
    "머신러닝 시스템이 변화하는 데이터에 얼마나 빠르게 적응해야하는가는 \n",
    "**학습률**<font size=\"2\">learning rate</font>이 결정한다.\n",
    "높은 학습률은 새 데이터에 빠르게 적응하게 하지만 이전 데이터를 빠르게 무시한다.\n",
    "반면에 낮은 학습률은 새 데이터에 보다 천천히 적응한다. "
   ]
  },
  {
   "cell_type": "markdown",
   "metadata": {
    "colab_type": "text",
    "id": "MmVtbxTlGKxB",
    "slideshow": {
     "slide_type": ""
    }
   },
   "source": [
    "**온라인 학습의 단점**\n",
    "\n",
    "검색 순위 조작 등 시스템을 악용하려고 하거나\n",
    "시스템에 나쁜 영향을 주는 데이터가 주입되는 경우 \n",
    "시스템 성능이 떨어질 수 있다.\n",
    "따라서 지속적인 시스템 모니터링이 요구된다."
   ]
  },
  {
   "cell_type": "markdown",
   "metadata": {
    "colab_type": "text",
    "id": "_EzmXJDpGzRa",
    "slideshow": {
     "slide_type": "slide"
    }
   },
   "source": [
    "### 예측 모델 사용 여부"
   ]
  },
  {
   "cell_type": "markdown",
   "metadata": {
    "colab_type": "text",
    "id": "_EzmXJDpGzRa",
    "slideshow": {
     "slide_type": ""
    }
   },
   "source": [
    "* 훈련 모델의 __일반화(generalization)__ 방식에 따른 분류\n",
    "* 일반화 = '새로운 데이터에 대한 예측'"
   ]
  },
  {
   "cell_type": "markdown",
   "metadata": {
    "colab_type": "text",
    "id": "_EzmXJDpGzRa",
    "slideshow": {
     "slide_type": "slide"
    }
   },
   "source": [
    "#### 사례 기반 학습"
   ]
  },
  {
   "cell_type": "markdown",
   "metadata": {
    "colab_type": "text",
    "id": "_EzmXJDpGzRa",
    "slideshow": {
     "slide_type": ""
    }
   },
   "source": [
    "* **샘플을 기억**하는 것이 훈련의 전부"
   ]
  },
  {
   "cell_type": "markdown",
   "metadata": {
    "colab_type": "text",
    "id": "_EzmXJDpGzRa",
    "slideshow": {
     "slide_type": ""
    }
   },
   "source": [
    "* 예측을 위해 기존 샘플과의 **유사도** 측정"
   ]
  },
  {
   "cell_type": "markdown",
   "metadata": {
    "colab_type": "text",
    "id": "_EzmXJDpGzRa",
    "slideshow": {
     "slide_type": ""
    }
   },
   "source": [
    "* 예제: k-최근접 이웃(k-NN, k-nearest neighbors) 알고리즘"
   ]
  },
  {
   "cell_type": "markdown",
   "metadata": {
    "colab_type": "text",
    "id": "_EzmXJDpGzRa",
    "slideshow": {
     "slide_type": "slide"
    }
   },
   "source": [
    "* k-NN 활용 예제: 새로운 샘플 `X`가 기존에 세모인 샘플과의 유사도가 높기 때문에 세모로 분류."
   ]
  },
  {
   "cell_type": "markdown",
   "metadata": {},
   "source": [
    "<div align=\"center\"><img src=\"https://github.com/codingalzi/handson-ml3/blob/master/jupyter-book/imgs/ch01/homl01-15.png?raw=true\" style=\"width:450px;\"></div>"
   ]
  },
  {
   "cell_type": "markdown",
   "metadata": {
    "colab_type": "text",
    "id": "_EzmXJDpGzRa",
    "slideshow": {
     "slide_type": "slide"
    }
   },
   "source": [
    "#### 모델 기반 학습"
   ]
  },
  {
   "cell_type": "markdown",
   "metadata": {
    "colab_type": "text",
    "id": "_EzmXJDpGzRa",
    "slideshow": {
     "slide_type": ""
    }
   },
   "source": [
    "* 모델을 미리 지정한 후 훈련 세트를 사용해서 모델을 훈련시킴"
   ]
  },
  {
   "cell_type": "markdown",
   "metadata": {
    "colab_type": "text",
    "id": "_EzmXJDpGzRa",
    "slideshow": {
     "slide_type": ""
    }
   },
   "source": [
    "* 훈련된 모델을 사용해 새로운 데이터에 대한 예측 실행"
   ]
  },
  {
   "cell_type": "markdown",
   "metadata": {
    "colab_type": "text",
    "id": "_EzmXJDpGzRa",
    "slideshow": {
     "slide_type": ""
    }
   },
   "source": [
    "* 예제: 이 책에서 다루는 대부분의 알고리즘"
   ]
  },
  {
   "cell_type": "markdown",
   "metadata": {
    "colab_type": "text",
    "id": "_EzmXJDpGzRa",
    "slideshow": {
     "slide_type": "slide"
    }
   },
   "source": [
    "* 예제: 학습된 모델을 이용하여 새로운 데이터 `X`를 세모 클래스로 분류"
   ]
  },
  {
   "cell_type": "markdown",
   "metadata": {},
   "source": [
    "<div align=\"center\"><img src=\"https://github.com/codingalzi/handson-ml3/blob/master/jupyter-book/imgs/ch01/homl01-16.png?raw=true\" style=\"width:450px;\"></div>"
   ]
  },
  {
   "cell_type": "markdown",
   "metadata": {
    "colab_type": "text",
    "id": "uF34iJhTHiSr",
    "slideshow": {
     "slide_type": "slide"
    }
   },
   "source": [
    "### 선형 모델 학습 예제"
   ]
  },
  {
   "cell_type": "markdown",
   "metadata": {
    "colab_type": "text",
    "id": "uF34iJhTHiSr",
    "slideshow": {
     "slide_type": ""
    }
   },
   "source": [
    "* 목표: OECD 국가의 1인당 GDP(1인당 국가총생산)와 삶의 만족도 사이의 관계 파악"
   ]
  },
  {
   "cell_type": "markdown",
   "metadata": {
    "slideshow": {
     "slide_type": ""
    }
   },
   "source": [
    "* 1인당 GDP가 증가할 수록 삶의 만족도가 선형으로 증가하는 것처럼 보임."
   ]
  },
  {
   "cell_type": "markdown",
   "metadata": {},
   "source": [
    "<div align=\"center\"><img src=\"https://github.com/codingalzi/handson-ml3/blob/master/jupyter-book/imgs/ch01/homl01-17.png?raw=true\" style=\"width:450px;\"></div>"
   ]
  },
  {
   "cell_type": "markdown",
   "metadata": {
    "slideshow": {
     "slide_type": "slide"
    }
   },
   "source": [
    "* 데이터를 대표하는 하나의 직선(선형 모델)을 찾기\n",
    "\n",
    "    $$\n",
    "    \\text{'삶의만족도'} = \\theta_0 + \\theta_1 \\times \\text{'1인당GDP'}\n",
    "    $$"
   ]
  },
  {
   "cell_type": "markdown",
   "metadata": {
    "colab_type": "text",
    "id": "vkyj7J8_INoq",
    "slideshow": {
     "slide_type": ""
    }
   },
   "source": [
    "* 데이터를 대표할 수 있는 선형 방정식을 찾아야 함"
   ]
  },
  {
   "cell_type": "markdown",
   "metadata": {},
   "source": [
    "<div align=\"center\"><img src=\"https://github.com/codingalzi/handson-ml3/blob/master/jupyter-book/imgs/ch01/homl01-18.png?raw=true\" style=\"width:450px;\"></div>"
   ]
  },
  {
   "cell_type": "markdown",
   "metadata": {
    "slideshow": {
     "slide_type": "slide"
    }
   },
   "source": [
    "* 학습되는 모델의 성능 평가 기준을 측정하여 가장 적합한 모델 학습\n",
    "    * 효용 함수: 모델이 얼마나 좋은지 측정\n",
    "    * 비용 함수: 모델이 얼마나 나쁜지 측정"
   ]
  },
  {
   "cell_type": "markdown",
   "metadata": {
    "slideshow": {
     "slide_type": ""
    }
   },
   "source": [
    "* 아래 선형 모델이 최적!"
   ]
  },
  {
   "cell_type": "markdown",
   "metadata": {},
   "source": [
    "<div align=\"center\"><img src=\"https://github.com/codingalzi/handson-ml3/blob/master/jupyter-book/imgs/ch01/homl01-19.png?raw=true\" style=\"width:450px;\"></div>"
   ]
  },
  {
   "cell_type": "markdown",
   "metadata": {
    "colab_type": "text",
    "id": "iLTMwk-sOFXQ",
    "slideshow": {
     "slide_type": "slide"
    }
   },
   "source": [
    "## 머신러닝의 주요 도전 과제"
   ]
  },
  {
   "cell_type": "markdown",
   "metadata": {
    "colab_type": "text",
    "id": "iLTMwk-sOFXQ",
    "slideshow": {
     "slide_type": "slide"
    }
   },
   "source": [
    "**충분하지 않은 양의 훈련 데이터**\n",
    "\n",
    "* 간단한 문제라도 수천 개 이상의 데이터가 필요\n",
    "\n",
    "* 이미지나 음성 인식 같은 문제는 수백만 개가 필요할 수도 있음\n",
    "\n",
    "* 데이터가 부족하면 알고리즘 성능 향성 어려움\n",
    "\n",
    "* 일반적으로 데이터가 많을 수록 모델의 성능 높아짐."
   ]
  },
  {
   "cell_type": "markdown",
   "metadata": {},
   "source": [
    "<div align=\"center\"><img src=\"https://github.com/codingalzi/handson-ml3/blob/master/jupyter-book/imgs/ch01/homl01-20.png?raw=true\" style=\"width:450px;\"></div>"
   ]
  },
  {
   "cell_type": "markdown",
   "metadata": {
    "colab_type": "text",
    "id": "iLTMwk-sOFXQ",
    "slideshow": {
     "slide_type": "slide"
    }
   },
   "source": [
    "**대표성 없는 훈련 데이터**\n",
    "\n",
    "* 샘플링 잡음: 우연에 의해 추가된 대표성이 없는 데이터\n",
    "\n",
    "* 샘플링 편향: 표본 추출 방법이 잘못되어 한 쪽으로 쏠린 대표성이 없는 데이터\n",
    "\n",
    "* 예제: 1인당 GDP와 삶의 만족도 관계\n",
    "    - 잡음: 빨강 네모 데이터가 추가 될 경우 선형 모델 달라짐.\n",
    "    - 편향: OECD 국가중에서 이름에 영어 알파벳 W가 포함된 국가들은 삶의 만족도가 매우 높음. 하지만 일반화는 불가능.\n",
    "\n",
    "<div align=\"center\"><img src=\"https://github.com/codingalzi/handson-ml3/blob/master/jupyter-book/imgs/ch01/homl01-21.png?raw=true\" style=\"width:600px;\"></div>"
   ]
  },
  {
   "cell_type": "markdown",
   "metadata": {
    "colab_type": "text",
    "id": "iLTMwk-sOFXQ",
    "slideshow": {
     "slide_type": "slide"
    }
   },
   "source": [
    "**낮은 품질의 데이터 처리**\n",
    "\n",
    "* 이상치 샘플이라면 고치거나 무시\n",
    "\n",
    "* 특성이 누락되었다면\n",
    "    * 해당 특성을 제외\n",
    "    * 해당 샘플을 제외\n",
    "    * 누락된 값을 채움\n",
    "    * 해당 특성을 넣은 경우와 뺀 경우 각기 모델을 훈련"
   ]
  },
  {
   "cell_type": "markdown",
   "metadata": {
    "colab_type": "text",
    "id": "iLTMwk-sOFXQ",
    "slideshow": {
     "slide_type": "slide"
    }
   },
   "source": [
    "**관련이 없는 특성**\n",
    "\n",
    "* 풀려는 문제에 관련이 높은 특성을 찾아야 함\n",
    "\n",
    "* 특성 선택: 준비되어 있는 특성 중 가장 유용한 특성을 찾음\n",
    "\n",
    "* 특성 추출: 특성을 조합하여 새로운 특성을 만듦"
   ]
  },
  {
   "cell_type": "markdown",
   "metadata": {
    "colab_type": "text",
    "id": "iLTMwk-sOFXQ",
    "slideshow": {
     "slide_type": "slide"
    }
   },
   "source": [
    "**과대 적합**\n",
    "\n",
    "* 훈련 세트에 특화되어 일반화 성능이 떨어지는 현상\n",
    "\n",
    "<div align=\"center\"><img src=\"https://github.com/codingalzi/handson-ml3/blob/master/jupyter-book/imgs/ch01/homl01-22.png?raw=true\" style=\"width:550px;\"></div>\n",
    "\n",
    "* 규제를 적용해 과대적합을 감소시킬 수 있음 \n",
    "\n",
    "* 파라미터를 조정되는 과정에 규제 적용\n",
    "\n",
    "* 파랑 점선이 규제를 적용해 훈련된 선형 모델임."
   ]
  },
  {
   "cell_type": "markdown",
   "metadata": {},
   "source": [
    "<div align=\"center\"><img src=\"https://github.com/codingalzi/handson-ml3/blob/master/jupyter-book/imgs/ch01/homl01-23.png?raw=true\" style=\"width:550px;\"></div>"
   ]
  },
  {
   "cell_type": "markdown",
   "metadata": {
    "colab_type": "text",
    "id": "iLTMwk-sOFXQ",
    "slideshow": {
     "slide_type": "slide"
    }
   },
   "source": [
    "**과소 적합**\n",
    "\n",
    "* 모델이 너무 단순해서 훈련 세트를 잘 학습하지 못함\n",
    "\n",
    "<div align=\"center\"><img src=\"https://github.com/codingalzi/handson-ml3/blob/master/jupyter-book/imgs/ch04/homl04-06.png?raw=true\" style=\"width:400px;\"></div>\n",
    "\n",
    "* 해결 방법\n",
    "    * 보다 많은 모델 파라미터를 사용하는 모델 적용\n",
    "    * 보다 좋은 특성 활용\n",
    "    * 보다 규제 강도 적용"
   ]
  },
  {
   "cell_type": "markdown",
   "metadata": {
    "colab_type": "text",
    "id": "iLTMwk-sOFXQ",
    "slideshow": {
     "slide_type": "slide"
    }
   },
   "source": [
    "## 테스트와 검증"
   ]
  },
  {
   "cell_type": "markdown",
   "metadata": {
    "slideshow": {
     "slide_type": "slide"
    }
   },
   "source": [
    "### 검증"
   ]
  },
  {
   "cell_type": "markdown",
   "metadata": {
    "slideshow": {
     "slide_type": ""
    }
   },
   "source": [
    "* 훈련된 모델의 성능 평가: 테스트 세트 활용\n",
    "\n",
    "* 전체 데이터셋을 훈련 세트(80%)와 테스트 세트(20%)로 구분\n",
    "    * 훈련 세트: 모델 훈련용.\n",
    "    * 테스트 세트: 모델 테스트용\n",
    "    * 데이터셋이 매우 크면 테스트 세트 비율을 낮출 수 있음.\n",
    "\n",
    "* 검증 기준: __일반화 오차__\n",
    "    * 새로운 샘플에 대한 오류 비율\n",
    "    * 학습된 모델의 일반화 성능의 기준\n",
    "\n",
    "* 과대 적합: 훈련 오차에 비해 일반화 오차가 높은 경우"
   ]
  },
  {
   "cell_type": "markdown",
   "metadata": {
    "colab_type": "text",
    "id": "iLTMwk-sOFXQ",
    "slideshow": {
     "slide_type": "slide"
    }
   },
   "source": [
    "### 하이퍼파라미터(hyper-parameter)"
   ]
  },
  {
   "cell_type": "markdown",
   "metadata": {
    "colab_type": "text",
    "id": "iLTMwk-sOFXQ",
    "slideshow": {
     "slide_type": ""
    }
   },
   "source": [
    "* 알고리즘 학습 모델을 지정에 사용되는 파라미터\n",
    "\n",
    "* 훈련 과정에 변하는 파라미터가 아님\n",
    "\n",
    "* 하이퍼파라미터를 조절하면서 가장 좋은 성능의 모델 선정"
   ]
  },
  {
   "cell_type": "markdown",
   "metadata": {
    "colab_type": "text",
    "id": "iLTMwk-sOFXQ",
    "slideshow": {
     "slide_type": ""
    }
   },
   "source": [
    "### 교차 검증"
   ]
  },
  {
   "cell_type": "markdown",
   "metadata": {
    "slideshow": {
     "slide_type": ""
    }
   },
   "source": [
    "* 예비표본(홀드아웃, holdout) 검증\n",
    "    * 예비표본(검증세트): 훈련 세트의 일부로 만들어진 데이터셋\n",
    "    * 다양한 하이퍼파라미터 값을 사용하는 후보 모델을 평가하는 용도로 예비표본을 활용하는 기법\n",
    "\n",
    "* 교차 검증\n",
    "    * 여러 개의 검증세트를 사용한 반복적인 예비표본 검증 적용 기법\n",
    "    * 장점: 교차 검증 후 모든 모델의 평가를 평균하면 훨씬 정확한 성능 측정 가능\n",
    "    * 단점: 훈련 시간이 검증 세트의 개수에 비례해 늘어남"
   ]
  },
  {
   "cell_type": "markdown",
   "metadata": {
    "slideshow": {
     "slide_type": "slide"
    }
   },
   "source": [
    "### 검증 예제: 데이터 불일치"
   ]
  },
  {
   "cell_type": "markdown",
   "metadata": {
    "slideshow": {
     "slide_type": ""
    }
   },
   "source": [
    "* 모델 훈련에 사용된 데이터가 실전에 사용되는 데이터를 완벽하게 대변하지 못하는 경우\n",
    "\n",
    "* 예제: 꽃이름 확인 알고리즘 \n",
    "    * 인터넷으로 구한 꽃사진으로 모델 훈련\n",
    "    * 이후 직접 촬영한 사진으로 진행한 성능측정이 낮게 나오면 __데이터 불일치__ 가능성 높음\n",
    "\n",
    "* 데이터 불일치 여부 확인 방법\n",
    "    * 훈련-개발 세트: 예를 들어, 인터넷에서 다운로드한 꽃사진의 일부로 이루어진 데이터셋\n",
    "    * 훈련-개발 세트를 제외한 나머지 꽃사진으로 모델 훈련 후, 훈련-개발 세트를 이용한 성능 평가 진행\n",
    "\n",
    "* 훈련-개발 세트에 대한 평가가 좋은 경우: 과대적합 아님\n",
    "    * 훈련-개발 세티트에 평가는 좋지만 (실제 찍은 사진으로 이루어진) 검증 세트에 대한 평가 나쁜 경우: 데이터 불일치\n",
    "    * 다운로드한 사진을 실제 찍은 사진처럼 보이도록 전처리 한 후에 다시 훈련시키면 성능 향상시킬 수 있음.\n",
    "\n",
    "* 훈련-개발 세트에 대한 평가가 나쁜 경우: 과대적합\n",
    "    * 모델에 규제를 적용하거나 더 많은 훈련 데이터 활용해야 함."
   ]
  }
 ],
 "metadata": {
  "colab": {
   "collapsed_sections": [],
   "name": "핸즈온머신러닝_1장.ipynb",
   "provenance": []
  },
  "kernelspec": {
   "display_name": "Python 3 (ipykernel)",
   "language": "python",
   "name": "python3"
  },
  "language_info": {
   "codemirror_mode": {
    "name": "ipython",
    "version": 3
   },
   "file_extension": ".py",
   "mimetype": "text/x-python",
   "name": "python",
   "nbconvert_exporter": "python",
   "pygments_lexer": "ipython3",
   "version": "3.9.7"
  }
 },
 "nbformat": 4,
 "nbformat_minor": 1
}
