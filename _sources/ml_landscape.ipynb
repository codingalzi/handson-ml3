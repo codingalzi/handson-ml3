{
 "cells": [
  {
   "cell_type": "markdown",
   "metadata": {
    "slideshow": {
     "slide_type": "slide"
    }
   },
   "source": [
    "(ch:ml_landscape)=\n",
    "# 한눈에 보는 머신러닝"
   ]
  },
  {
   "cell_type": "markdown",
   "metadata": {
    "slideshow": {
     "slide_type": "slide"
    }
   },
   "source": [
    "**감사의 글**\n",
    "\n",
    "자료를 공개한 저자 오렐리앙 제롱과 강의자료를 지원한 한빛아카데미에게 진심어린 감사를 전합니다."
   ]
  },
  {
   "cell_type": "markdown",
   "metadata": {},
   "source": [
    "**소스코드**\n",
    "\n",
    "본문 내용의 일부를 파이썬으로 구현한 내용은 \n",
    "[(구글코랩) 한눈에 보는 머신러닝](https://colab.research.google.com/github/codingalzi/handson-ml3/blob/master/notebooks/code_ml_landscape.ipynb)에서 \n",
    "확인할 수 있다."
   ]
  },
  {
   "cell_type": "markdown",
   "metadata": {},
   "source": [
    "**슬라이드**\n",
    "\n",
    "본문 내용을 요약한\n",
    "[슬라이드](https://github.com/codingalzi/handson-ml3/raw/master/slides/slides-ml_landscape.pdf)를\n",
    "다운로드할 수 있다."
   ]
  },
  {
   "cell_type": "markdown",
   "metadata": {
    "colab_type": "text",
    "id": "pRmg1s6N9ona",
    "slideshow": {
     "slide_type": "slide"
    }
   },
   "source": [
    "## 머신러닝이란?"
   ]
  },
  {
   "cell_type": "markdown",
   "metadata": {
    "colab_type": "text",
    "id": "pRmg1s6N9ona",
    "slideshow": {
     "slide_type": "slide"
    }
   },
   "source": [
    "**아서 새뮤얼<font size=\"2\">Artuhr Samuel</font> (1959)**\n",
    "\n",
    "> 컴퓨터 프로그램을 명시적으로 구현하는 대신 컴퓨터 스스로 학습하는 능력를\n",
    "    갖도록 하는 연구 분야\n",
    "\n",
    "**톰 미첼<font size=\"2\">Tom Mitchell</font> (1977)**\n",
    "\n",
    "> **과제** T에 대한 프로그램의 **성능** P가 **경험** E를 통해 향상되면\n",
    "> 해당 **프로그램이 경험 E를 통해 학습한다** 라고 말한다."
   ]
  },
  {
   "cell_type": "markdown",
   "metadata": {},
   "source": [
    ":::{prf:example} 스팸 필터\n",
    ":label: spam_filter\n",
    "\n",
    "스팸<font size=\"2\">spam</font> 메일과 아닌 메일<font size=\"2\">ham</font>의 구분법을 \n",
    "머신러닝으로 학습시킬 수 있으며, 톰 미첼의 머신러닝 정의와 관련해서 다음이 성립한다.\n",
    "\n",
    "- 과제 T = 새로운 메일의 스팸 여부 판단\n",
    "- 경험 E = 훈련셋, 즉 훈련용 데이터셋에 포함된 데이터 샘플\n",
    "- 성능 P = 스팸 여부 판단의 정확도\n",
    ":::"
   ]
  },
  {
   "cell_type": "markdown",
   "metadata": {
    "colab_type": "text",
    "id": "pRmg1s6N9ona",
    "slideshow": {
     "slide_type": "slide"
    }
   },
   "source": [
    "## 머신러닝 활용"
   ]
  },
  {
   "cell_type": "markdown",
   "metadata": {
    "colab_type": "text",
    "id": "pRmg1s6N9ona",
    "slideshow": {
     "slide_type": "slide"
    }
   },
   "source": [
    "### 전통적 프로그래밍"
   ]
  },
  {
   "cell_type": "markdown",
   "metadata": {
    "colab_type": "text",
    "id": "pRmg1s6N9ona",
    "slideshow": {
     "slide_type": ""
    }
   },
   "source": [
    "전통적 프로그래밍 다음 과정으로 진행된다.\n",
    "\n",
    "1. 문제 연구: 문제 해결 알고리즘 연구\n",
    "1. 규칙 작성: 알고리즘 규현\n",
    "1. 평가: 구현된 프로그램 테스트\n",
    "    * 테스트 통과: 프로그램 론칭\n",
    "    * 테스트 실패: 오차 분석 후 1 단계로 이동\n",
    "\n",
    "<div align=\"center\"><img src=\"https://github.com/codingalzi/handson-ml3/blob/master/jupyter-book/imgs/ch01/homl01-01.png?raw=true\" style=\"width:400px;\"></div>"
   ]
  },
  {
   "cell_type": "markdown",
   "metadata": {
    "colab_type": "text",
    "id": "pRmg1s6N9ona",
    "slideshow": {
     "slide_type": "slide"
    }
   },
   "source": [
    ":::{prf:example} 전통적 프로그래밍 스팸 메일 분류\n",
    ":label: spam_classification\n",
    "\n",
    "* 특정 단어가 들어가면 스팸 메일로 처리.\n",
    "* 프로그램이 론칭된 후 새로운 스팸단어가 사용될 때 스팸 메일 분류 실패.\n",
    "* 개발자가 새로운 규칙을 매번 업데이트 시켜줘야 함.\n",
    "* 새로운 규칙이 생겼을 때 사용자가 매번 업데이트를 시켜줘야하기 때문에 유지 보수가 어려움.\n",
    ":::"
   ]
  },
  {
   "cell_type": "markdown",
   "metadata": {
    "colab_type": "text",
    "id": "pRmg1s6N9ona",
    "slideshow": {
     "slide_type": "slide"
    }
   },
   "source": [
    "### 머신러닝 프로그래밍"
   ]
  },
  {
   "cell_type": "markdown",
   "metadata": {
    "colab_type": "text",
    "id": "pRmg1s6N9ona",
    "slideshow": {
     "slide_type": "slide"
    }
   },
   "source": [
    "스팸으로 지정된 메일에 \"광고\", \"투^^자\", \"무&#10084;료\" 등의 표현이 \n",
    "자주 등장하는 경우 새로운 메일에 그런 표현이 사용되면 \n",
    "자동으로 스팸으로 분류하도록 스스로 학습하는 프로그램을 작성한다.\n",
    "\n",
    "<p><div align=\"center\"><img src=\"https://github.com/codingalzi/handson-ml3/blob/master/jupyter-book/imgs/ch01/homl01-02.png?raw=true\" style=\"width:420px;\"></div></p>"
   ]
  },
  {
   "cell_type": "markdown",
   "metadata": {
    "slideshow": {
     "slide_type": "slide"
    }
   },
   "source": [
    "**머신러닝 프로그램 학습 과정의 자동화**\n",
    "\n",
    "머신러닝 프로그램을 학습시키는 과정을 관장하는 __머신러닝 파이프라인__ \n",
    "또는 __MLOps(Machine Learning Operations, 머신러닝 운영)__ 의\n",
    "자동화가 가능하다.\n",
    "\n",
    "<p><div align=\"center\"><img src=\"https://github.com/codingalzi/handson-ml3/blob/master/jupyter-book/imgs/ch01/homl01-03.png?raw=true\" style=\"width:440px;\"></div></p>"
   ]
  },
  {
   "cell_type": "markdown",
   "metadata": {
    "slideshow": {
     "slide_type": "slide"
    }
   },
   "source": [
    "**머신러닝 프로그래밍의 장점**\n",
    "\n",
    "* 스팸 메일 분류기 처럼 알고리즘에 대한 너무 많은 세부 튜닝과\n",
    "    매우 긴 규칙을 요구하는 문제를 해결할 수 있다.\n",
    "* 음성 인식 등 전통적인 방식으로 해결하기에 너무 복잡한 문제를 해결할 수 있다.\n",
    "* 새로운 데이터에 바로 적용이 가능한 시스템을 쉽게 재훈련할 수 있다.\n",
    "* 머신러닝 프로그램으로 생성된 솔루션 분석을 통해 \n",
    "    데이터에 대한 통찰을 얻을 수 있다. \n",
    "\n",
    "<p><div align=\"center\"><img src=\"https://github.com/codingalzi/handson-ml3/blob/master/jupyter-book/imgs/ch01/homl01-04.png?raw=true\" style=\"width:440px;\"></div></p>"
   ]
  },
  {
   "cell_type": "markdown",
   "metadata": {
    "colab_type": "text",
    "id": "NuA531GRDIUB",
    "slideshow": {
     "slide_type": "slide"
    }
   },
   "source": [
    "## 머신러닝 시스템 유형"
   ]
  },
  {
   "cell_type": "markdown",
   "metadata": {
    "colab_type": "text",
    "id": "NuA531GRDIUB",
    "slideshow": {
     "slide_type": "slide"
    }
   },
   "source": [
    "머신러닝 시스템의 유형을 다양한 기준으로 분류할 수 있다."
   ]
  },
  {
   "cell_type": "markdown",
   "metadata": {
    "colab_type": "text",
    "id": "NuA531GRDIUB",
    "slideshow": {
     "slide_type": ""
    }
   },
   "source": [
    "1. 훈련 지도 여부\n",
    "    * 지도 학습\n",
    "    * 비지도 학습\n",
    "    * 준지도 학습\n",
    "    * 자기주도 학습\n",
    "    * 강화 학습\n",
    "1. 실시간 훈련 여부\n",
    "    * 배치 학습\n",
    "    * 온라인 학습\n",
    "1. 예측 모델 사용 여부\n",
    "    * 사례 기반 학습\n",
    "    * 모델 기반 학습"
   ]
  },
  {
   "cell_type": "markdown",
   "metadata": {
    "slideshow": {
     "slide_type": ""
    }
   },
   "source": [
    ":::{admonition} 분류 기준 적용\n",
    ":class: tip\n",
    "\n",
    "언급된 분류 기준이 상호 배타적이지 않다. \n",
    "예를 들어, 신경망을 활용하는 스팸 필터 프로그램은 아래 언급된 방식을 모두 사용할 수 있다.\n",
    "- 지도 학습: 스팸 메일과 스팸이 아닌 메일로 이루어진 훈련셋으로 모델 학습 진행\n",
    "- 온라인 학습: 실시간 학습 가능\n",
    "- 모델 기반 학습: 훈련 결과로 생성된 모델을 이용하여 스팸 여부 판단\n",
    ":::"
   ]
  },
  {
   "cell_type": "markdown",
   "metadata": {
    "colab_type": "text",
    "id": "iLTMwk-sOFXQ",
    "slideshow": {
     "slide_type": "slide"
    }
   },
   "source": [
    "## 머신러닝 모델 훈련의 어려움"
   ]
  },
  {
   "cell_type": "markdown",
   "metadata": {},
   "source": [
    "머신러닝 모델을 훈련할 때 경험할 수 있는 어려운 점들을 살펴본다.\n",
    "기본적으로 훈련에 사용되는 훈련 데이터 또는 훈련 알고리즘 둘 중에 하나에 기인한다. "
   ]
  },
  {
   "cell_type": "markdown",
   "metadata": {},
   "source": [
    "**데이터 문제**\n",
    "\n",
    "- 충분치 않은 양의 훈련 데이터: 머신러닝 알고리즘을 제대로 학습시키려면 많은 양의 데이터가 필요하다.\n",
    "    이미지 분류, 자연어 처리 등의 문제는 수백, 수천만, 수억, 수십억 개가 필요할 수도 있다.\n",
    "\n",
    "- 대표성 없는 훈련 데이터: 편향되거나 잘못 측정된 노이즈<font size='2'>noise</font> 등 \n",
    "    머신러닝 알고리즘에 나쁜 영향을 미치는 데이터가 포함될 수 있다. \n",
    "\n",
    "- 특성 공학: 해결하는 문제에 관련이 높은 데이터의 특성을 파악해야 한다."
   ]
  },
  {
   "cell_type": "markdown",
   "metadata": {},
   "source": [
    "**알고리즘 문제**\n",
    "\n",
    "- 과대 적합: 모델이 훈련 과정에서 훈련셋에 특화되어 실전에서의 성능이 떨어지는 현상\n",
    "\n",
    "- 과소 적합: 훈련되는 모델이 과제를 해결하기에 적절하지 못해서 훈련 성능이 않좋은 현상"
   ]
  },
  {
   "cell_type": "markdown",
   "metadata": {
    "colab_type": "text",
    "id": "uF34iJhTHiSr",
    "slideshow": {
     "slide_type": "slide"
    }
   },
   "source": [
    "(sec:model_based_learning)=\n",
    "## 예제: 선형 모델 훈련"
   ]
  },
  {
   "cell_type": "markdown",
   "metadata": {
    "colab_type": "text",
    "id": "uF34iJhTHiSr",
    "slideshow": {
     "slide_type": ""
    }
   },
   "source": [
    "OECD(경제협력개발기구) 국가의 1인당 GDP(국내 총생산)와 삶의 만족도 사이의 관계를 \n",
    "확인하려 한다.\n",
    "여기서는 2015년 기준으로 OECD에 속한 36개 국가의 데이터를 이용한다. \n",
    "아래 표는 그중 5개 국가의 1인당 GDP와 삶의 만족도를 보여준다. "
   ]
  },
  {
   "cell_type": "markdown",
   "metadata": {},
   "source": [
    "| 국가 | 1인당 GDP(미국 달러) | 삶의 만족도 |\n",
    "| :--- | :--- | :--- |\n",
    "| 헝가리 | 12,240 | 4.9 |\n",
    "| 한국 | 27,195 | 5.8 |\n",
    "| 프랑스 | 37,675 | 6.5 |\n",
    "| 호주 | 50,9672 | 7.3 |\n",
    "| 미국 | 55,805 | 7.2 |"
   ]
  },
  {
   "cell_type": "markdown",
   "metadata": {
    "colab_type": "text",
    "id": "uF34iJhTHiSr",
    "slideshow": {
     "slide_type": ""
    }
   },
   "source": [
    "아래 그래프는\n",
    "36개 국가 전체를 대상으로 1인당 GDP와 삶의 만족도를 이용한\n",
    "산점도<font size=\"2\">scatter plot</font>이다. \n",
    "1인당 GDP가 증가할 수록 삶의 만족도가 \n",
    "**선형적**<font size=\"2\">linear</font>으로 증가하는 것처럼 보인다.\n",
    "\n",
    "<p><div align=\"center\"><img src=\"https://github.com/codingalzi/handson-ml3/blob/master/jupyter-book/imgs/ch01/homl01-17.png?raw=true\" style=\"width:450px;\"></div></p>"
   ]
  },
  {
   "cell_type": "markdown",
   "metadata": {
    "colab_type": "text",
    "id": "uF34iJhTHiSr",
    "slideshow": {
     "slide_type": ""
    }
   },
   "source": [
    "위 가정을 바탕으로 1인당 GDP가 알려진 국가의 삶의 만족도를 예측하는 머신러닝 모델을 구현하려 한다.\n",
    "즉, 1인당 GDP와 삶의 만족도 사이의 관계를 설명하는 모델로 \n",
    "**선형 모델**<font size=\"2\">linear model</font>을 선택한다.\n",
    "\n",
    "이 결정에 따라 구현될 모델은 아래 모양의 일차 방정식을 이용하여 \n",
    "1인당 GDP가 주어졌을 때 해당 국가의 삶의 만족도를 예측하게 된다.\n",
    "\n",
    "$$\n",
    "\\text{삶의만족도} = \\theta_0 + (\\text{1인당GDP}) \\cdot \\theta_1\n",
    "$$"
   ]
  },
  {
   "cell_type": "markdown",
   "metadata": {
    "colab_type": "text",
    "id": "uF34iJhTHiSr",
    "slideshow": {
     "slide_type": ""
    }
   },
   "source": [
    "예를 들어, 아래 이미지는 적절하지 않은 후보들을 보여준다.\n",
    "\n",
    "<p><div align=\"center\"><img src=\"https://github.com/codingalzi/handson-ml3/blob/master/jupyter-book/imgs/ch01/homl01-18.png?raw=true\" style=\"width:450px;\"></div></p>"
   ]
  },
  {
   "cell_type": "markdown",
   "metadata": {
    "colab_type": "text",
    "id": "uF34iJhTHiSr",
    "slideshow": {
     "slide_type": ""
    }
   },
   "source": [
    "반면에 아래 이미지는 매우 적절한 $\\theta_0$와 $\\theta_1$를 보여준다.\n",
    "\n",
    "<p><div align=\"center\"><img src=\"https://github.com/codingalzi/handson-ml3/blob/master/jupyter-book/imgs/ch01/homl01-19.png?raw=true\" style=\"width:450px;\"></div></p>"
   ]
  },
  {
   "cell_type": "markdown",
   "metadata": {
    "colab_type": "text",
    "id": "uF34iJhTHiSr",
    "slideshow": {
     "slide_type": ""
    }
   },
   "source": [
    "지정된 선형 모델은\n",
    "1인당 GDP가 주어졌을 때 해당 국가의 삶의 만족도를 최대한 정확하게 계산하는\n",
    "**최선**의 $\\theta_0$와 $\\theta_1$를 \n",
    "주어진 훈련셋을 대상으로 반복된 훈련을 통해 찾아낸다. "
   ]
  },
  {
   "cell_type": "markdown",
   "metadata": {},
   "source": [
    "## 연습문제"
   ]
  },
  {
   "cell_type": "markdown",
   "metadata": {},
   "source": [
    "참고: [(실습) 한눈에 보는 머신러닝](https://colab.research.google.com/github/codingalzi/handson-ml3/blob/master/practices/practice_ml_landscape.ipynb)"
   ]
  }
 ],
 "metadata": {
  "colab": {
   "collapsed_sections": [],
   "name": "핸즈온머신러닝_1장.ipynb",
   "provenance": []
  },
  "kernelspec": {
   "display_name": "Python 3 (ipykernel)",
   "language": "python",
   "name": "python3"
  },
  "language_info": {
   "codemirror_mode": {
    "name": "ipython",
    "version": 3
   },
   "file_extension": ".py",
   "mimetype": "text/x-python",
   "name": "python",
   "nbconvert_exporter": "python",
   "pygments_lexer": "ipython3",
   "version": "3.11.5"
  }
 },
 "nbformat": 4,
 "nbformat_minor": 1
}
