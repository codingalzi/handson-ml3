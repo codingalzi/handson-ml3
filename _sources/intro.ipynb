{
 "cells": [
  {
   "cell_type": "markdown",
   "metadata": {
    "slideshow": {
     "slide_type": "slide"
    }
   },
   "source": [
    "# 강의 소개"
   ]
  },
  {
   "cell_type": "markdown",
   "metadata": {},
   "source": [
    "**감사의 글**\n",
    "\n",
    "여기서 소개하는 내용은 오렐리앙 제롱의 \n",
    "[Hands-on Machine Learning (3판)](https://www.oreilly.com/library/view/hands-on-machine-learning/9781098125967/)의 \n",
    "[주피터 노트북](https://github.com/ageron/handson-ml3)을 활용한 머신러닝 기초 강의노트입니다. "
   ]
  },
  {
   "cell_type": "markdown",
   "metadata": {},
   "source": [
    "**머시러닝/딥러닝**"
   ]
  },
  {
   "cell_type": "markdown",
   "metadata": {
    "slideshow": {
     "slide_type": "slide"
    }
   },
   "source": [
    "머신러닝/딥러닝 기술이 획기적으로 발전하면서 데이터 분석 및 인공지능 관련 연구의 \n",
    "중요성이 사회, 경제, 산업의 거의 모든 분야에 지대한 영향을 미치고 있으며,\n",
    "앞으로 그런 경향이 더욱 강화될 것으로 기대된다.\n",
    "\n",
    "본 강의는 머신러닝/딥러닝 기본 아이디어와 다양한 활용법을 실전 예제와 함께 전달한다. \n",
    "머신러닝/딥러닝 학습을 위해 아래 분야의 기초지식이 요구되지만 여기서는 필요한 최소의 내용만 다룬다.\n",
    "\n",
    "- 파이썬 프로그래밍\n",
    "- 파이썬 데이터분석\n",
    "- 선형대수, 확률과통계"
   ]
  },
  {
   "cell_type": "markdown",
   "metadata": {
    "slideshow": {
     "slide_type": "slide"
    }
   },
   "source": [
    "**인공지능, 머신러닝, 딥러닝, 데이터 과학**"
   ]
  },
  {
   "cell_type": "markdown",
   "metadata": {},
   "source": [
    "인공지능, 머신러닝, 딥러닝을 간략하게 정의하면 다음과 같다.\n",
    "\n",
    "* 인공지능: 사고<font size='2'>thinking</font>, 학습<font size='2'>learning</font> 등 \n",
    "    인간의 지적능력을 컴퓨터가 모방하는 기술 또는 관련 연구\n",
    "* 머신러닝: 컴퓨터가 데이터로부터 스스로 정보를 추출하도록 하는 기법 또는 관련 연구\n",
    "* 딥러닝: 심층 신경망을 이용하여 컴퓨터 비전, 자연어 처리, 게임, 자율 주행  등 보다 복잡한 \n",
    "    문제를 해결하는 머신러닝 기법 또는 관련 연구"
   ]
  },
  {
   "cell_type": "markdown",
   "metadata": {},
   "source": [
    "역사적 관점에서 바라본 인공지능, 머신러닝, 딥러닝의 관계는 다음과 같다.\n",
    "\n",
    "<div align=\"center\"><img src=\"https://raw.githubusercontent.com/codingalzi/datapy/master/jupyter-book//images/ai-ml-relation2.png\" style=\"width:600px;\"></div>\n",
    "\n",
    "<p><div style=\"text-align: center\">&lt;그림 출처: <a href=\"https://blogs.nvidia.com/blog/2016/07/29/whats-difference-artificial-intelligence-machine-learning-deep-learning-ai/\">NVIDIA 블로그</a>&gt;</div></p>"
   ]
  },
  {
   "cell_type": "markdown",
   "metadata": {},
   "source": [
    "데이터 과학과 인공지능, 머신러닝, 딥러닝의 관계는 아래 그림으로 설명된다.\n",
    "<div align=\"center\"><img src=\"https://raw.githubusercontent.com/codingalzi/datapy/master/jupyter-book/images/ai-ml-relation.png\" style=\"width:500px;\"></div>\n",
    "\n",
    "<p><div style=\"text-align: center\">&lt;그림 출처: <a href=\"http://www.kyobobook.co.kr/readIT/readITColumnView.laf?thmId=00198&sntnId=14142\">교보문고: 에이지 오브 머신러닝</a>&gt;</div></p>"
   ]
  },
  {
   "cell_type": "markdown",
   "metadata": {},
   "source": [
    "**파이썬 프로그래밍 언어**"
   ]
  },
  {
   "cell_type": "markdown",
   "metadata": {},
   "source": [
    "프로그래밍 실습에 사용되는 파이썬<font size='2'>Python</font>은 현재 데이터 분석 및 머신러닝 분야에서 \n",
    "가장 많이 사용되는 프로그래밍언어이다.\n",
    "\n",
    "또한 수 많은 프로그래밍언어 중에서 현재 가장 많이 사람들 사이에서 회자되고 있다. \n",
    "아래 사진은 2024년 2월 기준 인터넷 검색 엔진에서 언급된 빈도를 측정한\n",
    "[TIOBE Index](https://www.tiobe.com/tiobe-index/)의 상위 결과를 보여준다.\n",
    "\n",
    "<p><div align=\"center\"><img src=\"https://raw.githubusercontent.com/codingalzi/pybook/master/jupyter-book/images/tiobe-index.jpg\" style=\"width:750px\"></div></p>"
   ]
  },
  {
   "cell_type": "markdown",
   "metadata": {},
   "source": [
    "**파이썬 주요 라이브러리**"
   ]
  },
  {
   "cell_type": "markdown",
   "metadata": {},
   "source": [
    "파이썬이 데이터 과학 분야에서 인기가 높은 이유는 다음과 같다.\n",
    "\n",
    "* 범용 프로그래밍언어\n",
    "* R, 매트랩, SQL, 엑셀 등 특정 분야에서 유용하게 사용되는 언어들의 기능 지원\n",
    "* 수치 해석, 통계, 확률 등에 유용한 라이브러리 제공\n",
    "    * [싸이파이<font size='2'>SciPy</font>](https://scipy.org)\n",
    "    * [스탯츠모델즈<font size='2'>statsmodels</font>](https://www.statsmodels.org/stable/index.html)\n",
    "* 데이터 처리, 시각화 등에 필요한 라이브러리 제공\n",
    "    * [넘파이<font size='2'>NumPy</font>](https://numpy.org)\n",
    "    * [판다스<font size='2'>Pandas</font>](https://pandas.pydata.org)\n",
    "    * [맷플롯립<font size='2'>Matplotlib</font>](https://matplotlib.org)\n",
    "* 머신러닝, 데이터 분석 등에 활용될 수 있는 라이브러리 및 도구의 지속적 개발\n",
    "    * [사이킷런<font size='2'>scikit-learn</font>](https://scikit-learn.org/)\n",
    "    * [텐서플로우<font size='2'>TensorFlow</font>](https://www.tensorflow.org/)\n",
    "    * [케라스<font size='2'>Keras</font>](https://keras.io/)\n",
    "    * [파이토치<font size='2'>PyTorch</font>](https://keras.io/)    "
   ]
  },
  {
   "cell_type": "markdown",
   "metadata": {},
   "source": [
    "[Stack Overflow 개발자 설문조사 2023](https://survey.stackoverflow.co/2023/)에 따르면\n",
    "개발자로서 가장 배우고 싶어하는 라이브러리로 파이썬의 데이터과학 관련 라이브러리가\n",
    "높은 우선 순위를 갖는다.\n",
    "여기서는 머신러닝의 기본 모델과 훈련을 지원하는 사이킷런<font size='2'>scikit-learn</font>을 주로 다룬다."
   ]
  },
  {
   "cell_type": "markdown",
   "metadata": {},
   "source": [
    "<div align=\"center\"><img src=\"https://raw.githubusercontent.com/codingalzi/datapy/master/jupyter-book/images/wanted_languages.jpg\" style=\"width:450px\"></div>"
   ]
  }
 ],
 "metadata": {
  "kernelspec": {
   "display_name": "Python 3 (ipykernel)",
   "language": "python",
   "name": "python3"
  },
  "language_info": {
   "codemirror_mode": {
    "name": "ipython",
    "version": 3
   },
   "file_extension": ".py",
   "mimetype": "text/x-python",
   "name": "python",
   "nbconvert_exporter": "python",
   "pygments_lexer": "ipython3",
   "version": "3.11.5"
  }
 },
 "nbformat": 4,
 "nbformat_minor": 2
}
