{
 "cells": [
  {
   "cell_type": "markdown",
   "metadata": {
    "slideshow": {
     "slide_type": "slide"
    }
   },
   "source": [
    "# 강의 소개"
   ]
  },
  {
   "cell_type": "markdown",
   "metadata": {
    "slideshow": {
     "slide_type": "slide"
    }
   },
   "source": [
    "* 머신러닝/딥러닝 기술이 획기적으로 발전하면서 데이터 분석 및 인공지능 관련 연구의 \n",
    "    중요성이 사회, 경제, 산업의 거의 모든 분야에 지대한 영향을 미치고 있으며,\n",
    "    앞으로 그런 경향이 더욱 강화될 것으로 기대된다."
   ]
  },
  {
   "cell_type": "markdown",
   "metadata": {
    "slideshow": {
     "slide_type": "fragment"
    }
   },
   "source": [
    "* 본 강의는 머신러닝/딥러닝 기본 아이디어와 다양한 활용법을 실전 예제와 \n",
    "    함께 전달한다. "
   ]
  },
  {
   "cell_type": "markdown",
   "metadata": {
    "slideshow": {
     "slide_type": "fragment"
    }
   },
   "source": [
    "* 머신러닝/딥러닝 학습을 위해 아래 분야의 기초지식이 요구되지만\n",
    "    미적분학, 선형대수, 확률과통계 관련 이론은 여기서는 필요한 최소의 내용만 다룬다.\n",
    "\n",
    "    * 파이썬 프로그래밍\n",
    "    * 미적분학, 선형대수, 확률과통계"
   ]
  },
  {
   "cell_type": "markdown",
   "metadata": {
    "slideshow": {
     "slide_type": "slide"
    }
   },
   "source": [
    "## 데이터 과학, 인공지능, 머신러닝, 딥러닝"
   ]
  },
  {
   "cell_type": "markdown",
   "metadata": {
    "slideshow": {
     "slide_type": ""
    }
   },
   "source": [
    "<img src=\"https://github.com/codingalzi/handson-ml3/blob/master/jupyter-book/imgs/ai-ml-relation.png?raw=true\" style=\"width:500px;\">\n",
    "\n",
    "그림 출처: [교보문고: 에이지 오브 머신러닝](http://www.kyobobook.co.kr/readIT/readITColumnView.laf?thmId=00198&sntnId=14142)"
   ]
  },
  {
   "cell_type": "markdown",
   "metadata": {
    "slideshow": {
     "slide_type": "fragment"
    }
   },
   "source": [
    "* 데이터 과학: 주어진 데이터로부터 수학과 통계 지식을 활용하여 필요한 정보를 추출하는 학문 분야\n",
    "* 인공지능: 사고(thinking), 학습(learning) 등 인간의 지적능력을 컴퓨터를 통해 구현하는 \n",
    "    기술 또는 해당 연구 분야\n",
    "* 머신러닝: 컴퓨터가 데이터로부터 스스로 정보를 추출하는 기법 또는 해당 연구 분야.\n",
    "* 딥러닝: 심층 신경망 이론을 기반으로 복잡한 비선형 문제를 해결하는 머신러닝 기법 \n",
    "    또는 해당 연구 분야    "
   ]
  },
  {
   "cell_type": "markdown",
   "metadata": {
    "slideshow": {
     "slide_type": "slide"
    }
   },
   "source": [
    "역사적 관점에서 바라본 인공지능, 머신러닝, 딥러닝의 관계는 다음과 같다.\n",
    "\n",
    "<img src=\"https://github.com/codingalzi/handson-ml3/blob/master/jupyter-book/imgs/ai-ml-relation.png?raw=true\" style=\"width:600px;\">\n",
    "\n",
    "그림 출처: [NVIDIA 블로그](https://blogs.nvidia.com/blog/2016/07/29/whats-difference-artificial-intelligence-machine-learning-deep-learning-ai/)"
   ]
  },
  {
   "cell_type": "markdown",
   "metadata": {
    "slideshow": {
     "slide_type": "slide"
    }
   },
   "source": [
    "## 주요 학습내용"
   ]
  },
  {
   "cell_type": "markdown",
   "metadata": {
    "slideshow": {
     "slide_type": "slide"
    }
   },
   "source": [
    "### 1부 머신러닝"
   ]
  },
  {
   "cell_type": "markdown",
   "metadata": {
    "slideshow": {
     "slide_type": ""
    }
   },
   "source": [
    "* 한눈에 보는 머신러닝\n",
    "* 머신러닝 프로젝트 처음부터 끝까지\n",
    "* 분류\n",
    "* 모델 훈련\n",
    "* 서포트 벡터 머신\n",
    "* 결정 트리\n",
    "* 앙상블 학습과 랜덤 포레스트\n",
    "* 차원 축소\n",
    "* 비지도 학습"
   ]
  },
  {
   "cell_type": "markdown",
   "metadata": {
    "slideshow": {
     "slide_type": "slide"
    }
   },
   "source": [
    "### 2부 신경망과 딥러닝"
   ]
  },
  {
   "cell_type": "markdown",
   "metadata": {
    "slideshow": {
     "slide_type": ""
    }
   },
   "source": [
    "* 케라스를 사용한 인공 신경망 소개\n",
    "* 심층 신경망 훈련하기\n",
    "* 텐서플로우를 사용한 사용자 정의 모델과 훈련\n",
    "* 텐서플로우에서 데이터 적재와 전처리 하기\n",
    "* 합성곱 신경망을 사용한 컴퓨터 비전\n",
    "* RNN과 CNN을 사용해 시퀀스 처리하기\n",
    "* RNN과 어텐션을 사용한 자연어 처리\n",
    "* 오토인코더와 GAN을 사용한 표현 학습과 생성적 학습\n",
    "* 강화학습\n",
    "* 대규모 텐서플로우 모델 훈련과 배포"
   ]
  }
 ],
 "metadata": {
  "kernelspec": {
   "display_name": "Python 3 (ipykernel)",
   "language": "python",
   "name": "python3"
  },
  "language_info": {
   "codemirror_mode": {
    "name": "ipython",
    "version": 3
   },
   "file_extension": ".py",
   "mimetype": "text/x-python",
   "name": "python",
   "nbconvert_exporter": "python",
   "pygments_lexer": "ipython3",
   "version": "3.9.7"
  }
 },
 "nbformat": 4,
 "nbformat_minor": 2
}
